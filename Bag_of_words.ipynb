{
 "cells": [
  {
   "cell_type": "code",
   "execution_count": 1,
   "id": "f59a0854",
   "metadata": {},
   "outputs": [],
   "source": [
    "import numpy as np\n",
    "import os\n",
    "import os.path\n",
    "import cv2\n",
    "import matplotlib.pyplot as plt\n",
    "from skimage.transform import rotate\n",
    "from skimage.feature import hog\n",
    "from skimage.exposure import rescale_intensity\n",
    "import random\n",
    "from tqdm import tqdm\n",
    "\n",
    "import pandas as pd\n",
    "\n",
    "import warnings\n",
    "warnings.filterwarnings(\"ignore\")"
   ]
  },
  {
   "cell_type": "code",
   "execution_count": 2,
   "id": "0c42aa50",
   "metadata": {},
   "outputs": [],
   "source": [
    "# !pip install tqdm\n",
    "# !pip install ipywidgets"
   ]
  },
  {
   "cell_type": "code",
   "execution_count": 3,
   "id": "31cceedf",
   "metadata": {},
   "outputs": [],
   "source": [
    "dir = './Dataset_origin'"
   ]
  },
  {
   "cell_type": "code",
   "execution_count": 4,
   "id": "42e904c6",
   "metadata": {},
   "outputs": [
    {
     "data": {
      "text/plain": [
       "(117, 2)"
      ]
     },
     "execution_count": 4,
     "metadata": {},
     "output_type": "execute_result"
    }
   ],
   "source": [
    "# создадим датафрем с нашими данными.\n",
    "def create_df(directory):\n",
    "    name = []\n",
    "    for dirname, _, filenames in os.walk(directory):\n",
    "        for filename in filenames:\n",
    "            name.append([dirname.split('/')[-1], os.path.join(dirname, filename)])\n",
    "    \n",
    "    \n",
    "    return pd.DataFrame(columns = ['category', 'way'], data = name)\n",
    "\n",
    "df = create_df('./Dataset_origin')\n",
    "df.shape"
   ]
  },
  {
   "cell_type": "code",
   "execution_count": 5,
   "id": "ceb5a0f6",
   "metadata": {},
   "outputs": [],
   "source": [
    "# заменим категриальные признаки на числовые\n",
    "slovar = {}\n",
    "my_list = df['category'].unique()\n",
    "for counter, value in enumerate(my_list):\n",
    "    slovar[value] = counter\n",
    "\n",
    "df['category'] = df['category'].map(slovar)"
   ]
  },
  {
   "cell_type": "code",
   "execution_count": 6,
   "id": "6a7276eb",
   "metadata": {},
   "outputs": [
    {
     "data": {
      "text/html": [
       "<div>\n",
       "<style scoped>\n",
       "    .dataframe tbody tr th:only-of-type {\n",
       "        vertical-align: middle;\n",
       "    }\n",
       "\n",
       "    .dataframe tbody tr th {\n",
       "        vertical-align: top;\n",
       "    }\n",
       "\n",
       "    .dataframe thead th {\n",
       "        text-align: right;\n",
       "    }\n",
       "</style>\n",
       "<table border=\"1\" class=\"dataframe\">\n",
       "  <thead>\n",
       "    <tr style=\"text-align: right;\">\n",
       "      <th></th>\n",
       "      <th>category</th>\n",
       "      <th>way</th>\n",
       "    </tr>\n",
       "  </thead>\n",
       "  <tbody>\n",
       "    <tr>\n",
       "      <th>0</th>\n",
       "      <td>0</td>\n",
       "      <td>./Dataset_origin/fork/fork.jpg</td>\n",
       "    </tr>\n",
       "    <tr>\n",
       "      <th>1</th>\n",
       "      <td>0</td>\n",
       "      <td>./Dataset_origin/fork/IMG_20211120_173901.jpg</td>\n",
       "    </tr>\n",
       "    <tr>\n",
       "      <th>2</th>\n",
       "      <td>0</td>\n",
       "      <td>./Dataset_origin/fork/IMG_20211216_123250.jpg</td>\n",
       "    </tr>\n",
       "    <tr>\n",
       "      <th>3</th>\n",
       "      <td>0</td>\n",
       "      <td>./Dataset_origin/fork/IMG_20211130_220101.jpg</td>\n",
       "    </tr>\n",
       "    <tr>\n",
       "      <th>4</th>\n",
       "      <td>0</td>\n",
       "      <td>./Dataset_origin/fork/IMG_20211206_084314.jpg</td>\n",
       "    </tr>\n",
       "  </tbody>\n",
       "</table>\n",
       "</div>"
      ],
      "text/plain": [
       "   category                                            way\n",
       "0         0                 ./Dataset_origin/fork/fork.jpg\n",
       "1         0  ./Dataset_origin/fork/IMG_20211120_173901.jpg\n",
       "2         0  ./Dataset_origin/fork/IMG_20211216_123250.jpg\n",
       "3         0  ./Dataset_origin/fork/IMG_20211130_220101.jpg\n",
       "4         0  ./Dataset_origin/fork/IMG_20211206_084314.jpg"
      ]
     },
     "execution_count": 6,
     "metadata": {},
     "output_type": "execute_result"
    }
   ],
   "source": [
    "df.head()"
   ]
  },
  {
   "cell_type": "code",
   "execution_count": 7,
   "id": "91c54d21",
   "metadata": {},
   "outputs": [
    {
     "data": {
      "text/plain": [
       "category\n",
       "0    13.68\n",
       "1    20.51\n",
       "2    17.95\n",
       "3    17.09\n",
       "4    14.53\n",
       "5    16.24\n",
       "Name: way, dtype: float64"
      ]
     },
     "execution_count": 7,
     "metadata": {},
     "output_type": "execute_result"
    }
   ],
   "source": [
    "np.round(df.groupby(\"category\")[\"way\"].count() / df.shape[0] * 100, 2)"
   ]
  },
  {
   "cell_type": "markdown",
   "id": "3ecf1bdd",
   "metadata": {},
   "source": [
    "Разделим выборку на train и val в пропорции 80:20. "
   ]
  },
  {
   "cell_type": "code",
   "execution_count": 8,
   "id": "5633a8a7",
   "metadata": {},
   "outputs": [],
   "source": [
    "from sklearn.model_selection import train_test_split\n",
    "\n",
    "df_train, df_val = train_test_split(df, test_size=0.2, stratify = df[\"category\"], random_state=1)"
   ]
  },
  {
   "cell_type": "code",
   "execution_count": 9,
   "id": "3365d59e",
   "metadata": {},
   "outputs": [
    {
     "data": {
      "text/plain": [
       "((93, 2), (24, 2))"
      ]
     },
     "execution_count": 9,
     "metadata": {},
     "output_type": "execute_result"
    }
   ],
   "source": [
    "df_train.shape, df_val.shape"
   ]
  },
  {
   "cell_type": "markdown",
   "id": "a5e02906",
   "metadata": {},
   "source": [
    "К каждому изображению применим фильтр Гаусса для сглаживания, уменьшим его и нормируем яркость"
   ]
  },
  {
   "cell_type": "code",
   "execution_count": 10,
   "id": "d6b95296",
   "metadata": {},
   "outputs": [
    {
     "data": {
      "text/plain": [
       "<matplotlib.image.AxesImage at 0x7f3503d9ac40>"
      ]
     },
     "execution_count": 10,
     "metadata": {},
     "output_type": "execute_result"
    },
    {
     "data": {
      "image/png": "[encoded data removed]",
      "text/plain": [
       "<Figure size 432x288 with 1 Axes>"
      ]
     },
     "metadata": {
      "needs_background": "light"
     },
     "output_type": "display_data"
    }
   ],
   "source": [
    "def first_prepare(img):\n",
    "    # размытие (сглаживание)\n",
    "    img = cv2.GaussianBlur(img, (35, 35), 9)\n",
    "\n",
    "    \n",
    "    # уменьшим размер\n",
    "    img = cv2.resize(img, (64, 64))\n",
    "    \n",
    "    # найдем границы на изображении\n",
    "    img = cv2.Canny(np.uint8(img), 200, 300)\n",
    "    \n",
    "    # нормализуем интенсивности от 0 до 255\n",
    "    img = cv2.normalize(img, None, 0, 255, norm_type=cv2.NORM_MINMAX)\n",
    "    \n",
    "    return img\n",
    "\n",
    "img = cv2.imread(df_train.iloc[18, 1], cv2.IMREAD_GRAYSCALE)\n",
    "\n",
    "img = first_prepare(img)\n",
    "plt.imshow(img, cmap=\"gray\")"
   ]
  },
  {
   "cell_type": "markdown",
   "id": "49d9f072",
   "metadata": {},
   "source": [
    "## Аугментация изображений\n",
    "\n",
    "Аугментация будет включать в себя:\n",
    "- случайный поворот на угол от -20 до +20 градусов\n",
    "- случайное отображение относительно вертикальной оси\n",
    "\n",
    "Аугментации будем делать \"на лету\", чтобы не хранить на диске большое количество фотографий и чтобы аугментированные фотографии попадали в обучающую или валидационную выборку вместе с исходным изображением."
   ]
  },
  {
   "cell_type": "code",
   "execution_count": 11,
   "id": "a2e68246",
   "metadata": {},
   "outputs": [],
   "source": [
    "def rot(image, angle=5, scale=1.0):\n",
    "    # поворот\n",
    "    return rotate(image, angle, resize=False, mode=\"edge\") * 255\n",
    "\n",
    "def flip(image, vflip=False, hflip=False):\n",
    "    # перевернуть изображение\n",
    "    if hflip or vflip:\n",
    "        if hflip and vflip:\n",
    "            c = -1\n",
    "        else:\n",
    "            c = 0 if vflip else 1\n",
    "        image = cv2.flip(image, flipCode=c)\n",
    "    return image \n",
    "\n",
    "def color(image_name):\n",
    "    # поменяем матрицу hsv\n",
    "    image = cv2.imread(image_name, cv2.COLOR_BGR2HSV) \n",
    "    h,s,v = cv2.split(image)\n",
    "    new_image = cv2.merge((h+10,s-20,v+15))\n",
    "    image = cv2.cvtColor(new_image, cv2.COLOR_HSV2RGB)\n",
    "    return image"
   ]
  },
  {
   "cell_type": "code",
   "execution_count": 12,
   "id": "bbf2d187",
   "metadata": {},
   "outputs": [],
   "source": [
    "def augmentation(image_name, n_aug):\n",
    "    \n",
    "  # Augmentation для наших данных\n",
    "\n",
    "    image = cv2.imread(image_name, cv2.IMREAD_GRAYSCALE)  \n",
    "    file_name = image_name[len(\"./Dataset_origin\"):-4]\n",
    "\n",
    "    # случайный flip\n",
    "    if (random.random() > 0.5):  \n",
    "        image = flip(image, vflip=False, hflip=True)\n",
    "    # случайный поворот\n",
    "    angle = random.randint(-20, 20)\n",
    "    image = rot(image, angle=angle)\n",
    "    #img_gaussian = add_GaussianNoise(img)\n",
    "    \n",
    "    image = rescale_intensity(image, out_range=(0, 255))\n",
    "\n",
    "    return image"
   ]
  },
  {
   "cell_type": "markdown",
   "id": "63133066",
   "metadata": {},
   "source": [
    "## Bag of words для исходной картинки (несегментированной)\n",
    "\n",
    "### Составление словаря слов\n",
    "Каждую картинку (исходный размер 64х64) разделим на ячейки 16х16 со смещением 8 пикселей. Итого получим 49 ячеек. \n",
    "\n",
    "Для каждой из них вычислим гистограмму направленных градиентов HOG по 9 направлением. Итого каждый объект (слово) будет представлять из себя вектор длины 9, из каждой картинки получим 49 слов.\n",
    "\n",
    "Все слова из всех картинок разделим на кластеры с помощью алгоритмя K-means (количество кластеров попробуем разное, для начала - 25 штук).\n",
    "Тогда наш словарь будет состоять из 25 слов."
   ]
  },
  {
   "cell_type": "code",
   "execution_count": 13,
   "id": "0a9aaa1e",
   "metadata": {},
   "outputs": [],
   "source": [
    "def get_frames(image, image_name):\n",
    "    # получает 49 векторов длины 9 из каждой картинки\n",
    "    # и возвращает dataframe с этими векторами\n",
    "    \n",
    "    # исходный размер изображения 64*64\n",
    "    win_size = (64, 64)\n",
    "    block_size = (16, 16) # (8, 8)\n",
    "    block_stride = (8, 8) # (4, 4)\n",
    "    cell_size = (16, 16) # (8, 8)\n",
    "    n_bins = 9\n",
    "\n",
    "    hog = cv2.HOGDescriptor(win_size, block_size, block_stride, cell_size, n_bins)\n",
    "\n",
    "    winStride = (8, 8) # (4, 4) \n",
    "    padding = (0, 0) \n",
    "    hist = hog.compute(image, winStride, padding) \n",
    "\n",
    "    # количество ячеек 7 * 7, по 9 бинов в каждом = 441\n",
    "    # сделаем resize в матрицу 49*9, чтобы каждая ячейка (слово) описывалась отдельно\n",
    "    \n",
    "    data = np.reshape(hist, (49, 9)) # (225, 9))\n",
    "    df = pd.DataFrame(data)\n",
    "    df[\"row\"] = df.index % 7 # 15 \n",
    "    df[\"col\"] = df.index // 7 # 15 \n",
    "    df[\"name\"] = image_name\n",
    "    \n",
    "    return df[[\"name\", \"row\", \"col\", 0, 1, 2, 3, 4, 5, 6, 7, 8]]"
   ]
  },
  {
   "cell_type": "code",
   "execution_count": 14,
   "id": "5702a362",
   "metadata": {},
   "outputs": [
    {
     "data": {
      "text/plain": [
       "<matplotlib.image.AxesImage at 0x7f3503ca17f0>"
      ]
     },
     "execution_count": 14,
     "metadata": {},
     "output_type": "execute_result"
    },
    {
     "data": {
      "image/png": "[encoded data removed]",
      "text/plain": [
       "<Figure size 432x288 with 1 Axes>"
      ]
     },
     "metadata": {
      "needs_background": "light"
     },
     "output_type": "display_data"
    }
   ],
   "source": [
    "def frame_image(name, row, col):\n",
    "    # по имени файла, номеру строки (от 0 до 6),\n",
    "    # номеру колонки (от 0 до 6)\n",
    "    # возвращает фрагмент изображения\n",
    "    \n",
    "    image = cv2.imread(name, cv2.IMREAD_GRAYSCALE)\n",
    "    image = first_prepare(image)\n",
    "    # для получения сегментированного изображения\n",
    "#     image = cv2.adaptiveThreshold(image, 255, cv2.ADAPTIVE_THRESH_MEAN_C, cv2.THRESH_BINARY, 33, 24)\n",
    "    \n",
    "    frame = image[row * 8 : (row + 2) * 8, col * 8 : (col + 2) * 8]\n",
    "    # frame = image[row * 4 : (row + 2) * 4, col * 4 : (col + 2) * 4]\n",
    "    return frame\n",
    "\n",
    "# пример работы функции\n",
    "plt.imshow(frame_image(\"./Dataset_origin/fork/IMG_20211119_084920.jpg\", 2, 3))"
   ]
  },
  {
   "cell_type": "code",
   "execution_count": 15,
   "id": "8154be01",
   "metadata": {},
   "outputs": [
    {
     "name": "stderr",
     "output_type": "stream",
     "text": [
      "100%|███████████████████████████████████████████| 93/93 [21:51<00:00, 14.10s/it]\n"
     ]
    }
   ],
   "source": [
    "# обучим K-means на наших данных\n",
    "from sklearn.cluster import KMeans\n",
    "\n",
    "\n",
    "n_augmentations = 10\n",
    "\n",
    "\n",
    "# сформируем список файлов\n",
    "file_list = df_train[\"way\"].to_list()\n",
    "\n",
    "# сформируем dataframe со словами, из него для обучения возьмем только часть колонок \n",
    "# название файла и месторасположение фрагмента не берем\n",
    "\n",
    "train_frames_data = pd.DataFrame(columns=[\"name\", \"row\", \"col\", 0, 1, 2, 3, 4, 5, 6, 7, 8])\n",
    "\n",
    "for file in tqdm(file_list):\n",
    "    for i_augment in range(n_augmentations):\n",
    "        img = augmentation(file, i_augment) if i_augment > 0 else cv2.imread(file, cv2.IMREAD_GRAYSCALE)\n",
    "        aug_name = file + \"_\" + str(i_augment)\n",
    "        img = first_prepare(img)\n",
    "\n",
    "        train_frames_data = pd.concat([train_frames_data, get_frames(img, aug_name)], axis=0)\n",
    "\n",
    "train_frames_data.reset_index(drop=True, inplace=True)        \n",
    "X_hog_train = train_frames_data[[0, 1, 2, 3, 4, 5, 6, 7, 8]]\n",
    "\n",
    "\n"
   ]
  },
  {
   "cell_type": "code",
   "execution_count": 16,
   "id": "2b6fea9c",
   "metadata": {},
   "outputs": [
    {
     "data": {
      "text/plain": [
       "KMeans(n_clusters=30)"
      ]
     },
     "execution_count": 16,
     "metadata": {},
     "output_type": "execute_result"
    }
   ],
   "source": [
    "n_clusters = 30\n",
    "cls = KMeans(n_clusters=n_clusters)\n",
    "\n",
    "# обучим алгоритм\n",
    "cls.fit(X_hog_train)"
   ]
  },
  {
   "cell_type": "code",
   "execution_count": 17,
   "id": "cd78daf6",
   "metadata": {},
   "outputs": [
    {
     "data": {
      "text/plain": [
       "(45570, 12)"
      ]
     },
     "execution_count": 17,
     "metadata": {},
     "output_type": "execute_result"
    }
   ],
   "source": [
    "train_frames_data.shape"
   ]
  },
  {
   "cell_type": "markdown",
   "id": "13b03071",
   "metadata": {},
   "source": [
    "Посмотрим на получившиеся кластеры. Для этого в dataframe с информацией о фрагментах всех изображений добавим значение кластера.\n",
    "\n",
    "И посмотрим на объемы кластеров."
   ]
  },
  {
   "cell_type": "code",
   "execution_count": 18,
   "id": "4a652adc",
   "metadata": {},
   "outputs": [
    {
     "data": {
      "text/plain": [
       "1     11715\n",
       "10     2847\n",
       "8      2674\n",
       "9      2639\n",
       "24     2050\n",
       "2      1937\n",
       "5      1883\n",
       "27     1868\n",
       "22     1630\n",
       "28     1548\n",
       "20     1533\n",
       "3      1528\n",
       "18     1151\n",
       "7      1073\n",
       "6      1030\n",
       "4       971\n",
       "11      809\n",
       "14      781\n",
       "29      775\n",
       "17      702\n",
       "0       667\n",
       "26      657\n",
       "15      633\n",
       "21      403\n",
       "12      402\n",
       "19      374\n",
       "23      362\n",
       "16      346\n",
       "13      301\n",
       "25      281\n",
       "Name: cluster, dtype: int64"
      ]
     },
     "execution_count": 18,
     "metadata": {},
     "output_type": "execute_result"
    }
   ],
   "source": [
    "train_frames_data[\"cluster\"] = cls.predict(X_hog_train)\n",
    "\n",
    "train_frames_data[\"cluster\"].value_counts()"
   ]
  },
  {
   "cell_type": "markdown",
   "id": "4510fd4d",
   "metadata": {},
   "source": [
    "Видно, что есть один наиболее многочисленный кластер и 24 менее многочисленных.\n",
    "\n",
    "Для визуальной оценки кластеров возьмем несколько фрагментов самого многочисленного кластера:"
   ]
  },
  {
   "cell_type": "code",
   "execution_count": 19,
   "id": "8ab66e9f",
   "metadata": {},
   "outputs": [
    {
     "data": {
      "image/png": "[encoded data removed]",
      "text/plain": [
       "<Figure size 648x648 with 9 Axes>"
      ]
     },
     "metadata": {
      "needs_background": "light"
     },
     "output_type": "display_data"
    }
   ],
   "source": [
    "cluster = 1\n",
    "\n",
    "origin_mask = train_frames_data[\"name\"].apply(lambda x: \".jpg_0\" in x)\n",
    "not_aug_frames = train_frames_data[origin_mask]\n",
    "\n",
    "sample = not_aug_frames[not_aug_frames[\"cluster\"] == cluster].sample(n=9)\n",
    "sample.reset_index(drop=True, inplace=True)\n",
    "\n",
    "fig = plt.figure(figsize=(9, 9))\n",
    "\n",
    "for i in range(9):\n",
    "    name = sample.loc[i, \"name\"]\n",
    "    row = sample.loc[i, \"row\"]\n",
    "    col = sample.loc[i, \"col\"]\n",
    "\n",
    "    plt.subplot(3, 3, i + 1)\n",
    "    plt.imshow(frame_image(name[:-2], row, col), cmap='gray')\n",
    "    plt.title(f\"{name}: {row}, {col}\")\n"
   ]
  },
  {
   "cell_type": "markdown",
   "id": "8dfd323a",
   "metadata": {},
   "source": [
    "И какого-нибудь кластера среднего размера"
   ]
  },
  {
   "cell_type": "code",
   "execution_count": 20,
   "id": "4c744a27",
   "metadata": {},
   "outputs": [
    {
     "data": {
      "image/png": "[encoded data removed]",
      "text/plain": [
       "<Figure size 648x648 with 9 Axes>"
      ]
     },
     "metadata": {
      "needs_background": "light"
     },
     "output_type": "display_data"
    }
   ],
   "source": [
    "cluster = 3\n",
    "\n",
    "sample = not_aug_frames[not_aug_frames[\"cluster\"] == cluster].sample(n=9)\n",
    "sample.reset_index(drop=True, inplace=True)\n",
    "\n",
    "fig = plt.figure(figsize=(9, 9))\n",
    "\n",
    "for i in range(9):\n",
    "    name = sample.loc[i, \"name\"]\n",
    "    row = sample.loc[i, \"row\"]\n",
    "    col = sample.loc[i, \"col\"]\n",
    "    \n",
    "    plt.subplot(3, 3, i + 1)\n",
    "    plt.imshow(frame_image(name[:-2], row, col), cmap='gray')\n",
    "    plt.title(f\"{name}: {row}, {col}\")"
   ]
  },
  {
   "cell_type": "markdown",
   "id": "eed7f9b1",
   "metadata": {},
   "source": [
    "### Построение feature vector для изображений\n",
    "\n",
    "Теперь мы можем посмотреть на все 49 фрагментов изображения и определить, к какому из кластеров они относятся и записать частоту этого слова в соответствующую ячейку.\n",
    "\n",
    "Так как наш словарь включает в себя 25 слов, то каждое изображение можно описать вектором длины 25, где на i-м месте стоит частота i-го слова.\n",
    "\n",
    "Информация о номере кластера для каждого фрагмента каждого изображения у нас уже записана в dataframe, нам нужно только группировать ее по названию файла."
   ]
  },
  {
   "cell_type": "code",
   "execution_count": 21,
   "id": "07d73812",
   "metadata": {},
   "outputs": [
    {
     "data": {
      "text/html": [
       "<div>\n",
       "<style scoped>\n",
       "    .dataframe tbody tr th:only-of-type {\n",
       "        vertical-align: middle;\n",
       "    }\n",
       "\n",
       "    .dataframe tbody tr th {\n",
       "        vertical-align: top;\n",
       "    }\n",
       "\n",
       "    .dataframe thead th {\n",
       "        text-align: right;\n",
       "    }\n",
       "</style>\n",
       "<table border=\"1\" class=\"dataframe\">\n",
       "  <thead>\n",
       "    <tr style=\"text-align: right;\">\n",
       "      <th>cluster</th>\n",
       "      <th>0</th>\n",
       "      <th>1</th>\n",
       "      <th>2</th>\n",
       "      <th>3</th>\n",
       "      <th>4</th>\n",
       "      <th>5</th>\n",
       "      <th>6</th>\n",
       "      <th>7</th>\n",
       "      <th>8</th>\n",
       "      <th>9</th>\n",
       "      <th>...</th>\n",
       "      <th>20</th>\n",
       "      <th>21</th>\n",
       "      <th>22</th>\n",
       "      <th>23</th>\n",
       "      <th>24</th>\n",
       "      <th>25</th>\n",
       "      <th>26</th>\n",
       "      <th>27</th>\n",
       "      <th>28</th>\n",
       "      <th>29</th>\n",
       "    </tr>\n",
       "    <tr>\n",
       "      <th>name</th>\n",
       "      <th></th>\n",
       "      <th></th>\n",
       "      <th></th>\n",
       "      <th></th>\n",
       "      <th></th>\n",
       "      <th></th>\n",
       "      <th></th>\n",
       "      <th></th>\n",
       "      <th></th>\n",
       "      <th></th>\n",
       "      <th></th>\n",
       "      <th></th>\n",
       "      <th></th>\n",
       "      <th></th>\n",
       "      <th></th>\n",
       "      <th></th>\n",
       "      <th></th>\n",
       "      <th></th>\n",
       "      <th></th>\n",
       "      <th></th>\n",
       "      <th></th>\n",
       "    </tr>\n",
       "  </thead>\n",
       "  <tbody>\n",
       "    <tr>\n",
       "      <th>./Dataset_origin/cup/IMG_20211120_173630.jpg_0</th>\n",
       "      <td>0</td>\n",
       "      <td>12</td>\n",
       "      <td>1</td>\n",
       "      <td>5</td>\n",
       "      <td>4</td>\n",
       "      <td>1</td>\n",
       "      <td>4</td>\n",
       "      <td>3</td>\n",
       "      <td>5</td>\n",
       "      <td>5</td>\n",
       "      <td>...</td>\n",
       "      <td>0</td>\n",
       "      <td>0</td>\n",
       "      <td>2</td>\n",
       "      <td>0</td>\n",
       "      <td>2</td>\n",
       "      <td>0</td>\n",
       "      <td>0</td>\n",
       "      <td>1</td>\n",
       "      <td>0</td>\n",
       "      <td>2</td>\n",
       "    </tr>\n",
       "    <tr>\n",
       "      <th>./Dataset_origin/cup/IMG_20211120_173630.jpg_1</th>\n",
       "      <td>0</td>\n",
       "      <td>11</td>\n",
       "      <td>2</td>\n",
       "      <td>2</td>\n",
       "      <td>0</td>\n",
       "      <td>2</td>\n",
       "      <td>4</td>\n",
       "      <td>2</td>\n",
       "      <td>1</td>\n",
       "      <td>4</td>\n",
       "      <td>...</td>\n",
       "      <td>2</td>\n",
       "      <td>0</td>\n",
       "      <td>2</td>\n",
       "      <td>2</td>\n",
       "      <td>0</td>\n",
       "      <td>0</td>\n",
       "      <td>0</td>\n",
       "      <td>0</td>\n",
       "      <td>2</td>\n",
       "      <td>2</td>\n",
       "    </tr>\n",
       "    <tr>\n",
       "      <th>./Dataset_origin/cup/IMG_20211120_173630.jpg_2</th>\n",
       "      <td>1</td>\n",
       "      <td>11</td>\n",
       "      <td>1</td>\n",
       "      <td>4</td>\n",
       "      <td>1</td>\n",
       "      <td>0</td>\n",
       "      <td>5</td>\n",
       "      <td>1</td>\n",
       "      <td>4</td>\n",
       "      <td>3</td>\n",
       "      <td>...</td>\n",
       "      <td>0</td>\n",
       "      <td>0</td>\n",
       "      <td>0</td>\n",
       "      <td>0</td>\n",
       "      <td>2</td>\n",
       "      <td>0</td>\n",
       "      <td>1</td>\n",
       "      <td>3</td>\n",
       "      <td>1</td>\n",
       "      <td>3</td>\n",
       "    </tr>\n",
       "    <tr>\n",
       "      <th>./Dataset_origin/cup/IMG_20211120_173630.jpg_3</th>\n",
       "      <td>1</td>\n",
       "      <td>13</td>\n",
       "      <td>2</td>\n",
       "      <td>4</td>\n",
       "      <td>0</td>\n",
       "      <td>1</td>\n",
       "      <td>1</td>\n",
       "      <td>5</td>\n",
       "      <td>9</td>\n",
       "      <td>1</td>\n",
       "      <td>...</td>\n",
       "      <td>0</td>\n",
       "      <td>0</td>\n",
       "      <td>0</td>\n",
       "      <td>1</td>\n",
       "      <td>0</td>\n",
       "      <td>0</td>\n",
       "      <td>2</td>\n",
       "      <td>3</td>\n",
       "      <td>3</td>\n",
       "      <td>0</td>\n",
       "    </tr>\n",
       "    <tr>\n",
       "      <th>./Dataset_origin/cup/IMG_20211120_173630.jpg_4</th>\n",
       "      <td>0</td>\n",
       "      <td>13</td>\n",
       "      <td>0</td>\n",
       "      <td>4</td>\n",
       "      <td>1</td>\n",
       "      <td>2</td>\n",
       "      <td>2</td>\n",
       "      <td>7</td>\n",
       "      <td>7</td>\n",
       "      <td>2</td>\n",
       "      <td>...</td>\n",
       "      <td>0</td>\n",
       "      <td>0</td>\n",
       "      <td>1</td>\n",
       "      <td>0</td>\n",
       "      <td>1</td>\n",
       "      <td>0</td>\n",
       "      <td>3</td>\n",
       "      <td>1</td>\n",
       "      <td>1</td>\n",
       "      <td>2</td>\n",
       "    </tr>\n",
       "  </tbody>\n",
       "</table>\n",
       "<p>5 rows × 30 columns</p>\n",
       "</div>"
      ],
      "text/plain": [
       "cluster                                         0   1   2   3   4   5   6   \\\n",
       "name                                                                         \n",
       "./Dataset_origin/cup/IMG_20211120_173630.jpg_0   0  12   1   5   4   1   4   \n",
       "./Dataset_origin/cup/IMG_20211120_173630.jpg_1   0  11   2   2   0   2   4   \n",
       "./Dataset_origin/cup/IMG_20211120_173630.jpg_2   1  11   1   4   1   0   5   \n",
       "./Dataset_origin/cup/IMG_20211120_173630.jpg_3   1  13   2   4   0   1   1   \n",
       "./Dataset_origin/cup/IMG_20211120_173630.jpg_4   0  13   0   4   1   2   2   \n",
       "\n",
       "cluster                                         7   8   9   ...  20  21  22  \\\n",
       "name                                                        ...               \n",
       "./Dataset_origin/cup/IMG_20211120_173630.jpg_0   3   5   5  ...   0   0   2   \n",
       "./Dataset_origin/cup/IMG_20211120_173630.jpg_1   2   1   4  ...   2   0   2   \n",
       "./Dataset_origin/cup/IMG_20211120_173630.jpg_2   1   4   3  ...   0   0   0   \n",
       "./Dataset_origin/cup/IMG_20211120_173630.jpg_3   5   9   1  ...   0   0   0   \n",
       "./Dataset_origin/cup/IMG_20211120_173630.jpg_4   7   7   2  ...   0   0   1   \n",
       "\n",
       "cluster                                         23  24  25  26  27  28  29  \n",
       "name                                                                        \n",
       "./Dataset_origin/cup/IMG_20211120_173630.jpg_0   0   2   0   0   1   0   2  \n",
       "./Dataset_origin/cup/IMG_20211120_173630.jpg_1   2   0   0   0   0   2   2  \n",
       "./Dataset_origin/cup/IMG_20211120_173630.jpg_2   0   2   0   1   3   1   3  \n",
       "./Dataset_origin/cup/IMG_20211120_173630.jpg_3   1   0   0   2   3   3   0  \n",
       "./Dataset_origin/cup/IMG_20211120_173630.jpg_4   0   1   0   3   1   1   2  \n",
       "\n",
       "[5 rows x 30 columns]"
      ]
     },
     "execution_count": 21,
     "metadata": {},
     "output_type": "execute_result"
    }
   ],
   "source": [
    "def create_features(data, vocab_volume):\n",
    "    df_counts = (data[[\"name\", \"cluster\", \"row\"]]\n",
    "                 .groupby([\"name\", \"cluster\"], as_index=False)\n",
    "                 .agg(\"count\")\n",
    "    )\n",
    "    df_counts = df_counts.rename(columns={\"row\": \"count\"})\n",
    "    # проверка на присутствие всех кластеров\n",
    "    names_list = df_counts[\"name\"].unique()\n",
    "    for name in names_list:\n",
    "        values_list = df_counts[df_counts[\"name\"] == name][\"cluster\"].to_list() \n",
    "        for i in range(vocab_volume):          \n",
    "            if i not in values_list:\n",
    "                df_counts = df_counts.append({\"name\": name, \"cluster\": i, \"count\": 0}, ignore_index=True)\n",
    "    \n",
    "    \n",
    "    df_counts_wide = df_counts.pivot_table(index=[\"name\"], \n",
    "                                           columns=[\"cluster\"], \n",
    "                                           values=[\"count\"], \n",
    "                                           fill_value=0)\n",
    "    df_counts_wide.columns = df_counts_wide.columns.get_level_values(1)\n",
    "    \n",
    "    \n",
    "    return df_counts_wide\n",
    "\n",
    "\n",
    "features_train = create_features(train_frames_data, n_clusters)\n",
    "features_train.head()"
   ]
  },
  {
   "cell_type": "markdown",
   "id": "df935642",
   "metadata": {},
   "source": [
    "Теперь нужно склеить полученное описание с целевой переменной."
   ]
  },
  {
   "cell_type": "code",
   "execution_count": 22,
   "id": "9d4c448b",
   "metadata": {},
   "outputs": [],
   "source": [
    "features_train[\"origin_name\"] = features_train.index\n",
    "features_train[\"origin_name\"] = features_train[\"origin_name\"].apply(lambda x: x[:x.rfind(\"_\")])\n",
    "data_train = pd.merge(features_train, df_train, \n",
    "                      left_on=\"origin_name\", right_on=\"way\").drop([\"way\", \"origin_name\"], axis=1)\n",
    "data_train.reset_index(drop=True, inplace=True)"
   ]
  },
  {
   "cell_type": "code",
   "execution_count": 23,
   "id": "edc5fad6",
   "metadata": {},
   "outputs": [],
   "source": [
    "y_train = data_train.pop(\"category\")\n",
    "X_train = data_train"
   ]
  },
  {
   "cell_type": "code",
   "execution_count": 24,
   "id": "316ce823",
   "metadata": {},
   "outputs": [
    {
     "data": {
      "text/html": [
       "<div>\n",
       "<style scoped>\n",
       "    .dataframe tbody tr th:only-of-type {\n",
       "        vertical-align: middle;\n",
       "    }\n",
       "\n",
       "    .dataframe tbody tr th {\n",
       "        vertical-align: top;\n",
       "    }\n",
       "\n",
       "    .dataframe thead th {\n",
       "        text-align: right;\n",
       "    }\n",
       "</style>\n",
       "<table border=\"1\" class=\"dataframe\">\n",
       "  <thead>\n",
       "    <tr style=\"text-align: right;\">\n",
       "      <th></th>\n",
       "      <th>0</th>\n",
       "      <th>1</th>\n",
       "      <th>2</th>\n",
       "      <th>3</th>\n",
       "      <th>4</th>\n",
       "      <th>5</th>\n",
       "      <th>6</th>\n",
       "      <th>7</th>\n",
       "      <th>8</th>\n",
       "      <th>9</th>\n",
       "      <th>...</th>\n",
       "      <th>20</th>\n",
       "      <th>21</th>\n",
       "      <th>22</th>\n",
       "      <th>23</th>\n",
       "      <th>24</th>\n",
       "      <th>25</th>\n",
       "      <th>26</th>\n",
       "      <th>27</th>\n",
       "      <th>28</th>\n",
       "      <th>29</th>\n",
       "    </tr>\n",
       "  </thead>\n",
       "  <tbody>\n",
       "    <tr>\n",
       "      <th>0</th>\n",
       "      <td>0</td>\n",
       "      <td>12</td>\n",
       "      <td>1</td>\n",
       "      <td>5</td>\n",
       "      <td>4</td>\n",
       "      <td>1</td>\n",
       "      <td>4</td>\n",
       "      <td>3</td>\n",
       "      <td>5</td>\n",
       "      <td>5</td>\n",
       "      <td>...</td>\n",
       "      <td>0</td>\n",
       "      <td>0</td>\n",
       "      <td>2</td>\n",
       "      <td>0</td>\n",
       "      <td>2</td>\n",
       "      <td>0</td>\n",
       "      <td>0</td>\n",
       "      <td>1</td>\n",
       "      <td>0</td>\n",
       "      <td>2</td>\n",
       "    </tr>\n",
       "    <tr>\n",
       "      <th>1</th>\n",
       "      <td>0</td>\n",
       "      <td>11</td>\n",
       "      <td>2</td>\n",
       "      <td>2</td>\n",
       "      <td>0</td>\n",
       "      <td>2</td>\n",
       "      <td>4</td>\n",
       "      <td>2</td>\n",
       "      <td>1</td>\n",
       "      <td>4</td>\n",
       "      <td>...</td>\n",
       "      <td>2</td>\n",
       "      <td>0</td>\n",
       "      <td>2</td>\n",
       "      <td>2</td>\n",
       "      <td>0</td>\n",
       "      <td>0</td>\n",
       "      <td>0</td>\n",
       "      <td>0</td>\n",
       "      <td>2</td>\n",
       "      <td>2</td>\n",
       "    </tr>\n",
       "    <tr>\n",
       "      <th>2</th>\n",
       "      <td>1</td>\n",
       "      <td>11</td>\n",
       "      <td>1</td>\n",
       "      <td>4</td>\n",
       "      <td>1</td>\n",
       "      <td>0</td>\n",
       "      <td>5</td>\n",
       "      <td>1</td>\n",
       "      <td>4</td>\n",
       "      <td>3</td>\n",
       "      <td>...</td>\n",
       "      <td>0</td>\n",
       "      <td>0</td>\n",
       "      <td>0</td>\n",
       "      <td>0</td>\n",
       "      <td>2</td>\n",
       "      <td>0</td>\n",
       "      <td>1</td>\n",
       "      <td>3</td>\n",
       "      <td>1</td>\n",
       "      <td>3</td>\n",
       "    </tr>\n",
       "    <tr>\n",
       "      <th>3</th>\n",
       "      <td>1</td>\n",
       "      <td>13</td>\n",
       "      <td>2</td>\n",
       "      <td>4</td>\n",
       "      <td>0</td>\n",
       "      <td>1</td>\n",
       "      <td>1</td>\n",
       "      <td>5</td>\n",
       "      <td>9</td>\n",
       "      <td>1</td>\n",
       "      <td>...</td>\n",
       "      <td>0</td>\n",
       "      <td>0</td>\n",
       "      <td>0</td>\n",
       "      <td>1</td>\n",
       "      <td>0</td>\n",
       "      <td>0</td>\n",
       "      <td>2</td>\n",
       "      <td>3</td>\n",
       "      <td>3</td>\n",
       "      <td>0</td>\n",
       "    </tr>\n",
       "    <tr>\n",
       "      <th>4</th>\n",
       "      <td>0</td>\n",
       "      <td>13</td>\n",
       "      <td>0</td>\n",
       "      <td>4</td>\n",
       "      <td>1</td>\n",
       "      <td>2</td>\n",
       "      <td>2</td>\n",
       "      <td>7</td>\n",
       "      <td>7</td>\n",
       "      <td>2</td>\n",
       "      <td>...</td>\n",
       "      <td>0</td>\n",
       "      <td>0</td>\n",
       "      <td>1</td>\n",
       "      <td>0</td>\n",
       "      <td>1</td>\n",
       "      <td>0</td>\n",
       "      <td>3</td>\n",
       "      <td>1</td>\n",
       "      <td>1</td>\n",
       "      <td>2</td>\n",
       "    </tr>\n",
       "  </tbody>\n",
       "</table>\n",
       "<p>5 rows × 30 columns</p>\n",
       "</div>"
      ],
      "text/plain": [
       "   0   1   2   3   4   5   6   7   8   9   ...  20  21  22  23  24  25  26  \\\n",
       "0   0  12   1   5   4   1   4   3   5   5  ...   0   0   2   0   2   0   0   \n",
       "1   0  11   2   2   0   2   4   2   1   4  ...   2   0   2   2   0   0   0   \n",
       "2   1  11   1   4   1   0   5   1   4   3  ...   0   0   0   0   2   0   1   \n",
       "3   1  13   2   4   0   1   1   5   9   1  ...   0   0   0   1   0   0   2   \n",
       "4   0  13   0   4   1   2   2   7   7   2  ...   0   0   1   0   1   0   3   \n",
       "\n",
       "   27  28  29  \n",
       "0   1   0   2  \n",
       "1   0   2   2  \n",
       "2   3   1   3  \n",
       "3   3   3   0  \n",
       "4   1   1   2  \n",
       "\n",
       "[5 rows x 30 columns]"
      ]
     },
     "execution_count": 24,
     "metadata": {},
     "output_type": "execute_result"
    }
   ],
   "source": [
    "X_train.head()"
   ]
  },
  {
   "cell_type": "code",
   "execution_count": 25,
   "id": "1c0c3599",
   "metadata": {},
   "outputs": [
    {
     "data": {
      "text/plain": [
       "(930, 30)"
      ]
     },
     "execution_count": 25,
     "metadata": {},
     "output_type": "execute_result"
    }
   ],
   "source": [
    "X_train.shape"
   ]
  },
  {
   "cell_type": "code",
   "execution_count": 26,
   "id": "89202ecb",
   "metadata": {},
   "outputs": [
    {
     "data": {
      "text/plain": [
       "0    3\n",
       "1    3\n",
       "2    3\n",
       "3    3\n",
       "4    3\n",
       "Name: category, dtype: int64"
      ]
     },
     "execution_count": 26,
     "metadata": {},
     "output_type": "execute_result"
    }
   ],
   "source": [
    "y_train.head()"
   ]
  },
  {
   "cell_type": "code",
   "execution_count": 27,
   "id": "48ba8914",
   "metadata": {},
   "outputs": [
    {
     "name": "stderr",
     "output_type": "stream",
     "text": [
      "100%|███████████████████████████████████████████| 24/24 [06:25<00:00, 16.06s/it]\n"
     ]
    }
   ],
   "source": [
    "# сформируем X_val и y_val, объединим проделанную процедуру в функцию\n",
    "\n",
    "def create_xy_data(df, clf_model):\n",
    "    # df - dataframe именами файлов и категориями\n",
    "    # clf_model - модель кластеризации\n",
    "    \n",
    "    file_list = df[\"way\"].to_list()\n",
    "    \n",
    "    df_frames = pd.DataFrame(columns=[\"name\", \"row\", \"col\", 0, 1, 2, 3, 4, 5, 6, 7, 8])\n",
    "\n",
    "    for file in tqdm(file_list):\n",
    "        for i_augment in range(n_augmentations):\n",
    "            img = augmentation(file, i_augment) if i_augment > 0 else cv2.imread(file, cv2.IMREAD_GRAYSCALE)\n",
    "            aug_name = file + \"_\" + str(i_augment)\n",
    "            img = first_prepare(img)\n",
    "\n",
    "            df_frames = pd.concat([df_frames, get_frames(img, aug_name)], axis=0)\n",
    "\n",
    "    df_frames.reset_index(drop=True, inplace=True)        \n",
    "\n",
    "    df_hog = df_frames[[0, 1, 2, 3, 4, 5, 6, 7, 8]]\n",
    "    \n",
    "    df_frames[\"cluster\"] = clf_model.predict(df_hog)\n",
    "    features = create_features(df_frames, clf_model.get_params()[\"n_clusters\"])\n",
    "    features[\"origin_name\"] = features.index\n",
    "    features[\"origin_name\"] = features[\"origin_name\"].apply(lambda x: x[:x.rfind(\"_\")])\n",
    "    data = pd.merge(features, df, \n",
    "                      left_on=\"origin_name\", right_on=\"way\").drop([\"way\", \"origin_name\"], axis=1)\n",
    "    \n",
    "    data.reset_index(drop=True, inplace=True)\n",
    "    y = data.pop(\"category\")\n",
    "    X = data \n",
    "    return X, y\n",
    "\n",
    "X_val, y_val = create_xy_data(df_val, cls)\n"
   ]
  },
  {
   "cell_type": "code",
   "execution_count": 28,
   "id": "ac71d0c7",
   "metadata": {},
   "outputs": [
    {
     "data": {
      "text/plain": [
       "(240, 30)"
      ]
     },
     "execution_count": 28,
     "metadata": {},
     "output_type": "execute_result"
    }
   ],
   "source": [
    "X_val.shape"
   ]
  },
  {
   "cell_type": "code",
   "execution_count": 41,
   "id": "24f372de",
   "metadata": {},
   "outputs": [
    {
     "data": {
      "text/plain": [
       "Pipeline(steps=[('scaler_', StandardScaler()),\n",
       "                ('model_',\n",
       "                 XGBClassifier(base_score=0.5, booster='gbtree',\n",
       "                               colsample_bylevel=1, colsample_bynode=1,\n",
       "                               colsample_bytree=1, enable_categorical=False,\n",
       "                               gamma=0, gpu_id=-1, importance_type=None,\n",
       "                               interaction_constraints='',\n",
       "                               learning_rate=0.300000012, max_delta_step=0,\n",
       "                               max_depth=4, min_child_weight=1, missing=nan,\n",
       "                               monotone_constraints='()', n_estimators=10,\n",
       "                               n_jobs=12, num_parallel_tree=1,\n",
       "                               objective='multi:softprob', predictor='auto',\n",
       "                               random_state=0, reg_alpha=0, reg_lambda=1,\n",
       "                               scale_pos_weight=None, subsample=1,\n",
       "                               tree_method='exact', validate_parameters=1,\n",
       "                               verbosity=0))])"
      ]
     },
     "execution_count": 41,
     "metadata": {},
     "output_type": "execute_result"
    }
   ],
   "source": [
    "# обучим SVM и XGBoost на наших данных\n",
    "\n",
    "from sklearn.model_selection import train_test_split\n",
    "from sklearn.svm import SVC\n",
    "from xgboost.sklearn import XGBClassifier\n",
    "from sklearn.preprocessing import StandardScaler\n",
    "from sklearn.pipeline import Pipeline\n",
    "\n",
    "pipe_svc = Pipeline([\n",
    "    ('scaler_', StandardScaler()),\n",
    "    ('model_', SVC(C=1))])\n",
    "\n",
    "\n",
    "pipe_svc.fit(X_train, y_train)\n",
    "\n",
    "pipe_xgbst = Pipeline([\n",
    "    ('scaler_', StandardScaler()),\n",
    "    ('model_', XGBClassifier(n_estimators=10, max_depth=4, verbosity=0))])\n",
    "\n",
    "\n",
    "pipe_svc.fit(X_train, y_train)\n",
    "pipe_xgbst.fit(X_train, y_train)\n"
   ]
  },
  {
   "cell_type": "code",
   "execution_count": 42,
   "id": "cc15a3e3",
   "metadata": {},
   "outputs": [
    {
     "name": "stdout",
     "output_type": "stream",
     "text": [
      "accuracy SVC train:  0.8247311827956989 , val:  0.45416666666666666 \n",
      "accuracy XGBoost train:  0.8580645161290322 , val:  0.37083333333333335\n"
     ]
    }
   ],
   "source": [
    "from sklearn.metrics import accuracy_score\n",
    "print(\"accuracy SVC train: \", accuracy_score(pipe_svc.predict(X_train), y_train), \", val: \", accuracy_score(pipe_svc.predict(X_val), y_val), \n",
    "      \"\\naccuracy XGBoost train: \", accuracy_score(pipe_xgbst.predict(X_train), y_train), \", val: \",accuracy_score(pipe_xgbst.predict(X_val), y_val))"
   ]
  },
  {
   "cell_type": "markdown",
   "id": "e75333ae",
   "metadata": {},
   "source": [
    "### Подбор гиперпараметров\n",
    "\n",
    "Попробуем подобрать размер словаря и параметры, чтобы улучшить качество модели.\n"
   ]
  },
  {
   "cell_type": "code",
   "execution_count": 43,
   "id": "3a6ffcf1",
   "metadata": {},
   "outputs": [],
   "source": [
    "# from sklearn.model_selection import GridSearchCV\n",
    "# from sklearn.preprocessing import StandardScaler\n",
    "# from sklearn.pipeline import Pipeline\n",
    "\n",
    "# pipe_hp = Pipeline([\n",
    "#     ('scaler', StandardScaler()),\n",
    "#     ('model', XGBClassifier(n_estimators=15, max_depth=4, verbosity=0))])\n",
    "\n",
    "\n",
    "# clfs = []\n",
    "# for n in range(20, 70, 10):\n",
    "#     clf = KMeans(n_clusters=n)\n",
    "#     clf.fit(X_hog_train)\n",
    "#     clfs.append(clf)\n",
    "\n",
    "# for clf in clfs:\n",
    "#     X_train, y_train = create_xy_data(df_train, clf)\n",
    "    \n",
    "#     gs = GridSearchCV(pipe_hp,\n",
    "#                      param_grid={\"model__estimators\": range(10, 26, 5),\n",
    "#                                 \"model__depth\": range(2, 5)})\n",
    "#     gs.fit(X_train, y_train)\n",
    "    \n",
    "#     X_val, y_val = create_xy_data(df_val, clf)\n",
    "#     print(clf, accuracy_score(y_val, gs.predict(X_val)), gs.best_params_)"
   ]
  },
  {
   "cell_type": "markdown",
   "id": "5173e284",
   "metadata": {},
   "source": [
    "Выберем размер словаря - 20 слов и снова посмотрим на результат на тестовых данных"
   ]
  },
  {
   "cell_type": "code",
   "execution_count": 44,
   "id": "2db1b8a8",
   "metadata": {},
   "outputs": [],
   "source": [
    "# cls = KMeans(n_clusters=20)\n",
    "\n",
    "# file_list_train = df_train[\"way\"].to_list()\n",
    "# train_frames_data = pd.DataFrame(columns=[\"name\", \"row\", \"col\", 0, 1, 2, 3, 4, 5, 6, 7, 8])\n",
    "\n",
    "# for file in tqdm(file_list):\n",
    "#     for i_augment in range(n_augmentations):\n",
    "#         img = augmentation(file, i_augment) if i_augment > 0 else cv2.imread(file, cv2.IMREAD_GRAYSCALE)\n",
    "#         aug_name = file + \"_\" + str(i_augment)\n",
    "#         img = first_prepare(img)\n",
    "\n",
    "#         train_frames_data = pd.concat([train_frames_data, get_frames(img, aug_name)], axis=0)\n",
    "\n",
    "# train_frames_data.reset_index(drop=True, inplace=True)    \n",
    "# X_hog_train = train_frames_data[[0, 1, 2, 3, 4, 5, 6, 7, 8]]\n",
    "\n",
    "# cls.fit(X_hog_train)\n",
    "\n",
    "# X_train, y_train = create_xy_data(df_train, cls)\n",
    "\n",
    "# X_val, y_val = create_xy_data(df_val, cls)\n",
    "    \n",
    "# pipe_1 = Pipeline([\n",
    "#     ('scaler_', StandardScaler()),\n",
    "#     ('model_', XGBClassifier(n_estimators=10, max_depth=2, verbosity=0))]).fit(X_train, y_train)\n",
    "# accuracy_score(y_val, pipe_1.predict(X_val))"
   ]
  },
  {
   "cell_type": "markdown",
   "id": "952ffe71",
   "metadata": {},
   "source": [
    "## Посмотрим, на каких объектах модель ошибается чаще."
   ]
  },
  {
   "cell_type": "code",
   "execution_count": 45,
   "id": "cf3bee27",
   "metadata": {},
   "outputs": [
    {
     "data": {
      "text/plain": [
       "y_true\n",
       "0    0.266667\n",
       "1    0.580000\n",
       "2    0.150000\n",
       "3    0.775000\n",
       "4    0.450000\n",
       "5    0.425000\n",
       "Name: match, dtype: float64"
      ]
     },
     "execution_count": 45,
     "metadata": {},
     "output_type": "execute_result"
    }
   ],
   "source": [
    "predict = pipe_svc.predict(X_val)\n",
    "val_result = pd.DataFrame(data = np.array([y_val, predict]).T,\n",
    "                           columns = [\"y_true\", \"y_predict\"])\n",
    "\n",
    "val_result[\"match\"] = (val_result[\"y_true\"] == val_result[\"y_predict\"])\n",
    "val_result.groupby(\"y_true\")[\"match\"].mean()"
   ]
  },
  {
   "cell_type": "code",
   "execution_count": 46,
   "id": "7cc14aa2",
   "metadata": {},
   "outputs": [
    {
     "data": {
      "text/plain": [
       "{'fork': 0, 'plate': 1, 'knife': 2, 'cup': 3, 'glass': 4, 'spoon': 5}"
      ]
     },
     "execution_count": 46,
     "metadata": {},
     "output_type": "execute_result"
    }
   ],
   "source": [
    "slovar"
   ]
  },
  {
   "cell_type": "markdown",
   "id": "501d60db",
   "metadata": {},
   "source": [
    "Лучше всего дело обстоит с тарелками и чашками. Хуже всего - с вилками и ножами."
   ]
  },
  {
   "cell_type": "code",
   "execution_count": 47,
   "id": "bf962d8d",
   "metadata": {},
   "outputs": [
    {
     "data": {
      "text/html": [
       "<div>\n",
       "<style scoped>\n",
       "    .dataframe tbody tr th:only-of-type {\n",
       "        vertical-align: middle;\n",
       "    }\n",
       "\n",
       "    .dataframe tbody tr th {\n",
       "        vertical-align: top;\n",
       "    }\n",
       "\n",
       "    .dataframe thead th {\n",
       "        text-align: right;\n",
       "    }\n",
       "</style>\n",
       "<table border=\"1\" class=\"dataframe\">\n",
       "  <thead>\n",
       "    <tr style=\"text-align: right;\">\n",
       "      <th></th>\n",
       "      <th></th>\n",
       "      <th>match</th>\n",
       "    </tr>\n",
       "    <tr>\n",
       "      <th>y_true</th>\n",
       "      <th>y_predict</th>\n",
       "      <th></th>\n",
       "    </tr>\n",
       "  </thead>\n",
       "  <tbody>\n",
       "    <tr>\n",
       "      <th rowspan=\"4\" valign=\"top\">0</th>\n",
       "      <th>0</th>\n",
       "      <td>8</td>\n",
       "    </tr>\n",
       "    <tr>\n",
       "      <th>2</th>\n",
       "      <td>13</td>\n",
       "    </tr>\n",
       "    <tr>\n",
       "      <th>3</th>\n",
       "      <td>1</td>\n",
       "    </tr>\n",
       "    <tr>\n",
       "      <th>5</th>\n",
       "      <td>8</td>\n",
       "    </tr>\n",
       "    <tr>\n",
       "      <th rowspan=\"3\" valign=\"top\">1</th>\n",
       "      <th>1</th>\n",
       "      <td>29</td>\n",
       "    </tr>\n",
       "    <tr>\n",
       "      <th>3</th>\n",
       "      <td>19</td>\n",
       "    </tr>\n",
       "    <tr>\n",
       "      <th>4</th>\n",
       "      <td>2</td>\n",
       "    </tr>\n",
       "    <tr>\n",
       "      <th rowspan=\"6\" valign=\"top\">2</th>\n",
       "      <th>0</th>\n",
       "      <td>12</td>\n",
       "    </tr>\n",
       "    <tr>\n",
       "      <th>1</th>\n",
       "      <td>1</td>\n",
       "    </tr>\n",
       "    <tr>\n",
       "      <th>2</th>\n",
       "      <td>6</td>\n",
       "    </tr>\n",
       "    <tr>\n",
       "      <th>3</th>\n",
       "      <td>8</td>\n",
       "    </tr>\n",
       "    <tr>\n",
       "      <th>4</th>\n",
       "      <td>7</td>\n",
       "    </tr>\n",
       "    <tr>\n",
       "      <th>5</th>\n",
       "      <td>6</td>\n",
       "    </tr>\n",
       "    <tr>\n",
       "      <th rowspan=\"3\" valign=\"top\">3</th>\n",
       "      <th>1</th>\n",
       "      <td>8</td>\n",
       "    </tr>\n",
       "    <tr>\n",
       "      <th>3</th>\n",
       "      <td>31</td>\n",
       "    </tr>\n",
       "    <tr>\n",
       "      <th>4</th>\n",
       "      <td>1</td>\n",
       "    </tr>\n",
       "    <tr>\n",
       "      <th rowspan=\"5\" valign=\"top\">4</th>\n",
       "      <th>0</th>\n",
       "      <td>4</td>\n",
       "    </tr>\n",
       "    <tr>\n",
       "      <th>2</th>\n",
       "      <td>10</td>\n",
       "    </tr>\n",
       "    <tr>\n",
       "      <th>3</th>\n",
       "      <td>1</td>\n",
       "    </tr>\n",
       "    <tr>\n",
       "      <th>4</th>\n",
       "      <td>18</td>\n",
       "    </tr>\n",
       "    <tr>\n",
       "      <th>5</th>\n",
       "      <td>7</td>\n",
       "    </tr>\n",
       "    <tr>\n",
       "      <th rowspan=\"4\" valign=\"top\">5</th>\n",
       "      <th>0</th>\n",
       "      <td>14</td>\n",
       "    </tr>\n",
       "    <tr>\n",
       "      <th>2</th>\n",
       "      <td>4</td>\n",
       "    </tr>\n",
       "    <tr>\n",
       "      <th>3</th>\n",
       "      <td>5</td>\n",
       "    </tr>\n",
       "    <tr>\n",
       "      <th>5</th>\n",
       "      <td>17</td>\n",
       "    </tr>\n",
       "  </tbody>\n",
       "</table>\n",
       "</div>"
      ],
      "text/plain": [
       "                  match\n",
       "y_true y_predict       \n",
       "0      0              8\n",
       "       2             13\n",
       "       3              1\n",
       "       5              8\n",
       "1      1             29\n",
       "       3             19\n",
       "       4              2\n",
       "2      0             12\n",
       "       1              1\n",
       "       2              6\n",
       "       3              8\n",
       "       4              7\n",
       "       5              6\n",
       "3      1              8\n",
       "       3             31\n",
       "       4              1\n",
       "4      0              4\n",
       "       2             10\n",
       "       3              1\n",
       "       4             18\n",
       "       5              7\n",
       "5      0             14\n",
       "       2              4\n",
       "       3              5\n",
       "       5             17"
      ]
     },
     "execution_count": 47,
     "metadata": {},
     "output_type": "execute_result"
    }
   ],
   "source": [
    "val_result.groupby([\"y_true\", \"y_predict\"]).count()"
   ]
  },
  {
   "cell_type": "markdown",
   "id": "2b4cca59",
   "metadata": {},
   "source": [
    "Чаще всего модель путает вилки с ножами и наоборот. "
   ]
  },
  {
   "cell_type": "markdown",
   "id": "542f5e6b",
   "metadata": {},
   "source": [
    "## Bag of words для сегментированной картинки"
   ]
  },
  {
   "cell_type": "markdown",
   "id": "40f2131b",
   "metadata": {},
   "source": [
    "Для построения модели для сегментировнных изображений нужно раскомментить функцию adaptiveThreshold в двух местах)\n",
    "Остальная процедура аналогичная.\n",
    "\n",
    "При работе с сегментировнными изображениями качество модели немного лучше - на тестовых данных accuracy 0.4375. Но тоже не слишком высокое."
   ]
  },
  {
   "cell_type": "code",
   "execution_count": null,
   "id": "23e87cb6",
   "metadata": {},
   "outputs": [],
   "source": []
  }
 ],
 "metadata": {
  "kernelspec": {
   "display_name": "Python 3 (ipykernel)",
   "language": "python",
   "name": "python3"
  },
  "language_info": {
   "codemirror_mode": {
    "name": "ipython",
    "version": 3
   },
   "file_extension": ".py",
   "mimetype": "text/x-python",
   "name": "python",
   "nbconvert_exporter": "python",
   "pygments_lexer": "ipython3",
   "version": "3.8.10"
  }
 },
 "nbformat": 4,
 "nbformat_minor": 5
}
