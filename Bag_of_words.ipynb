{
 "cells": [
  {
   "cell_type": "markdown",
   "id": "16e19b3f",
   "metadata": {},
   "source": [
    "# Классификация посуды с помощью метода Bag-of-Visual-Words\n",
    "\n",
    "Импортируем необходимые библиотеки"
   ]
  },
  {
   "cell_type": "code",
   "execution_count": 1,
   "id": "f59a0854",
   "metadata": {},
   "outputs": [],
   "source": [
    "import numpy as np\n",
    "import os\n",
    "import os.path\n",
    "import cv2\n",
    "import matplotlib.pyplot as plt\n",
    "from skimage.transform import rotate\n",
    "from skimage.feature import hog\n",
    "from skimage.exposure import rescale_intensity\n",
    "import random\n",
    "from tqdm import tqdm\n",
    "\n",
    "import pandas as pd\n",
    "\n",
    "import warnings\n",
    "warnings.filterwarnings(\"ignore\")"
   ]
  },
  {
   "cell_type": "code",
   "execution_count": 2,
   "id": "0c42aa50",
   "metadata": {},
   "outputs": [],
   "source": [
    "# !pip install tqdm\n",
    "# !pip install ipywidgets"
   ]
  },
  {
   "cell_type": "markdown",
   "id": "74583281",
   "metadata": {},
   "source": [
    "Сформируем датасет из директории с изображениями. Датасет содержит 2 столбца - категория объекта и путь к файлу. Общее количество изображений - 143."
   ]
  },
  {
   "cell_type": "code",
   "execution_count": 3,
   "id": "31cceedf",
   "metadata": {},
   "outputs": [],
   "source": [
    "dir = './Dataset_origin'"
   ]
  },
  {
   "cell_type": "code",
   "execution_count": 4,
   "id": "42e904c6",
   "metadata": {},
   "outputs": [
    {
     "data": {
      "text/plain": [
       "(143, 2)"
      ]
     },
     "execution_count": 4,
     "metadata": {},
     "output_type": "execute_result"
    }
   ],
   "source": [
    "# создадим датафрем с нашими данными.\n",
    "def create_df(directory):\n",
    "    name = []\n",
    "    for dirname, _, filenames in os.walk(directory):\n",
    "        for filename in filenames:\n",
    "            name.append([dirname.split('/')[-1], os.path.join(dirname, filename)])\n",
    "    \n",
    "    \n",
    "    return pd.DataFrame(columns = ['category', 'way'], data = name)\n",
    "\n",
    "df = create_df('./Dataset_origin')\n",
    "df.shape"
   ]
  },
  {
   "cell_type": "code",
   "execution_count": 5,
   "id": "ceb5a0f6",
   "metadata": {},
   "outputs": [],
   "source": [
    "# заменим категриальные признаки на числовые\n",
    "slovar = {}\n",
    "my_list = df['category'].unique()\n",
    "for counter, value in enumerate(my_list):\n",
    "    slovar[value] = counter\n",
    "\n",
    "df['category'] = df['category'].map(slovar)"
   ]
  },
  {
   "cell_type": "code",
   "execution_count": 6,
   "id": "6a7276eb",
   "metadata": {},
   "outputs": [
    {
     "data": {
      "text/html": [
       "<div>\n",
       "<style scoped>\n",
       "    .dataframe tbody tr th:only-of-type {\n",
       "        vertical-align: middle;\n",
       "    }\n",
       "\n",
       "    .dataframe tbody tr th {\n",
       "        vertical-align: top;\n",
       "    }\n",
       "\n",
       "    .dataframe thead th {\n",
       "        text-align: right;\n",
       "    }\n",
       "</style>\n",
       "<table border=\"1\" class=\"dataframe\">\n",
       "  <thead>\n",
       "    <tr style=\"text-align: right;\">\n",
       "      <th></th>\n",
       "      <th>category</th>\n",
       "      <th>way</th>\n",
       "    </tr>\n",
       "  </thead>\n",
       "  <tbody>\n",
       "    <tr>\n",
       "      <th>0</th>\n",
       "      <td>0</td>\n",
       "      <td>./Dataset_origin/fork/IMG_20211219_193440.jpg</td>\n",
       "    </tr>\n",
       "    <tr>\n",
       "      <th>1</th>\n",
       "      <td>0</td>\n",
       "      <td>./Dataset_origin/fork/IMG_20211219_193329.jpg</td>\n",
       "    </tr>\n",
       "    <tr>\n",
       "      <th>2</th>\n",
       "      <td>0</td>\n",
       "      <td>./Dataset_origin/fork/fork.jpg</td>\n",
       "    </tr>\n",
       "    <tr>\n",
       "      <th>3</th>\n",
       "      <td>0</td>\n",
       "      <td>./Dataset_origin/fork/IMG_20211219_193508.jpg</td>\n",
       "    </tr>\n",
       "    <tr>\n",
       "      <th>4</th>\n",
       "      <td>0</td>\n",
       "      <td>./Dataset_origin/fork/IMG_20211120_173901.jpg</td>\n",
       "    </tr>\n",
       "  </tbody>\n",
       "</table>\n",
       "</div>"
      ],
      "text/plain": [
       "   category                                            way\n",
       "0         0  ./Dataset_origin/fork/IMG_20211219_193440.jpg\n",
       "1         0  ./Dataset_origin/fork/IMG_20211219_193329.jpg\n",
       "2         0                 ./Dataset_origin/fork/fork.jpg\n",
       "3         0  ./Dataset_origin/fork/IMG_20211219_193508.jpg\n",
       "4         0  ./Dataset_origin/fork/IMG_20211120_173901.jpg"
      ]
     },
     "execution_count": 6,
     "metadata": {},
     "output_type": "execute_result"
    }
   ],
   "source": [
    "df.head()"
   ]
  },
  {
   "cell_type": "markdown",
   "id": "7f2a0b8a",
   "metadata": {},
   "source": [
    "Посмотрим на доли классов в нашей выборке. Доли примерно равные, максимальная доля класса - 18%. Если модель будет всем объектам предсказывать категорию 0, то accuracy такой модели будет около 0,18."
   ]
  },
  {
   "cell_type": "code",
   "execution_count": 7,
   "id": "91c54d21",
   "metadata": {},
   "outputs": [
    {
     "data": {
      "text/plain": [
       "category\n",
       "0    18.18\n",
       "1    16.78\n",
       "2    16.78\n",
       "3    16.08\n",
       "4    16.78\n",
       "5    15.38\n",
       "Name: way, dtype: float64"
      ]
     },
     "execution_count": 7,
     "metadata": {},
     "output_type": "execute_result"
    }
   ],
   "source": [
    "np.round(df.groupby(\"category\")[\"way\"].count() / df.shape[0] * 100, 2)"
   ]
  },
  {
   "cell_type": "code",
   "execution_count": 8,
   "id": "805a8ffe",
   "metadata": {},
   "outputs": [
    {
     "data": {
      "text/plain": [
       "{'fork': 0, 'plate': 1, 'knife': 2, 'cup': 3, 'glass': 4, 'spoon': 5}"
      ]
     },
     "execution_count": 8,
     "metadata": {},
     "output_type": "execute_result"
    }
   ],
   "source": [
    "slovar"
   ]
  },
  {
   "cell_type": "markdown",
   "id": "3ecf1bdd",
   "metadata": {},
   "source": [
    "Разделим выборку на train и val в пропорции 80:20. Будем использовать стратификацию, чтобы доли классов в обучающей и валидационной выборке совпадали с исходной выборкой.\n",
    "\n",
    "Так мы получим 114 изображений в тестовой и 29 в валидационной выборке."
   ]
  },
  {
   "cell_type": "code",
   "execution_count": 9,
   "id": "5633a8a7",
   "metadata": {},
   "outputs": [],
   "source": [
    "from sklearn.model_selection import train_test_split\n",
    "\n",
    "df_train, df_val = train_test_split(df, test_size=0.2, stratify = df[\"category\"], random_state=10)"
   ]
  },
  {
   "cell_type": "code",
   "execution_count": 10,
   "id": "3365d59e",
   "metadata": {},
   "outputs": [
    {
     "data": {
      "text/plain": [
       "((114, 2), (29, 2))"
      ]
     },
     "execution_count": 10,
     "metadata": {},
     "output_type": "execute_result"
    }
   ],
   "source": [
    "df_train.shape, df_val.shape"
   ]
  },
  {
   "cell_type": "markdown",
   "id": "a5e02906",
   "metadata": {},
   "source": [
    "## Предобработка изображений\n",
    "\n",
    "Для каждого изображения применим нормировку яркости, изменим размер до 128х128 и применим детектор границ Кенни. Сглаживание Гаусса применяется внутри детектора Кенни."
   ]
  },
  {
   "cell_type": "code",
   "execution_count": 11,
   "id": "d6b95296",
   "metadata": {
    "scrolled": true
   },
   "outputs": [
    {
     "data": {
      "text/plain": [
       "<matplotlib.image.AxesImage at 0x7f5f2f3ed8b0>"
      ]
     },
     "execution_count": 11,
     "metadata": {},
     "output_type": "execute_result"
    },
    {
     "data": {
      "image/png": "[encoded data removed]",
      "text/plain": [
       "<Figure size 576x288 with 2 Axes>"
      ]
     },
     "metadata": {
      "needs_background": "light"
     },
     "output_type": "display_data"
    }
   ],
   "source": [
    "def first_prepare(img):\n",
    "     # нормализуем интенсивности от 0 до 255\n",
    "    img = cv2.normalize(img, None, 0, 255, norm_type=cv2.NORM_MINMAX)\n",
    "    \n",
    "    # уменьшим размер\n",
    "    img = cv2.resize(img, (128, 128))\n",
    "    \n",
    "    # найдем границы на изображении\n",
    "    img = cv2.Canny(np.uint8(img), 200, 450)\n",
    "#     img = cv2.Canny(np.uint8(img), 100, 200)\n",
    "    \n",
    "    return img\n",
    "\n",
    "# пример работы функции предобработки\n",
    "img = cv2.imread(df_train.iloc[47, 1], cv2.IMREAD_GRAYSCALE)\n",
    "img_prepared = first_prepare(img)\n",
    "\n",
    "fig, axx = plt.subplots(1, 2, figsize= (8,4))\n",
    "axx[0].imshow(img, cmap=\"gray\")\n",
    "axx[1].imshow(img_prepared, cmap=\"gray\")"
   ]
  },
  {
   "cell_type": "markdown",
   "id": "49d9f072",
   "metadata": {},
   "source": [
    "## Аугментация изображений\n",
    "\n",
    "Аугментация будет включать в себя:\n",
    "- случайный поворот на угол от -20 до +20 градусов\n",
    "- случайное отображение относительно вертикальной оси\n",
    "\n",
    "Аугментации будем делать \"на лету\", чтобы не хранить на диске большое количество фотографий и чтобы аугментированные фотографии попадали в обучающую или валидационную выборку вместе с исходным изображением. Это даст уверенность, что метрики качества модели не будут завышены из-за попадания почти одинаковых изображений в обучающую и валидационную выборки."
   ]
  },
  {
   "cell_type": "code",
   "execution_count": 17,
   "id": "a2e68246",
   "metadata": {},
   "outputs": [],
   "source": [
    "def rot(image, angle=5, scale=1.0):\n",
    "    # поворот\n",
    "    return rotate(image, angle, resize=False, mode=\"edge\") * 255\n",
    "\n",
    "def flip(image, vflip=False, hflip=False):\n",
    "    # перевернуть изображение\n",
    "    if hflip or vflip:\n",
    "        if hflip and vflip:\n",
    "            c = -1\n",
    "        else:\n",
    "            c = 0 if vflip else 1\n",
    "        image = cv2.flip(image, flipCode=c)\n",
    "    return image \n",
    "\n",
    "# не используется из-за ошибок в детекторе canny после такой обработки\n",
    "def color(image_name):\n",
    "    # поменяем матрицу hsv\n",
    "    image = cv2.imread(image_name, cv2.COLOR_BGR2HSV) \n",
    "    h,s,v = cv2.split(image)\n",
    "    new_image = cv2.merge((h+10,s-20,v+15))\n",
    "    image = cv2.cvtColor(new_image, cv2.COLOR_HSV2RGB)\n",
    "    return image"
   ]
  },
  {
   "cell_type": "code",
   "execution_count": 13,
   "id": "bbf2d187",
   "metadata": {},
   "outputs": [],
   "source": [
    "def augmentation(image_name, n_aug):\n",
    "    \n",
    "    # Augmentation для наших данных\n",
    "    # image_name - путь к файлу\n",
    "    # n_aug -  номер текущей аугментации, чтобы различать изображения в обучающем датасете\n",
    "\n",
    "    image = cv2.imread(image_name, cv2.IMREAD_GRAYSCALE)  \n",
    "    file_name = image_name[len(\"./Dataset_origin\"):-4]\n",
    "\n",
    "    # случайный flip\n",
    "    if (random.random() > 0.5):  \n",
    "        image = flip(image, vflip=False, hflip=True)\n",
    "    # случайный поворот\n",
    "    angle = random.randint(-20, 20)\n",
    "    image = rot(image, angle=angle)\n",
    "    #img_gaussian = add_GaussianNoise(img)\n",
    "    \n",
    "    image = rescale_intensity(image, out_range=(0, 255))\n",
    "\n",
    "    return image"
   ]
  },
  {
   "cell_type": "markdown",
   "id": "63133066",
   "metadata": {},
   "source": [
    "## Составление словаря слов\n",
    "Каждую картинку (исходный размер 128х128) разделим на ячейки 16х16 со смещением 8 пикселей. Итого получим 225 ячеек. \n",
    "\n",
    "Для каждой из них вычислим гистограмму направленных градиентов HOG по 9 направлением. Итого каждый объект (слово) будет представлять из себя вектор длины 9, из каждой картинки получим 225 слов.\n",
    "\n",
    "Все слова из всех картинок разделим на кластеры с помощью алгоритмя K-means (количество кластеров попробуем разное, для начала - 30 штук).\n",
    "Тогда наш словарь будет состоять из 30 слов."
   ]
  },
  {
   "cell_type": "code",
   "execution_count": 14,
   "id": "0a9aaa1e",
   "metadata": {},
   "outputs": [],
   "source": [
    "def get_frames(image, image_name):\n",
    "    # получает 225 векторов длины 9 из каждой картинки\n",
    "    # и возвращает dataframe с этими векторами\n",
    "    \n",
    "    # исходный размер изображения 128*128\n",
    "    win_size = (128, 128)\n",
    "    block_size = (16, 16)\n",
    "    block_stride = (8, 8)\n",
    "    cell_size = (16, 16)\n",
    "    n_bins = 9\n",
    "\n",
    "    hog = cv2.HOGDescriptor(win_size, block_size, block_stride, cell_size, n_bins)\n",
    "\n",
    "    winStride = (8, 8) \n",
    "    padding = (0, 0) \n",
    "    hist = hog.compute(image, winStride, padding) \n",
    "\n",
    "    # количество ячеек 15 * 15, по 9 бинов в каждом = 2025\n",
    "    # сделаем resize в матрицу 225*9, чтобы каждая ячейка (слово) описывалась отдельно\n",
    "    \n",
    "    data = np.reshape(hist, (225, 9))\n",
    "    df = pd.DataFrame(data)\n",
    "    df[\"row\"] = df.index % 15\n",
    "    df[\"col\"] = df.index // 15 \n",
    "    df[\"name\"] = image_name\n",
    "    \n",
    "    return df[[\"name\", \"row\", \"col\", 0, 1, 2, 3, 4, 5, 6, 7, 8]]"
   ]
  },
  {
   "cell_type": "code",
   "execution_count": 15,
   "id": "5702a362",
   "metadata": {},
   "outputs": [
    {
     "data": {
      "text/plain": [
       "<matplotlib.image.AxesImage at 0x7f5f2ea252e0>"
      ]
     },
     "execution_count": 15,
     "metadata": {},
     "output_type": "execute_result"
    },
    {
     "data": {
      "image/png": "[encoded data removed]",
      "text/plain": [
       "<Figure size 432x288 with 1 Axes>"
      ]
     },
     "metadata": {
      "needs_background": "light"
     },
     "output_type": "display_data"
    }
   ],
   "source": [
    "def frame_image(name, row, col):\n",
    "    # по имени файла, номеру строки (от 0 до 14),\n",
    "    # номеру колонки (от 0 до 14)\n",
    "    # возвращает фрагмент изображения 16х16\n",
    "    \n",
    "    image = cv2.imread(name, cv2.IMREAD_GRAYSCALE)\n",
    "    image = first_prepare(image)\n",
    "    \n",
    "    frame = image[row * 8 : (row + 2) * 8, col * 8 : (col + 2) * 8]\n",
    "    return frame\n",
    "\n",
    "# пример работы функции\n",
    "plt.imshow(frame_image(\"./Dataset_origin/fork/IMG_20211119_084920.jpg\", 6, 6))"
   ]
  },
  {
   "cell_type": "code",
   "execution_count": 16,
   "id": "8154be01",
   "metadata": {},
   "outputs": [
    {
     "name": "stderr",
     "output_type": "stream",
     "text": [
      "100%|█████████████████████████████████████████| 114/114 [21:08<00:00, 11.12s/it]\n"
     ]
    }
   ],
   "source": [
    "# обучим K-means на наших данных\n",
    "from sklearn.cluster import KMeans\n",
    "\n",
    "\n",
    "n_augmentations = 10\n",
    "\n",
    "\n",
    "# сформируем список файлов\n",
    "file_list = df_train[\"way\"].to_list()\n",
    "\n",
    "# сформируем dataframe со словами, из него для обучения возьмем только часть колонок \n",
    "# название файла и месторасположение фрагмента не берем\n",
    "\n",
    "train_frames_data = pd.DataFrame(columns=[\"name\", \"row\", \"col\", 0, 1, 2, 3, 4, 5, 6, 7, 8])\n",
    "\n",
    "for file in tqdm(file_list):\n",
    "    for i_augment in range(n_augmentations):\n",
    "        img = augmentation(file, i_augment) if i_augment > 0 else cv2.imread(file, cv2.IMREAD_GRAYSCALE)\n",
    "        aug_name = file + \"_\" + str(i_augment)\n",
    "        img = first_prepare(img)\n",
    "\n",
    "        train_frames_data = pd.concat([train_frames_data, get_frames(img, aug_name)], axis=0)\n",
    "\n",
    "train_frames_data.reset_index(drop=True, inplace=True)        \n",
    "X_hog_train = train_frames_data[[0, 1, 2, 3, 4, 5, 6, 7, 8]]\n",
    "\n",
    "\n"
   ]
  },
  {
   "cell_type": "markdown",
   "id": "826e41bf",
   "metadata": {},
   "source": [
    "Размер датасета, состоящего из фрагментов изображений, а точнее, из hog этих фрагментов (векторов длины 9):"
   ]
  },
  {
   "cell_type": "code",
   "execution_count": 18,
   "id": "cd78daf6",
   "metadata": {},
   "outputs": [
    {
     "data": {
      "text/plain": [
       "(256500, 9)"
      ]
     },
     "execution_count": 18,
     "metadata": {},
     "output_type": "execute_result"
    }
   ],
   "source": [
    "X_hog_train.shape"
   ]
  },
  {
   "cell_type": "code",
   "execution_count": 19,
   "id": "2b6fea9c",
   "metadata": {},
   "outputs": [
    {
     "data": {
      "text/plain": [
       "KMeans(n_clusters=30)"
      ]
     },
     "execution_count": 19,
     "metadata": {},
     "output_type": "execute_result"
    }
   ],
   "source": [
    "n_clusters = 30\n",
    "cls = KMeans(n_clusters=n_clusters)\n",
    "\n",
    "# обучим алгоритм кластеризации\n",
    "cls.fit(X_hog_train)"
   ]
  },
  {
   "cell_type": "markdown",
   "id": "13b03071",
   "metadata": {},
   "source": [
    "Посмотрим на получившиеся кластеры. Для этого в dataframe с информацией о фрагментах всех изображений добавим значение кластера.\n",
    "\n",
    "И посмотрим на объемы кластеров."
   ]
  },
  {
   "cell_type": "code",
   "execution_count": 20,
   "id": "4a652adc",
   "metadata": {},
   "outputs": [
    {
     "data": {
      "text/plain": [
       "0     149142\n",
       "1       8997\n",
       "2       8628\n",
       "19      8069\n",
       "15      5894\n",
       "5       5869\n",
       "23      5779\n",
       "26      5260\n",
       "13      4930\n",
       "28      4771\n",
       "9       4714\n",
       "10      4695\n",
       "3       4448\n",
       "18      3420\n",
       "4       3304\n",
       "8       3246\n",
       "6       2919\n",
       "29      2891\n",
       "25      2784\n",
       "7       2496\n",
       "16      2293\n",
       "24      2128\n",
       "14      1363\n",
       "21      1348\n",
       "11      1342\n",
       "12      1338\n",
       "22      1283\n",
       "17      1223\n",
       "20      1218\n",
       "27       708\n",
       "Name: cluster, dtype: int64"
      ]
     },
     "execution_count": 20,
     "metadata": {},
     "output_type": "execute_result"
    }
   ],
   "source": [
    "train_frames_data[\"cluster\"] = cls.predict(X_hog_train)\n",
    "\n",
    "train_frames_data[\"cluster\"].value_counts()"
   ]
  },
  {
   "cell_type": "markdown",
   "id": "4510fd4d",
   "metadata": {},
   "source": [
    "Видно, что есть один наиболее многочисленный кластер (более половины фрагментов - пустые) и 29 менее многочисленных.\n",
    "\n",
    "Для визуальной оценки кластеров возьмем несколько фрагментов самого многочисленного кластера:"
   ]
  },
  {
   "cell_type": "code",
   "execution_count": 21,
   "id": "8ab66e9f",
   "metadata": {},
   "outputs": [
    {
     "data": {
      "image/png": "[encoded data removed]",
      "text/plain": [
       "<Figure size 648x648 with 9 Axes>"
      ]
     },
     "metadata": {
      "needs_background": "light"
     },
     "output_type": "display_data"
    }
   ],
   "source": [
    "cluster = 0\n",
    "\n",
    "origin_mask = train_frames_data[\"name\"].apply(lambda x: \".jpg_0\" in x)\n",
    "not_aug_frames = train_frames_data[origin_mask]\n",
    "\n",
    "sample = not_aug_frames[not_aug_frames[\"cluster\"] == cluster].sample(n=9)\n",
    "sample.reset_index(drop=True, inplace=True)\n",
    "\n",
    "fig = plt.figure(figsize=(9, 9))\n",
    "\n",
    "for i in range(9):\n",
    "    name = sample.loc[i, \"name\"]\n",
    "    row = sample.loc[i, \"row\"]\n",
    "    col = sample.loc[i, \"col\"]\n",
    "\n",
    "    plt.subplot(3, 3, i + 1)\n",
    "    plt.imshow(frame_image(name[:-2], row, col), cmap='gray')\n",
    "    plt.title(f\"{name}: {row}, {col}\")\n"
   ]
  },
  {
   "cell_type": "markdown",
   "id": "8dfd323a",
   "metadata": {},
   "source": [
    "И какого-нибудь кластера среднего размера"
   ]
  },
  {
   "cell_type": "code",
   "execution_count": 22,
   "id": "4c744a27",
   "metadata": {},
   "outputs": [
    {
     "data": {
      "image/png": "[encoded data removed]",
      "text/plain": [
       "<Figure size 648x648 with 9 Axes>"
      ]
     },
     "metadata": {
      "needs_background": "light"
     },
     "output_type": "display_data"
    }
   ],
   "source": [
    "cluster = 11\n",
    "\n",
    "sample = not_aug_frames[not_aug_frames[\"cluster\"] == cluster].sample(n=9)\n",
    "sample.reset_index(drop=True, inplace=True)\n",
    "\n",
    "fig = plt.figure(figsize=(9, 9))\n",
    "\n",
    "for i in range(9):\n",
    "    name = sample.loc[i, \"name\"]\n",
    "    row = sample.loc[i, \"row\"]\n",
    "    col = sample.loc[i, \"col\"]\n",
    "    \n",
    "    plt.subplot(3, 3, i + 1)\n",
    "    plt.imshow(frame_image(name[:-2], row, col), cmap='gray')\n",
    "    plt.title(f\"{name}: {row}, {col}\")"
   ]
  },
  {
   "cell_type": "markdown",
   "id": "eed7f9b1",
   "metadata": {},
   "source": [
    "### Построение feature vector для изображений\n",
    "\n",
    "Теперь мы можем посмотреть на все 225 фрагментов изображения и определить, к какому из кластеров они относятся и записать частоту этого слова в соответствующую ячейку.\n",
    "\n",
    "Так как наш словарь включает в себя 30 слов, то каждое изображение можно описать вектором длины 30, где на i-м месте стоит частота i-го слова.\n",
    "\n",
    "Информация о номере кластера для каждого фрагмента каждого изображения у нас уже записана в dataframe, нам нужно только группировать ее по названию файла."
   ]
  },
  {
   "cell_type": "code",
   "execution_count": 22,
   "id": "5b7945cf",
   "metadata": {},
   "outputs": [],
   "source": [
    "# попробуем описывать изображения не частотой слов, а TF-IDF\n",
    "\n",
    "# from sklearn.feature_extraction.text import TfidfVectorizer\n",
    "\n",
    "# def create_tfidf_features(data):\n",
    "#     data[\"cluster\"] = data[\"cluster\"].astype(np.str)\n",
    "#     sequences = data.groupby(\"name\")[\"cluster\"].agg(\" \".join)\n",
    "#     vectorizer = TfidfVectorizer()\n",
    "#     tfidf_matrix = vectorizer.fit_transform(sequences)\n",
    "#     data_res = pd.DataFrame.sparse.from_spmatrix(tfidf_matrix)\n",
    "#     data_res.index = sequences.index\n",
    "#     return data_res\n",
    "\n",
    "# features_train = create_tfidf_features(train_frames_data)"
   ]
  },
  {
   "cell_type": "code",
   "execution_count": 23,
   "id": "07d73812",
   "metadata": {},
   "outputs": [
    {
     "data": {
      "text/html": [
       "<div>\n",
       "<style scoped>\n",
       "    .dataframe tbody tr th:only-of-type {\n",
       "        vertical-align: middle;\n",
       "    }\n",
       "\n",
       "    .dataframe tbody tr th {\n",
       "        vertical-align: top;\n",
       "    }\n",
       "\n",
       "    .dataframe thead th {\n",
       "        text-align: right;\n",
       "    }\n",
       "</style>\n",
       "<table border=\"1\" class=\"dataframe\">\n",
       "  <thead>\n",
       "    <tr style=\"text-align: right;\">\n",
       "      <th>cluster</th>\n",
       "      <th>0</th>\n",
       "      <th>1</th>\n",
       "      <th>2</th>\n",
       "      <th>3</th>\n",
       "      <th>4</th>\n",
       "      <th>5</th>\n",
       "      <th>6</th>\n",
       "      <th>7</th>\n",
       "      <th>8</th>\n",
       "      <th>9</th>\n",
       "      <th>...</th>\n",
       "      <th>20</th>\n",
       "      <th>21</th>\n",
       "      <th>22</th>\n",
       "      <th>23</th>\n",
       "      <th>24</th>\n",
       "      <th>25</th>\n",
       "      <th>26</th>\n",
       "      <th>27</th>\n",
       "      <th>28</th>\n",
       "      <th>29</th>\n",
       "    </tr>\n",
       "    <tr>\n",
       "      <th>name</th>\n",
       "      <th></th>\n",
       "      <th></th>\n",
       "      <th></th>\n",
       "      <th></th>\n",
       "      <th></th>\n",
       "      <th></th>\n",
       "      <th></th>\n",
       "      <th></th>\n",
       "      <th></th>\n",
       "      <th></th>\n",
       "      <th></th>\n",
       "      <th></th>\n",
       "      <th></th>\n",
       "      <th></th>\n",
       "      <th></th>\n",
       "      <th></th>\n",
       "      <th></th>\n",
       "      <th></th>\n",
       "      <th></th>\n",
       "      <th></th>\n",
       "      <th></th>\n",
       "    </tr>\n",
       "  </thead>\n",
       "  <tbody>\n",
       "    <tr>\n",
       "      <th>./Dataset_origin/cup/IMG_20211117_085845.jpg_0</th>\n",
       "      <td>122</td>\n",
       "      <td>6</td>\n",
       "      <td>5</td>\n",
       "      <td>14</td>\n",
       "      <td>5</td>\n",
       "      <td>11</td>\n",
       "      <td>4</td>\n",
       "      <td>5</td>\n",
       "      <td>2</td>\n",
       "      <td>2</td>\n",
       "      <td>...</td>\n",
       "      <td>3</td>\n",
       "      <td>0</td>\n",
       "      <td>0</td>\n",
       "      <td>3</td>\n",
       "      <td>6</td>\n",
       "      <td>5</td>\n",
       "      <td>0</td>\n",
       "      <td>1</td>\n",
       "      <td>3</td>\n",
       "      <td>2</td>\n",
       "    </tr>\n",
       "    <tr>\n",
       "      <th>./Dataset_origin/cup/IMG_20211117_085845.jpg_1</th>\n",
       "      <td>108</td>\n",
       "      <td>5</td>\n",
       "      <td>9</td>\n",
       "      <td>8</td>\n",
       "      <td>5</td>\n",
       "      <td>9</td>\n",
       "      <td>3</td>\n",
       "      <td>0</td>\n",
       "      <td>3</td>\n",
       "      <td>6</td>\n",
       "      <td>...</td>\n",
       "      <td>2</td>\n",
       "      <td>1</td>\n",
       "      <td>1</td>\n",
       "      <td>8</td>\n",
       "      <td>5</td>\n",
       "      <td>6</td>\n",
       "      <td>2</td>\n",
       "      <td>0</td>\n",
       "      <td>2</td>\n",
       "      <td>2</td>\n",
       "    </tr>\n",
       "    <tr>\n",
       "      <th>./Dataset_origin/cup/IMG_20211117_085845.jpg_2</th>\n",
       "      <td>109</td>\n",
       "      <td>8</td>\n",
       "      <td>7</td>\n",
       "      <td>6</td>\n",
       "      <td>2</td>\n",
       "      <td>13</td>\n",
       "      <td>0</td>\n",
       "      <td>5</td>\n",
       "      <td>2</td>\n",
       "      <td>4</td>\n",
       "      <td>...</td>\n",
       "      <td>4</td>\n",
       "      <td>3</td>\n",
       "      <td>1</td>\n",
       "      <td>4</td>\n",
       "      <td>4</td>\n",
       "      <td>1</td>\n",
       "      <td>8</td>\n",
       "      <td>1</td>\n",
       "      <td>2</td>\n",
       "      <td>5</td>\n",
       "    </tr>\n",
       "    <tr>\n",
       "      <th>./Dataset_origin/cup/IMG_20211117_085845.jpg_3</th>\n",
       "      <td>102</td>\n",
       "      <td>2</td>\n",
       "      <td>18</td>\n",
       "      <td>0</td>\n",
       "      <td>2</td>\n",
       "      <td>4</td>\n",
       "      <td>0</td>\n",
       "      <td>11</td>\n",
       "      <td>2</td>\n",
       "      <td>0</td>\n",
       "      <td>...</td>\n",
       "      <td>3</td>\n",
       "      <td>4</td>\n",
       "      <td>2</td>\n",
       "      <td>8</td>\n",
       "      <td>0</td>\n",
       "      <td>0</td>\n",
       "      <td>4</td>\n",
       "      <td>0</td>\n",
       "      <td>1</td>\n",
       "      <td>3</td>\n",
       "    </tr>\n",
       "    <tr>\n",
       "      <th>./Dataset_origin/cup/IMG_20211117_085845.jpg_4</th>\n",
       "      <td>103</td>\n",
       "      <td>7</td>\n",
       "      <td>19</td>\n",
       "      <td>11</td>\n",
       "      <td>2</td>\n",
       "      <td>5</td>\n",
       "      <td>1</td>\n",
       "      <td>4</td>\n",
       "      <td>3</td>\n",
       "      <td>8</td>\n",
       "      <td>...</td>\n",
       "      <td>0</td>\n",
       "      <td>0</td>\n",
       "      <td>0</td>\n",
       "      <td>7</td>\n",
       "      <td>3</td>\n",
       "      <td>1</td>\n",
       "      <td>10</td>\n",
       "      <td>0</td>\n",
       "      <td>3</td>\n",
       "      <td>7</td>\n",
       "    </tr>\n",
       "  </tbody>\n",
       "</table>\n",
       "<p>5 rows × 30 columns</p>\n",
       "</div>"
      ],
      "text/plain": [
       "cluster                                          0   1   2   3   4   5   6   \\\n",
       "name                                                                          \n",
       "./Dataset_origin/cup/IMG_20211117_085845.jpg_0  122   6   5  14   5  11   4   \n",
       "./Dataset_origin/cup/IMG_20211117_085845.jpg_1  108   5   9   8   5   9   3   \n",
       "./Dataset_origin/cup/IMG_20211117_085845.jpg_2  109   8   7   6   2  13   0   \n",
       "./Dataset_origin/cup/IMG_20211117_085845.jpg_3  102   2  18   0   2   4   0   \n",
       "./Dataset_origin/cup/IMG_20211117_085845.jpg_4  103   7  19  11   2   5   1   \n",
       "\n",
       "cluster                                         7   8   9   ...  20  21  22  \\\n",
       "name                                                        ...               \n",
       "./Dataset_origin/cup/IMG_20211117_085845.jpg_0   5   2   2  ...   3   0   0   \n",
       "./Dataset_origin/cup/IMG_20211117_085845.jpg_1   0   3   6  ...   2   1   1   \n",
       "./Dataset_origin/cup/IMG_20211117_085845.jpg_2   5   2   4  ...   4   3   1   \n",
       "./Dataset_origin/cup/IMG_20211117_085845.jpg_3  11   2   0  ...   3   4   2   \n",
       "./Dataset_origin/cup/IMG_20211117_085845.jpg_4   4   3   8  ...   0   0   0   \n",
       "\n",
       "cluster                                         23  24  25  26  27  28  29  \n",
       "name                                                                        \n",
       "./Dataset_origin/cup/IMG_20211117_085845.jpg_0   3   6   5   0   1   3   2  \n",
       "./Dataset_origin/cup/IMG_20211117_085845.jpg_1   8   5   6   2   0   2   2  \n",
       "./Dataset_origin/cup/IMG_20211117_085845.jpg_2   4   4   1   8   1   2   5  \n",
       "./Dataset_origin/cup/IMG_20211117_085845.jpg_3   8   0   0   4   0   1   3  \n",
       "./Dataset_origin/cup/IMG_20211117_085845.jpg_4   7   3   1  10   0   3   7  \n",
       "\n",
       "[5 rows x 30 columns]"
      ]
     },
     "execution_count": 23,
     "metadata": {},
     "output_type": "execute_result"
    }
   ],
   "source": [
    "def create_features(data, vocab_volume):\n",
    "    df_counts = (data[[\"name\", \"cluster\", \"row\"]]\n",
    "                 .groupby([\"name\", \"cluster\"], as_index=False)\n",
    "                 .agg(\"count\")\n",
    "    )\n",
    "    df_counts = df_counts.rename(columns={\"row\": \"count\"})\n",
    "    # проверка на присутствие всех кластеров\n",
    "    names_list = df_counts[\"name\"].unique()\n",
    "    for name in names_list:\n",
    "        values_list = df_counts[df_counts[\"name\"] == name][\"cluster\"].to_list() \n",
    "        for i in range(vocab_volume):          \n",
    "            if i not in values_list:\n",
    "                df_counts = df_counts.append({\"name\": name, \"cluster\": i, \"count\": 0}, ignore_index=True)\n",
    "    \n",
    "    \n",
    "    df_counts_wide = df_counts.pivot_table(index=[\"name\"], \n",
    "                                           columns=[\"cluster\"], \n",
    "                                           values=[\"count\"], \n",
    "                                           fill_value=0)\n",
    "    df_counts_wide.columns = df_counts_wide.columns.get_level_values(1)\n",
    "    \n",
    "    \n",
    "    return df_counts_wide\n",
    "\n",
    "\n",
    "features_train = create_features(train_frames_data, n_clusters)\n",
    "features_train.head()"
   ]
  },
  {
   "cell_type": "markdown",
   "id": "df935642",
   "metadata": {},
   "source": [
    "Теперь нужно склеить полученное описание с целевой переменной."
   ]
  },
  {
   "cell_type": "code",
   "execution_count": 24,
   "id": "9d4c448b",
   "metadata": {},
   "outputs": [],
   "source": [
    "features_train[\"origin_name\"] = features_train.index\n",
    "features_train[\"origin_name\"] = features_train[\"origin_name\"].apply(lambda x: x[:x.rfind(\"_\")])\n",
    "features_train.reset_index(inplace=True)\n",
    "data_train = pd.merge(features_train, df_train, \n",
    "                      left_on=\"origin_name\", right_on=\"way\")\n",
    "data_train.set_index(\"name\", inplace=True)\n",
    "data_train.drop([\"origin_name\", \"way\"], axis=1, inplace=True)"
   ]
  },
  {
   "cell_type": "code",
   "execution_count": 25,
   "id": "edc5fad6",
   "metadata": {},
   "outputs": [],
   "source": [
    "y_train = data_train.pop(\"category\")\n",
    "X_train = data_train"
   ]
  },
  {
   "cell_type": "code",
   "execution_count": 26,
   "id": "316ce823",
   "metadata": {},
   "outputs": [
    {
     "data": {
      "text/html": [
       "<div>\n",
       "<style scoped>\n",
       "    .dataframe tbody tr th:only-of-type {\n",
       "        vertical-align: middle;\n",
       "    }\n",
       "\n",
       "    .dataframe tbody tr th {\n",
       "        vertical-align: top;\n",
       "    }\n",
       "\n",
       "    .dataframe thead th {\n",
       "        text-align: right;\n",
       "    }\n",
       "</style>\n",
       "<table border=\"1\" class=\"dataframe\">\n",
       "  <thead>\n",
       "    <tr style=\"text-align: right;\">\n",
       "      <th></th>\n",
       "      <th>0</th>\n",
       "      <th>1</th>\n",
       "      <th>2</th>\n",
       "      <th>3</th>\n",
       "      <th>4</th>\n",
       "      <th>5</th>\n",
       "      <th>6</th>\n",
       "      <th>7</th>\n",
       "      <th>8</th>\n",
       "      <th>9</th>\n",
       "      <th>...</th>\n",
       "      <th>20</th>\n",
       "      <th>21</th>\n",
       "      <th>22</th>\n",
       "      <th>23</th>\n",
       "      <th>24</th>\n",
       "      <th>25</th>\n",
       "      <th>26</th>\n",
       "      <th>27</th>\n",
       "      <th>28</th>\n",
       "      <th>29</th>\n",
       "    </tr>\n",
       "    <tr>\n",
       "      <th>name</th>\n",
       "      <th></th>\n",
       "      <th></th>\n",
       "      <th></th>\n",
       "      <th></th>\n",
       "      <th></th>\n",
       "      <th></th>\n",
       "      <th></th>\n",
       "      <th></th>\n",
       "      <th></th>\n",
       "      <th></th>\n",
       "      <th></th>\n",
       "      <th></th>\n",
       "      <th></th>\n",
       "      <th></th>\n",
       "      <th></th>\n",
       "      <th></th>\n",
       "      <th></th>\n",
       "      <th></th>\n",
       "      <th></th>\n",
       "      <th></th>\n",
       "      <th></th>\n",
       "    </tr>\n",
       "  </thead>\n",
       "  <tbody>\n",
       "    <tr>\n",
       "      <th>./Dataset_origin/cup/IMG_20211117_085845.jpg_0</th>\n",
       "      <td>122</td>\n",
       "      <td>6</td>\n",
       "      <td>5</td>\n",
       "      <td>14</td>\n",
       "      <td>5</td>\n",
       "      <td>11</td>\n",
       "      <td>4</td>\n",
       "      <td>5</td>\n",
       "      <td>2</td>\n",
       "      <td>2</td>\n",
       "      <td>...</td>\n",
       "      <td>3</td>\n",
       "      <td>0</td>\n",
       "      <td>0</td>\n",
       "      <td>3</td>\n",
       "      <td>6</td>\n",
       "      <td>5</td>\n",
       "      <td>0</td>\n",
       "      <td>1</td>\n",
       "      <td>3</td>\n",
       "      <td>2</td>\n",
       "    </tr>\n",
       "    <tr>\n",
       "      <th>./Dataset_origin/cup/IMG_20211117_085845.jpg_1</th>\n",
       "      <td>108</td>\n",
       "      <td>5</td>\n",
       "      <td>9</td>\n",
       "      <td>8</td>\n",
       "      <td>5</td>\n",
       "      <td>9</td>\n",
       "      <td>3</td>\n",
       "      <td>0</td>\n",
       "      <td>3</td>\n",
       "      <td>6</td>\n",
       "      <td>...</td>\n",
       "      <td>2</td>\n",
       "      <td>1</td>\n",
       "      <td>1</td>\n",
       "      <td>8</td>\n",
       "      <td>5</td>\n",
       "      <td>6</td>\n",
       "      <td>2</td>\n",
       "      <td>0</td>\n",
       "      <td>2</td>\n",
       "      <td>2</td>\n",
       "    </tr>\n",
       "    <tr>\n",
       "      <th>./Dataset_origin/cup/IMG_20211117_085845.jpg_2</th>\n",
       "      <td>109</td>\n",
       "      <td>8</td>\n",
       "      <td>7</td>\n",
       "      <td>6</td>\n",
       "      <td>2</td>\n",
       "      <td>13</td>\n",
       "      <td>0</td>\n",
       "      <td>5</td>\n",
       "      <td>2</td>\n",
       "      <td>4</td>\n",
       "      <td>...</td>\n",
       "      <td>4</td>\n",
       "      <td>3</td>\n",
       "      <td>1</td>\n",
       "      <td>4</td>\n",
       "      <td>4</td>\n",
       "      <td>1</td>\n",
       "      <td>8</td>\n",
       "      <td>1</td>\n",
       "      <td>2</td>\n",
       "      <td>5</td>\n",
       "    </tr>\n",
       "    <tr>\n",
       "      <th>./Dataset_origin/cup/IMG_20211117_085845.jpg_3</th>\n",
       "      <td>102</td>\n",
       "      <td>2</td>\n",
       "      <td>18</td>\n",
       "      <td>0</td>\n",
       "      <td>2</td>\n",
       "      <td>4</td>\n",
       "      <td>0</td>\n",
       "      <td>11</td>\n",
       "      <td>2</td>\n",
       "      <td>0</td>\n",
       "      <td>...</td>\n",
       "      <td>3</td>\n",
       "      <td>4</td>\n",
       "      <td>2</td>\n",
       "      <td>8</td>\n",
       "      <td>0</td>\n",
       "      <td>0</td>\n",
       "      <td>4</td>\n",
       "      <td>0</td>\n",
       "      <td>1</td>\n",
       "      <td>3</td>\n",
       "    </tr>\n",
       "    <tr>\n",
       "      <th>./Dataset_origin/cup/IMG_20211117_085845.jpg_4</th>\n",
       "      <td>103</td>\n",
       "      <td>7</td>\n",
       "      <td>19</td>\n",
       "      <td>11</td>\n",
       "      <td>2</td>\n",
       "      <td>5</td>\n",
       "      <td>1</td>\n",
       "      <td>4</td>\n",
       "      <td>3</td>\n",
       "      <td>8</td>\n",
       "      <td>...</td>\n",
       "      <td>0</td>\n",
       "      <td>0</td>\n",
       "      <td>0</td>\n",
       "      <td>7</td>\n",
       "      <td>3</td>\n",
       "      <td>1</td>\n",
       "      <td>10</td>\n",
       "      <td>0</td>\n",
       "      <td>3</td>\n",
       "      <td>7</td>\n",
       "    </tr>\n",
       "  </tbody>\n",
       "</table>\n",
       "<p>5 rows × 30 columns</p>\n",
       "</div>"
      ],
      "text/plain": [
       "                                                 0   1   2   3   4   5   6   \\\n",
       "name                                                                          \n",
       "./Dataset_origin/cup/IMG_20211117_085845.jpg_0  122   6   5  14   5  11   4   \n",
       "./Dataset_origin/cup/IMG_20211117_085845.jpg_1  108   5   9   8   5   9   3   \n",
       "./Dataset_origin/cup/IMG_20211117_085845.jpg_2  109   8   7   6   2  13   0   \n",
       "./Dataset_origin/cup/IMG_20211117_085845.jpg_3  102   2  18   0   2   4   0   \n",
       "./Dataset_origin/cup/IMG_20211117_085845.jpg_4  103   7  19  11   2   5   1   \n",
       "\n",
       "                                                7   8   9   ...  20  21  22  \\\n",
       "name                                                        ...               \n",
       "./Dataset_origin/cup/IMG_20211117_085845.jpg_0   5   2   2  ...   3   0   0   \n",
       "./Dataset_origin/cup/IMG_20211117_085845.jpg_1   0   3   6  ...   2   1   1   \n",
       "./Dataset_origin/cup/IMG_20211117_085845.jpg_2   5   2   4  ...   4   3   1   \n",
       "./Dataset_origin/cup/IMG_20211117_085845.jpg_3  11   2   0  ...   3   4   2   \n",
       "./Dataset_origin/cup/IMG_20211117_085845.jpg_4   4   3   8  ...   0   0   0   \n",
       "\n",
       "                                                23  24  25  26  27  28  29  \n",
       "name                                                                        \n",
       "./Dataset_origin/cup/IMG_20211117_085845.jpg_0   3   6   5   0   1   3   2  \n",
       "./Dataset_origin/cup/IMG_20211117_085845.jpg_1   8   5   6   2   0   2   2  \n",
       "./Dataset_origin/cup/IMG_20211117_085845.jpg_2   4   4   1   8   1   2   5  \n",
       "./Dataset_origin/cup/IMG_20211117_085845.jpg_3   8   0   0   4   0   1   3  \n",
       "./Dataset_origin/cup/IMG_20211117_085845.jpg_4   7   3   1  10   0   3   7  \n",
       "\n",
       "[5 rows x 30 columns]"
      ]
     },
     "execution_count": 26,
     "metadata": {},
     "output_type": "execute_result"
    }
   ],
   "source": [
    "X_train.head()"
   ]
  },
  {
   "cell_type": "code",
   "execution_count": 27,
   "id": "1c0c3599",
   "metadata": {},
   "outputs": [
    {
     "data": {
      "text/plain": [
       "(1140, 30)"
      ]
     },
     "execution_count": 27,
     "metadata": {},
     "output_type": "execute_result"
    }
   ],
   "source": [
    "X_train.shape"
   ]
  },
  {
   "cell_type": "code",
   "execution_count": 28,
   "id": "89202ecb",
   "metadata": {},
   "outputs": [
    {
     "data": {
      "text/plain": [
       "name\n",
       "./Dataset_origin/cup/IMG_20211117_085845.jpg_0    3\n",
       "./Dataset_origin/cup/IMG_20211117_085845.jpg_1    3\n",
       "./Dataset_origin/cup/IMG_20211117_085845.jpg_2    3\n",
       "./Dataset_origin/cup/IMG_20211117_085845.jpg_3    3\n",
       "./Dataset_origin/cup/IMG_20211117_085845.jpg_4    3\n",
       "Name: category, dtype: int64"
      ]
     },
     "execution_count": 28,
     "metadata": {},
     "output_type": "execute_result"
    }
   ],
   "source": [
    "y_train.head()"
   ]
  },
  {
   "cell_type": "code",
   "execution_count": 29,
   "id": "48ba8914",
   "metadata": {},
   "outputs": [
    {
     "name": "stderr",
     "output_type": "stream",
     "text": [
      "100%|███████████████████████████████████████████| 29/29 [05:27<00:00, 11.28s/it]\n"
     ]
    }
   ],
   "source": [
    "# сформируем X_val и y_val, объединим проделанную процедуру в функцию\n",
    "\n",
    "def create_xy_data(df, clf_model):\n",
    "    # df - dataframe именами файлов и категориями\n",
    "    # clf_model - модель кластеризации, обученная ранее\n",
    "    \n",
    "    file_list = df[\"way\"].to_list()\n",
    "    \n",
    "    df_frames = pd.DataFrame(columns=[\"name\", \"row\", \"col\", 0, 1, 2, 3, 4, 5, 6, 7, 8])\n",
    "\n",
    "    for file in tqdm(file_list):\n",
    "        for i_augment in range(n_augmentations):\n",
    "            img = augmentation(file, i_augment) if i_augment > 0 else cv2.imread(file, cv2.IMREAD_GRAYSCALE)\n",
    "            aug_name = file + \"_\" + str(i_augment)\n",
    "            img = first_prepare(img)\n",
    "\n",
    "            df_frames = pd.concat([df_frames, get_frames(img, aug_name)], axis=0)\n",
    "\n",
    "    df_frames.reset_index(drop=True, inplace=True)        \n",
    "\n",
    "    df_hog = df_frames[[0, 1, 2, 3, 4, 5, 6, 7, 8]]\n",
    "    \n",
    "    df_frames[\"cluster\"] = clf_model.predict(df_hog)\n",
    "    features = create_features(df_frames, clf_model.get_params()[\"n_clusters\"])\n",
    "#     features = create_tfidf_features(df_frames)\n",
    "    features[\"origin_name\"] = features.index\n",
    "    features[\"origin_name\"] = features[\"origin_name\"].apply(lambda x: x[:x.rfind(\"_\")])\n",
    "    features.reset_index(inplace=True)\n",
    "    data = pd.merge(features, df, \n",
    "                    left_on=\"origin_name\", right_on=\"way\")\n",
    "    data.set_index(\"name\", inplace=True)\n",
    "    data.drop([\"origin_name\", \"way\"], axis=1, inplace=True)\n",
    "    \n",
    "    y = data.pop(\"category\")\n",
    "    X = data \n",
    "    return X, y\n",
    "\n",
    "X_val, y_val = create_xy_data(df_val, cls)\n"
   ]
  },
  {
   "cell_type": "code",
   "execution_count": 30,
   "id": "ac71d0c7",
   "metadata": {},
   "outputs": [
    {
     "data": {
      "text/plain": [
       "(290, 30)"
      ]
     },
     "execution_count": 30,
     "metadata": {},
     "output_type": "execute_result"
    }
   ],
   "source": [
    "X_val.shape"
   ]
  },
  {
   "cell_type": "code",
   "execution_count": 37,
   "id": "24f372de",
   "metadata": {},
   "outputs": [
    {
     "data": {
      "text/plain": [
       "Pipeline(steps=[('scaler_', StandardScaler()),\n",
       "                ('model_',\n",
       "                 XGBClassifier(base_score=0.5, booster='gbtree',\n",
       "                               colsample_bylevel=1, colsample_bynode=1,\n",
       "                               colsample_bytree=1, enable_categorical=False,\n",
       "                               gamma=0, gpu_id=-1, importance_type=None,\n",
       "                               interaction_constraints='',\n",
       "                               learning_rate=0.300000012, max_delta_step=0,\n",
       "                               max_depth=4, min_child_weight=1, missing=nan,\n",
       "                               monotone_constraints='()', n_estimators=10,\n",
       "                               n_jobs=12, num_parallel_tree=1,\n",
       "                               objective='multi:softprob', predictor='auto',\n",
       "                               random_state=0, reg_alpha=0, reg_lambda=1,\n",
       "                               scale_pos_weight=None, subsample=1,\n",
       "                               tree_method='exact', validate_parameters=1,\n",
       "                               verbosity=0))])"
      ]
     },
     "execution_count": 37,
     "metadata": {},
     "output_type": "execute_result"
    }
   ],
   "source": [
    "# обучим SVM и XGBoost на наших данных\n",
    "\n",
    "from sklearn.model_selection import train_test_split\n",
    "from sklearn.svm import SVC\n",
    "from xgboost.sklearn import XGBClassifier\n",
    "from sklearn.preprocessing import StandardScaler\n",
    "from sklearn.pipeline import Pipeline\n",
    "\n",
    "pipe_svc = Pipeline([\n",
    "    ('scaler_', StandardScaler()),\n",
    "    ('model_', SVC(C=1.5))])\n",
    "\n",
    "\n",
    "pipe_svc.fit(X_train, y_train)\n",
    "\n",
    "pipe_xgbst = Pipeline([\n",
    "    ('scaler_', StandardScaler()),\n",
    "    ('model_', XGBClassifier(n_estimators=10, max_depth=4, verbosity=0))])\n",
    "\n",
    "\n",
    "pipe_svc.fit(X_train, y_train)\n",
    "pipe_xgbst.fit(X_train, y_train)\n"
   ]
  },
  {
   "cell_type": "code",
   "execution_count": 38,
   "id": "cc15a3e3",
   "metadata": {},
   "outputs": [
    {
     "name": "stdout",
     "output_type": "stream",
     "text": [
      "accuracy SVC train:  0.8614035087719298 , val:  0.5379310344827586 \n",
      "accuracy XGBoost train:  0.8587719298245614 , val:  0.5137931034482759\n"
     ]
    }
   ],
   "source": [
    "from sklearn.metrics import accuracy_score\n",
    "print(\"accuracy SVC train: \", accuracy_score(pipe_svc.predict(X_train), y_train), \", val: \", accuracy_score(pipe_svc.predict(X_val), y_val), \n",
    "      \"\\naccuracy XGBoost train: \", accuracy_score(pipe_xgbst.predict(X_train), y_train), \", val: \",accuracy_score(pipe_xgbst.predict(X_val), y_val))"
   ]
  },
  {
   "cell_type": "markdown",
   "id": "ce8312d3",
   "metadata": {},
   "source": [
    "Для сравнения построим случайный классификатор, который любому объекту будет предсказывать класс случайно, с одинаковой вероятностью."
   ]
  },
  {
   "cell_type": "code",
   "execution_count": 39,
   "id": "a31979bd",
   "metadata": {},
   "outputs": [
    {
     "data": {
      "text/plain": [
       "0.16206896551724137"
      ]
     },
     "execution_count": 39,
     "metadata": {},
     "output_type": "execute_result"
    }
   ],
   "source": [
    "from sklearn.dummy import DummyClassifier\n",
    "\n",
    "d_cls = DummyClassifier(strategy='uniform')\n",
    "d_cls.fit(X_train, y_train)\n",
    "\n",
    "accuracy_score(y_val, d_cls.predict(X_val))"
   ]
  },
  {
   "cell_type": "markdown",
   "id": "e75333ae",
   "metadata": {},
   "source": [
    "### Подбор гиперпараметров\n",
    "\n",
    "Попробуем подобрать размер словаря и параметры, чтобы улучшить качество модели.\n"
   ]
  },
  {
   "cell_type": "code",
   "execution_count": 40,
   "id": "3a6ffcf1",
   "metadata": {},
   "outputs": [
    {
     "name": "stderr",
     "output_type": "stream",
     "text": [
      "100%|█████████████████████████████████████████| 114/114 [15:55<00:00,  8.38s/it]\n",
      "100%|███████████████████████████████████████████| 29/29 [02:11<00:00,  4.54s/it]\n"
     ]
    },
    {
     "name": "stdout",
     "output_type": "stream",
     "text": [
      "KMeans(n_clusters=20) 0.5 {'model__C': 2.0}\n"
     ]
    },
    {
     "name": "stderr",
     "output_type": "stream",
     "text": [
      "100%|█████████████████████████████████████████| 114/114 [08:09<00:00,  4.29s/it]\n",
      "100%|███████████████████████████████████████████| 29/29 [02:11<00:00,  4.53s/it]\n"
     ]
    },
    {
     "name": "stdout",
     "output_type": "stream",
     "text": [
      "KMeans(n_clusters=30) 0.4862068965517241 {'model__C': 1.5}\n"
     ]
    },
    {
     "name": "stderr",
     "output_type": "stream",
     "text": [
      "100%|█████████████████████████████████████████| 114/114 [08:19<00:00,  4.38s/it]\n",
      "100%|███████████████████████████████████████████| 29/29 [02:14<00:00,  4.64s/it]\n"
     ]
    },
    {
     "name": "stdout",
     "output_type": "stream",
     "text": [
      "KMeans(n_clusters=40) 0.5620689655172414 {'model__C': 1.5}\n"
     ]
    },
    {
     "name": "stderr",
     "output_type": "stream",
     "text": [
      "100%|█████████████████████████████████████████| 114/114 [08:21<00:00,  4.40s/it]\n",
      "100%|███████████████████████████████████████████| 29/29 [04:36<00:00,  9.54s/it]\n"
     ]
    },
    {
     "name": "stdout",
     "output_type": "stream",
     "text": [
      "KMeans(n_clusters=50) 0.5241379310344828 {'model__C': 2.0}\n"
     ]
    },
    {
     "name": "stderr",
     "output_type": "stream",
     "text": [
      "100%|█████████████████████████████████████████| 114/114 [19:21<00:00, 10.19s/it]\n",
      "100%|███████████████████████████████████████████| 29/29 [02:15<00:00,  4.66s/it]\n"
     ]
    },
    {
     "name": "stdout",
     "output_type": "stream",
     "text": [
      "KMeans(n_clusters=60) 0.4862068965517241 {'model__C': 1.5}\n"
     ]
    }
   ],
   "source": [
    "from sklearn.model_selection import GridSearchCV\n",
    "from sklearn.preprocessing import StandardScaler\n",
    "from sklearn.pipeline import Pipeline\n",
    "\n",
    "pipe_hp = Pipeline([\n",
    "    ('scaler', StandardScaler()),\n",
    "    ('model', SVC())])\n",
    "\n",
    "\n",
    "clfs = []\n",
    "for n in range(20, 70, 10):\n",
    "    clf = KMeans(n_clusters=n)\n",
    "    clf.fit(X_hog_train)\n",
    "    clfs.append(clf)\n",
    "\n",
    "for clf in clfs:\n",
    "    X_train, y_train = create_xy_data(df_train, clf)\n",
    "    \n",
    "    gs = GridSearchCV(pipe_hp,\n",
    "                     param_grid={\"model__C\": [0.5 * x for x in range(1, 5)]})\n",
    "    gs.fit(X_train, y_train)\n",
    "    \n",
    "    X_val, y_val = create_xy_data(df_val, clf)\n",
    "    print(clf, accuracy_score(y_val, gs.predict(X_val)), gs.best_params_)"
   ]
  },
  {
   "cell_type": "markdown",
   "id": "5173e284",
   "metadata": {},
   "source": [
    "Выберем размер словаря - 40 слов и снова посмотрим на результат на тестовых данных"
   ]
  },
  {
   "cell_type": "code",
   "execution_count": 41,
   "id": "2db1b8a8",
   "metadata": {},
   "outputs": [
    {
     "name": "stderr",
     "output_type": "stream",
     "text": [
      "100%|█████████████████████████████████████████| 114/114 [10:53<00:00,  5.73s/it]\n",
      "100%|█████████████████████████████████████████| 114/114 [08:11<00:00,  4.31s/it]\n",
      "100%|███████████████████████████████████████████| 29/29 [02:12<00:00,  4.55s/it]\n"
     ]
    }
   ],
   "source": [
    "cls = KMeans(n_clusters=40)\n",
    "\n",
    "file_list_train = df_train[\"way\"].to_list()\n",
    "train_frames_data = pd.DataFrame(columns=[\"name\", \"row\", \"col\", 0, 1, 2, 3, 4, 5, 6, 7, 8])\n",
    "\n",
    "for file in tqdm(file_list):\n",
    "    for i_augment in range(n_augmentations):\n",
    "        img = augmentation(file, i_augment) if i_augment > 0 else cv2.imread(file, cv2.IMREAD_GRAYSCALE)\n",
    "        aug_name = file + \"_\" + str(i_augment)\n",
    "        img = first_prepare(img)\n",
    "\n",
    "        train_frames_data = pd.concat([train_frames_data, get_frames(img, aug_name)], axis=0)\n",
    "\n",
    "train_frames_data.reset_index(drop=True, inplace=True)    \n",
    "X_hog_train = train_frames_data[[0, 1, 2, 3, 4, 5, 6, 7, 8]]\n",
    "\n",
    "cls.fit(X_hog_train)\n",
    "\n",
    "X_train, y_train = create_xy_data(df_train, cls)\n",
    "\n",
    "X_val, y_val = create_xy_data(df_val, cls)\n",
    "    "
   ]
  },
  {
   "cell_type": "code",
   "execution_count": 42,
   "id": "701f6988",
   "metadata": {},
   "outputs": [
    {
     "data": {
      "text/plain": [
       "0.5551724137931034"
      ]
     },
     "execution_count": 42,
     "metadata": {},
     "output_type": "execute_result"
    }
   ],
   "source": [
    "pipe_1 = Pipeline([\n",
    "    ('scaler_', StandardScaler()),\n",
    "    ('model_', SVC(C=1.5))]).fit(X_train, y_train)\n",
    "accuracy_score(y_val, pipe_1.predict(X_val))"
   ]
  },
  {
   "cell_type": "markdown",
   "id": "943d3be4",
   "metadata": {},
   "source": [
    "## KNN модель"
   ]
  },
  {
   "cell_type": "code",
   "execution_count": 35,
   "id": "bc9f5264",
   "metadata": {},
   "outputs": [
    {
     "data": {
      "text/plain": [
       "0.5137931034482759"
      ]
     },
     "execution_count": 35,
     "metadata": {},
     "output_type": "execute_result"
    }
   ],
   "source": [
    "from sklearn.neighbors import KNeighborsClassifier\n",
    "\n",
    "\n",
    "knn = KNeighborsClassifier(n_neighbors=20, weights='distance')\n",
    "knn.fit(X_train, y_train)\n",
    "accuracy_score(knn.predict(X_val), y_val)\n"
   ]
  },
  {
   "cell_type": "markdown",
   "id": "952ffe71",
   "metadata": {},
   "source": [
    "## Посмотрим, на каких объектах модель ошибается чаще."
   ]
  },
  {
   "cell_type": "code",
   "execution_count": 43,
   "id": "cf3bee27",
   "metadata": {},
   "outputs": [
    {
     "data": {
      "text/plain": [
       "fork     0.68\n",
       "plate    0.74\n",
       "knife    0.70\n",
       "cup      0.54\n",
       "glass    0.20\n",
       "spoon    0.45\n",
       "Name: match, dtype: float64"
      ]
     },
     "execution_count": 43,
     "metadata": {},
     "output_type": "execute_result"
    }
   ],
   "source": [
    "predict = pipe_1.predict(X_val)\n",
    "# predict = knn.predict(X_val)\n",
    "val_result = pd.DataFrame(data = np.array([y_val, predict]).T,\n",
    "                           columns = [\"y_true\", \"y_predict\"],\n",
    "                         index = X_val.index)\n",
    "\n",
    "val_result[\"match\"] = (val_result[\"y_true\"] == val_result[\"y_predict\"])\n",
    "matched = val_result.groupby(\"y_true\")[\"match\"].mean()\n",
    "matched.index = list(slovar.keys())\n",
    "matched"
   ]
  },
  {
   "cell_type": "code",
   "execution_count": 44,
   "id": "86842f83",
   "metadata": {},
   "outputs": [
    {
     "data": {
      "text/plain": [
       "<AxesSubplot:>"
      ]
     },
     "execution_count": 44,
     "metadata": {},
     "output_type": "execute_result"
    },
    {
     "data": {
      "image/png": "[encoded data removed]",
      "text/plain": [
       "<Figure size 432x288 with 2 Axes>"
      ]
     },
     "metadata": {
      "needs_background": "light"
     },
     "output_type": "display_data"
    }
   ],
   "source": [
    "from sklearn.metrics import confusion_matrix\n",
    "import seaborn as sns\n",
    "\n",
    "sns.heatmap(confusion_matrix(predict, y_val, normalize=\"true\"), \n",
    "            xticklabels=list(slovar.keys()), \n",
    "            yticklabels=list(slovar.keys()))"
   ]
  },
  {
   "cell_type": "markdown",
   "id": "501d60db",
   "metadata": {},
   "source": [
    "Лучше всего дело обстоит с тарелками, ножами и вилками. Хуже всего - со стаканами."
   ]
  },
  {
   "cell_type": "code",
   "execution_count": 45,
   "id": "64981fbb",
   "metadata": {},
   "outputs": [
    {
     "data": {
      "text/plain": [
       "{'fork': 0, 'plate': 1, 'knife': 2, 'cup': 3, 'glass': 4, 'spoon': 5}"
      ]
     },
     "execution_count": 45,
     "metadata": {},
     "output_type": "execute_result"
    }
   ],
   "source": [
    "slovar"
   ]
  },
  {
   "cell_type": "markdown",
   "id": "dc6f5750",
   "metadata": {},
   "source": [
    "Этот стакан модель классифицировала как ложку. Проблема в том, что при выбранных параметрах детектора Кенни, стаканы теряют большую часть своих границ из-за прозрачности. Если сделать параметры подходящими для стаканов - в остальных категориях снижается качество предобработки."
   ]
  },
  {
   "cell_type": "code",
   "execution_count": 48,
   "id": "33ab1abb",
   "metadata": {},
   "outputs": [
    {
     "data": {
      "text/plain": [
       "<matplotlib.image.AxesImage at 0x7f5efc052fd0>"
      ]
     },
     "execution_count": 48,
     "metadata": {},
     "output_type": "execute_result"
    },
    {
     "data": {
      "image/png": "[encoded data removed]",
      "text/plain": [
       "<Figure size 576x288 with 2 Axes>"
      ]
     },
     "metadata": {
      "needs_background": "light"
     },
     "output_type": "display_data"
    }
   ],
   "source": [
    "img = cv2.imread(\"./Dataset_origin/glass/IMG_20211118_154923.jpg\", cv2.IMREAD_GRAYSCALE)\n",
    "\n",
    "img_prepared = first_prepare(img)\n",
    "\n",
    "fig, axx = plt.subplots(1, 2, figsize= (8,4))\n",
    "axx[0].imshow(img, cmap=\"gray\")\n",
    "axx[1].imshow(img_prepared, cmap=\"gray\")"
   ]
  },
  {
   "cell_type": "code",
   "execution_count": null,
   "id": "1db7b646",
   "metadata": {},
   "outputs": [],
   "source": []
  }
 ],
 "metadata": {
  "kernelspec": {
   "display_name": "Python 3 (ipykernel)",
   "language": "python",
   "name": "python3"
  },
  "language_info": {
   "codemirror_mode": {
    "name": "ipython",
    "version": 3
   },
   "file_extension": ".py",
   "mimetype": "text/x-python",
   "name": "python",
   "nbconvert_exporter": "python",
   "pygments_lexer": "ipython3",
   "version": "3.8.10"
  }
 },
 "nbformat": 4,
 "nbformat_minor": 5
}
