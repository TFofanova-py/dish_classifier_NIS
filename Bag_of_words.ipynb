{
 "cells": [
  {
   "cell_type": "code",
   "execution_count": 2,
   "id": "f59a0854",
   "metadata": {},
   "outputs": [],
   "source": [
    "import numpy as np\n",
    "import os\n",
    "import os.path\n",
    "import cv2\n",
    "import matplotlib.pyplot as plt\n",
    "from skimage.transform import rotate\n",
    "from skimage.feature import hog\n",
    "from skimage.exposure import rescale_intensity\n",
    "\n",
    "import pandas as pd\n"
   ]
  },
  {
   "cell_type": "code",
   "execution_count": 3,
   "id": "31cceedf",
   "metadata": {},
   "outputs": [],
   "source": [
    "dir = './Dataset'"
   ]
  },
  {
   "cell_type": "code",
   "execution_count": 4,
   "id": "42e904c6",
   "metadata": {},
   "outputs": [
    {
     "data": {
      "text/plain": [
       "(256, 2)"
      ]
     },
     "execution_count": 4,
     "metadata": {},
     "output_type": "execute_result"
    }
   ],
   "source": [
    "# создадим датафрем с нашими данными.\n",
    "\n",
    "name = []\n",
    "for dirname, _, filenames in os.walk(dir):\n",
    "    for filename in filenames:\n",
    "      name.append([dirname.split('/')[-1], os.path.join(dirname, filename)])\n",
    "\n",
    "df = pd.DataFrame(columns = ['category', 'way'], data = name)\n",
    "df.shape"
   ]
  },
  {
   "cell_type": "code",
   "execution_count": 5,
   "id": "ceb5a0f6",
   "metadata": {},
   "outputs": [],
   "source": [
    "# заменим категриальные признаки на числовые\n",
    "slovar = {}\n",
    "my_list = df['category'].unique()\n",
    "for counter, value in enumerate(my_list):\n",
    "  slovar[value] = counter\n",
    "\n",
    "df['category'] = df['category'].map(slovar)"
   ]
  },
  {
   "cell_type": "code",
   "execution_count": 6,
   "id": "6a7276eb",
   "metadata": {},
   "outputs": [
    {
     "data": {
      "text/html": [
       "<div>\n",
       "<style scoped>\n",
       "    .dataframe tbody tr th:only-of-type {\n",
       "        vertical-align: middle;\n",
       "    }\n",
       "\n",
       "    .dataframe tbody tr th {\n",
       "        vertical-align: top;\n",
       "    }\n",
       "\n",
       "    .dataframe thead th {\n",
       "        text-align: right;\n",
       "    }\n",
       "</style>\n",
       "<table border=\"1\" class=\"dataframe\">\n",
       "  <thead>\n",
       "    <tr style=\"text-align: right;\">\n",
       "      <th></th>\n",
       "      <th>category</th>\n",
       "      <th>way</th>\n",
       "    </tr>\n",
       "  </thead>\n",
       "  <tbody>\n",
       "    <tr>\n",
       "      <th>0</th>\n",
       "      <td>0</td>\n",
       "      <td>./Dataset/fork/IMG_20211118_154738_1.jpg</td>\n",
       "    </tr>\n",
       "    <tr>\n",
       "      <th>1</th>\n",
       "      <td>0</td>\n",
       "      <td>./Dataset/fork/IMG_20211119_084920_0.jpg</td>\n",
       "    </tr>\n",
       "    <tr>\n",
       "      <th>2</th>\n",
       "      <td>0</td>\n",
       "      <td>./Dataset/fork/IMG_20211118_154748_0.jpg</td>\n",
       "    </tr>\n",
       "    <tr>\n",
       "      <th>3</th>\n",
       "      <td>0</td>\n",
       "      <td>./Dataset/fork/IMG_20211120_173901_1.jpg</td>\n",
       "    </tr>\n",
       "    <tr>\n",
       "      <th>4</th>\n",
       "      <td>0</td>\n",
       "      <td>./Dataset/fork/IMG_20211120_173901_2.jpg</td>\n",
       "    </tr>\n",
       "  </tbody>\n",
       "</table>\n",
       "</div>"
      ],
      "text/plain": [
       "   category                                       way\n",
       "0         0  ./Dataset/fork/IMG_20211118_154738_1.jpg\n",
       "1         0  ./Dataset/fork/IMG_20211119_084920_0.jpg\n",
       "2         0  ./Dataset/fork/IMG_20211118_154748_0.jpg\n",
       "3         0  ./Dataset/fork/IMG_20211120_173901_1.jpg\n",
       "4         0  ./Dataset/fork/IMG_20211120_173901_2.jpg"
      ]
     },
     "execution_count": 6,
     "metadata": {},
     "output_type": "execute_result"
    }
   ],
   "source": [
    "df.head()"
   ]
  },
  {
   "cell_type": "markdown",
   "id": "a5e02906",
   "metadata": {},
   "source": [
    "Затем применим фильтр Гаусса для сглаживания, и уменьшим его"
   ]
  },
  {
   "cell_type": "code",
   "execution_count": 7,
   "id": "d6b95296",
   "metadata": {},
   "outputs": [],
   "source": [
    "def first_prepare(img):\n",
    "    # размытие (сглаживание)\n",
    "    img = cv2.GaussianBlur(img, (15, 15), 3)\n",
    "\n",
    "    # уменьшим размер\n",
    "    img = cv2.resize(img, (64, 64))\n",
    "\n",
    "    # нормализуем интенсивности от 0 до 255\n",
    "    img = cv2.normalize(img, None, 0, 255, norm_type=cv2.NORM_MINMAX)\n",
    "    \n",
    "    return img\n",
    "\n",
    "# img = first_prepare(img)\n",
    "# plt.imshow(img, cmap=\"gray\")"
   ]
  },
  {
   "cell_type": "markdown",
   "id": "63133066",
   "metadata": {},
   "source": [
    "## Bag of words для исходной картинки (несегментированной)"
   ]
  },
  {
   "cell_type": "code",
   "execution_count": 8,
   "id": "0a9aaa1e",
   "metadata": {},
   "outputs": [],
   "source": [
    "def get_frames(image, image_name):\n",
    "    # картинка 64*64\n",
    "    win_size = (64, 64)\n",
    "    block_size = (16, 16)\n",
    "    block_stride = (8, 8)\n",
    "    cell_size = (16, 16)\n",
    "    n_bins = 9\n",
    "\n",
    "    hog = cv2.HOGDescriptor(win_size, block_size, block_stride, cell_size, n_bins)\n",
    "\n",
    "    winStride = (8, 8)\n",
    "    padding = (0, 0) \n",
    "    hist = hog.compute(image, winStride, padding) \n",
    "\n",
    "    # количество ячеек 7 * 7, по 9 бинов в каждом = 441\n",
    "    # сделаем resize в матрицу 49*9, чтобы каждая ячейка (слово) описывалась отдельно\n",
    "    \n",
    "    data = np.reshape(hist, (49, 9))\n",
    "    df = pd.DataFrame(data)\n",
    "    df[\"row\"] = df.index % 7\n",
    "    df[\"col\"] = df.index // 7\n",
    "    df[\"name\"] = image_name\n",
    "    \n",
    "    return df[[\"name\", \"row\", \"col\", 0, 1, 2, 3, 4, 5, 6, 7, 8]]"
   ]
  },
  {
   "cell_type": "code",
   "execution_count": 9,
   "id": "d037f942",
   "metadata": {},
   "outputs": [],
   "source": [
    "#get_frames(img, \"some name\")"
   ]
  },
  {
   "cell_type": "code",
   "execution_count": 10,
   "id": "7ba5bb1d",
   "metadata": {},
   "outputs": [],
   "source": [
    "def all_frames(file_list):\n",
    "    frames = None\n",
    "    \n",
    "    for f in file_list:\n",
    "        image = cv2.imread(f, cv2.IMREAD_GRAYSCALE)\n",
    "        image = first_prepare(image)\n",
    "        if frames is None:\n",
    "            frames = get_frames(image, f)\n",
    "            \n",
    "        else:\n",
    "            frames = pd.concat([frames, get_frames(image, f)], axis=0)\n",
    "    \n",
    "    frames.reset_index(drop=True, inplace=True)\n",
    "    \n",
    "    return frames"
   ]
  },
  {
   "cell_type": "code",
   "execution_count": 12,
   "id": "5702a362",
   "metadata": {},
   "outputs": [
    {
     "data": {
      "text/plain": [
       "<matplotlib.image.AxesImage at 0x7ff0606c7610>"
      ]
     },
     "execution_count": 12,
     "metadata": {},
     "output_type": "execute_result"
    },
    {
     "data": {
      "image/png": "[encoded data removed]",
      "text/plain": [
       "<Figure size 432x288 with 1 Axes>"
      ]
     },
     "metadata": {
      "needs_background": "light"
     },
     "output_type": "display_data"
    }
   ],
   "source": [
    "def show_frame(name, row, col):\n",
    "    image = cv2.imread(name, cv2.IMREAD_GRAYSCALE)\n",
    "    image = first_prepare(image)\n",
    "    frame = image[row * 8 : (row + 2) * 8, col * 8 : (col + 2) * 8]\n",
    "    return frame\n",
    "\n",
    "plt.imshow(show_frame(\"./Dataset/fork/IMG_20211119_084920_0.jpg\", 4, 2))"
   ]
  },
  {
   "cell_type": "code",
   "execution_count": 13,
   "id": "8154be01",
   "metadata": {},
   "outputs": [],
   "source": [
    "from sklearn.cluster import KMeans\n",
    "\n",
    "file_list = df[\"way\"].to_list()\n",
    "\n",
    "cls = KMeans(n_clusters=25)\n",
    "all_frames_data = all_frames(file_list)\n",
    "X = all_frames_data[[0, 1, 2, 3, 4, 5, 6, 7, 8]]\n",
    "\n",
    "cls.fit(X)\n",
    "all_frames_data[\"cluster\"] = cls.predict(X)\n",
    "\n",
    "all_frames_data.to_csv(\"clusters.csv\")"
   ]
  },
  {
   "cell_type": "code",
   "execution_count": 14,
   "id": "07d73812",
   "metadata": {},
   "outputs": [
    {
     "data": {
      "text/plain": [
       "3     4294\n",
       "20     805\n",
       "16     687\n",
       "1      648\n",
       "17     630\n",
       "21     619\n",
       "15     572\n",
       "8      405\n",
       "11     360\n",
       "6      356\n",
       "19     334\n",
       "10     288\n",
       "0      282\n",
       "4      264\n",
       "22     254\n",
       "5      247\n",
       "12     244\n",
       "14     206\n",
       "23     204\n",
       "9      184\n",
       "13     157\n",
       "2      155\n",
       "7      151\n",
       "24     119\n",
       "18      79\n",
       "Name: cluster, dtype: int64"
      ]
     },
     "execution_count": 14,
     "metadata": {},
     "output_type": "execute_result"
    }
   ],
   "source": [
    "all_frames_data[\"cluster\"].value_counts()"
   ]
  },
  {
   "cell_type": "markdown",
   "id": "df935642",
   "metadata": {},
   "source": []
  },
  {
   "cell_type": "code",
   "execution_count": 15,
   "id": "9d4c448b",
   "metadata": {},
   "outputs": [
    {
     "data": {
      "image/png": "[encoded data removed]",
      "text/plain": [
       "<Figure size 648x648 with 9 Axes>"
      ]
     },
     "metadata": {
      "needs_background": "light"
     },
     "output_type": "display_data"
    }
   ],
   "source": [
    "cluster = 7\n",
    "sample = all_frames_data[all_frames_data[\"cluster\"] == cluster][:9]\n",
    "sample.reset_index(drop=True, inplace=True)\n",
    "\n",
    "fig = plt.figure(figsize=(9, 9))\n",
    "\n",
    "for i in range(9):\n",
    "    name = sample.loc[i, \"name\"]\n",
    "    row = sample.loc[i, \"row\"]\n",
    "    col = sample.loc[i, \"col\"]\n",
    "\n",
    "    plt.subplot(3, 3, i + 1)\n",
    "    plt.imshow(show_frame(name, row, col), cmap='gray')\n",
    "    plt.title(f\"{name}: {row}, {col}\")\n",
    "    "
   ]
  },
  {
   "cell_type": "code",
   "execution_count": null,
   "id": "edc5fad6",
   "metadata": {},
   "outputs": [],
   "source": []
  },
  {
   "cell_type": "code",
   "execution_count": null,
   "id": "316ce823",
   "metadata": {},
   "outputs": [],
   "source": []
  },
  {
   "cell_type": "code",
   "execution_count": null,
   "id": "89202ecb",
   "metadata": {},
   "outputs": [],
   "source": []
  },
  {
   "cell_type": "markdown",
   "id": "542f5e6b",
   "metadata": {},
   "source": [
    "## Bag of words для сегментированной картинки"
   ]
  },
  {
   "cell_type": "code",
   "execution_count": null,
   "id": "53d8feb4",
   "metadata": {},
   "outputs": [],
   "source": []
  }
 ],
 "metadata": {
  "kernelspec": {
   "display_name": "Python 3 (ipykernel)",
   "language": "python",
   "name": "python3"
  },
  "language_info": {
   "codemirror_mode": {
    "name": "ipython",
    "version": 3
   },
   "file_extension": ".py",
   "mimetype": "text/x-python",
   "name": "python",
   "nbconvert_exporter": "python",
   "pygments_lexer": "ipython3",
   "version": "3.8.10"
  }
 },
 "nbformat": 4,
 "nbformat_minor": 5
}
