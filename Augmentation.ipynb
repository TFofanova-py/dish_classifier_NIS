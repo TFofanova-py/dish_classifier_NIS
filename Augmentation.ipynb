{
 "cells": [
  {
   "cell_type": "code",
   "execution_count": 2,
   "id": "a27c0330",
   "metadata": {},
   "outputs": [],
   "source": [
    "import cv2\n",
    "from skimage.transform import rotate\n",
    "import random\n",
    "import os\n",
    "import pandas as pd"
   ]
  },
  {
   "cell_type": "code",
   "execution_count": 3,
   "id": "08441955",
   "metadata": {},
   "outputs": [],
   "source": [
    "def rot(image, angle=5, scale=1.0):\n",
    "    # # поворот\n",
    "    # w = image.shape[1]\n",
    "    # h = image.shape[0]\n",
    "    # #rotate matrix\n",
    "    # M = cv2.getRotationMatrix2D((w/2,h/2), angle, scale)\n",
    "    # #rotate\n",
    "    # image = cv2.copyMakeBorder(image, int(h/2), int(h/2), \n",
    "    #                            int(w/2), int(w/2), cv2.BORDER_REPLICATE)\n",
    "    # image = cv2.warpAffine(image, M, (w,h))\n",
    "    # return image\n",
    "\n",
    "    return rotate(image, angle, resize=False, mode=\"edge\") * 255\n",
    "\n",
    "def flip(image, vflip=False, hflip=False):\n",
    "    # перевернуть изображение\n",
    "    if hflip or vflip:\n",
    "        if hflip and vflip:\n",
    "            c = -1\n",
    "        else:\n",
    "            c = 0 if vflip else 1\n",
    "        image = cv2.flip(image, flipCode=c)\n",
    "    return image \n",
    "\n",
    "def color(image_name):\n",
    "    # поменяем матрицу hsv\n",
    "    image = cv2.imread(image_name, cv2.COLOR_BGR2HSV) \n",
    "    h,s,v = cv2.split(image)\n",
    "    new_image = cv2.merge((h+10,s-20,v+15))\n",
    "    image = cv2.cvtColor(new_image, cv2.COLOR_HSV2RGB)\n",
    "    return image"
   ]
  },
  {
   "cell_type": "code",
   "execution_count": 6,
   "id": "b5f71c8e",
   "metadata": {},
   "outputs": [],
   "source": [
    "def augmentation (image_name, n_augmented_images=3):\n",
    "    \n",
    "  # Augmentation для наших данных\n",
    "\n",
    "    aug_dir = './Dataset'\n",
    "    image = cv2.imread(image_name, cv2.IMREAD_GRAYSCALE)  \n",
    "    file_name = image_name[len('./Dataset_origin'):-4]\n",
    "    cv2.imwrite(aug_dir + str(file_name) + '.jpg', image)\n",
    "    \n",
    "    for i_image in range(n_augmented_images):\n",
    "        # случайное изменение цвета\n",
    "        if (random.random() > 0.5):\n",
    "            img = color(image_name)\n",
    "        else:\n",
    "            img = image.copy()\n",
    "        # случайный flip\n",
    "        if (random.random() > 0.5):  \n",
    "            img = flip(img, vflip=False, hflip=True)\n",
    "        # случайный поворот\n",
    "        angle = random.randint(-20, 20)\n",
    "        img = rot(img, angle=angle)\n",
    "        #img_gaussian = add_GaussianNoise(img)\n",
    "\n",
    "        cv2.imwrite(aug_dir + file_name + '_' + str(i_image) + '.jpg', img)\n",
    "    print(\"Аугментация изображения \" + file_name + '.jpg, OK')\n",
    "\n"
   ]
  },
  {
   "cell_type": "code",
   "execution_count": 7,
   "id": "e6cfc146",
   "metadata": {},
   "outputs": [
    {
     "name": "stdout",
     "output_type": "stream",
     "text": [
      "Аугментация изображения /fork/IMG_20211120_173901.jpg, OK\n",
      "Аугментация изображения /fork/IMG_20211118_154748.jpg, OK\n",
      "Аугментация изображения /fork/IMG_20211122_105752.jpg, OK\n",
      "Аугментация изображения /fork/IMG_20211119_084920.jpg, OK\n",
      "Аугментация изображения /fork/IMG_20211118_154738.jpg, OK\n",
      "Аугментация изображения /plate/IMG_20211120_174056.jpg, OK\n",
      "Аугментация изображения /plate/IMG_20211122_105616.jpg, OK\n",
      "Аугментация изображения /plate/IMG_20211122_105833.jpg, OK\n",
      "Аугментация изображения /plate/IMG_20211122_105821.jpg, OK\n",
      "Аугментация изображения /plate/IMG_20211122_105612.jpg, OK\n",
      "Аугментация изображения /plate/IMG_20211118_092107.jpg, OK\n",
      "Аугментация изображения /plate/IMG_20211120_174027.jpg, OK\n",
      "Аугментация изображения /plate/IMG_20211122_105828.jpg, OK\n",
      "Аугментация изображения /plate/IMG_20211120_174133.jpg, OK\n",
      "Аугментация изображения /plate/IMG_20211122_105622.jpg, OK\n",
      "Аугментация изображения /plate/IMG_20211120_182746.jpg, OK\n",
      "Аугментация изображения /plate/IMG_20211118_190658.jpg, OK\n",
      "Аугментация изображения /knife/IMG_20211122_105732.jpg, OK\n",
      "Аугментация изображения /knife/IMG_20211122_105736.jpg, OK\n",
      "Аугментация изображения /knife/IMG_20211122_105741.jpg, OK\n",
      "Аугментация изображения /knife/IMG_20211120_174337.jpg, OK\n",
      "Аугментация изображения /knife/IMG_20211120_173925.jpg, OK\n",
      "Аугментация изображения /knife/IMG_20211117_083542.jpg, OK\n",
      "Аугментация изображения /knife/IMG_20211120_173915.jpg, OK\n",
      "Аугментация изображения /cup/IMG_20211122_105456.jpg, OK\n",
      "Аугментация изображения /cup/IMG_20211122_105434.jpg, OK\n",
      "Аугментация изображения /cup/IMG_20211122_105525.jpg, OK\n",
      "Аугментация изображения /cup/IMG_20211120_181935.jpg, OK\n",
      "Аугментация изображения /cup/IMG_20211122_105510.jpg, OK\n",
      "Аугментация изображения /cup/IMG_20211120_182053.jpg, OK\n",
      "Аугментация изображения /cup/IMG_20211120_173630.jpg, OK\n",
      "Аугментация изображения /cup/IMG_20211117_085845.jpg, OK\n",
      "Аугментация изображения /cup/IMG_20211120_183459.jpg, OK\n",
      "Аугментация изображения /cup/IMG_20211120_173714.jpg, OK\n",
      "Аугментация изображения /cup/IMG_20211122_105518.jpg, OK\n",
      "Аугментация изображения /cup/IMG_20211122_105559.jpg, OK\n",
      "Аугментация изображения /cup/IMG_20211120_173724.jpg, OK\n",
      "Аугментация изображения /cup/IMG_20211122_105502.jpg, OK\n",
      "Аугментация изображения /glass/IMG_20211120_183340.jpg, OK\n",
      "Аугментация изображения /glass/IMG_20211120_173813.jpg, OK\n",
      "Аугментация изображения /glass/IMG_20211120_183038.jpg, OK\n",
      "Аугментация изображения /glass/IMG_20211118_154923.jpg, OK\n",
      "Аугментация изображения /glass/IMG_20211120_183549.jpg, OK\n",
      "Аугментация изображения /glass/IMG_20211120_173754.jpg, OK\n",
      "Аугментация изображения /spoon/IMG_20211120_173847.jpg, OK\n",
      "Аугментация изображения /spoon/IMG_20211119_084805.jpg, OK\n",
      "Аугментация изображения /spoon/IMG_20211122_111246.jpg, OK\n",
      "Аугментация изображения /spoon/IMG_20211122_105757.jpg, OK\n",
      "Аугментация изображения /spoon/IMG_20211122_105745.jpg, OK\n",
      "Аугментация изображения /spoon/IMG_20211118_154806.jpg, OK\n",
      "Аугментация изображения /spoon/IMG_20211117_083555.jpg, OK\n",
      "Аугментация изображения /spoon/IMG_20211120_173941.jpg, OK\n",
      "Аугментация изображения /spoon/IMG_20211122_111253.jpg, OK\n",
      "Аугментация изображения /spoon/IMG_20211117_083608.jpg, OK\n"
     ]
    }
   ],
   "source": [
    "# дополним наши фотографии\n",
    "dir = './Dataset_origin'\n",
    "\n",
    "name = []\n",
    "for dirname, _, filenames in os.walk(dir):\n",
    "    for filename in filenames:\n",
    "        name.append([dirname.split('/')[-1], os.path.join(dirname, filename)])\n",
    "\n",
    "df = pd.DataFrame(columns = ['category', 'way'], data = name)\n",
    "\n",
    "for i in df['way']:\n",
    "    augmentation(i)"
   ]
  },
  {
   "cell_type": "code",
   "execution_count": 9,
   "id": "c7d4d440",
   "metadata": {},
   "outputs": [
    {
     "data": {
      "text/plain": [
       "(54, 2)"
      ]
     },
     "execution_count": 9,
     "metadata": {},
     "output_type": "execute_result"
    }
   ],
   "source": [
    "df.shape"
   ]
  },
  {
   "cell_type": "code",
   "execution_count": null,
   "id": "f9cb4af4",
   "metadata": {},
   "outputs": [],
   "source": []
  }
 ],
 "metadata": {
  "kernelspec": {
   "display_name": "Python 3 (ipykernel)",
   "language": "python",
   "name": "python3"
  },
  "language_info": {
   "codemirror_mode": {
    "name": "ipython",
    "version": 3
   },
   "file_extension": ".py",
   "mimetype": "text/x-python",
   "name": "python",
   "nbconvert_exporter": "python",
   "pygments_lexer": "ipython3",
   "version": "3.8.10"
  }
 },
 "nbformat": 4,
 "nbformat_minor": 5
}
