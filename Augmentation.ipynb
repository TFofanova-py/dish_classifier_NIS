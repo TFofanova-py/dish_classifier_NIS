{
 "cells": [
  {
   "cell_type": "code",
   "execution_count": 1,
   "id": "a27c0330",
   "metadata": {},
   "outputs": [],
   "source": [
    "import cv2\n",
    "from skimage.transform import rotate\n"
   ]
  },
  {
   "cell_type": "code",
   "execution_count": null,
   "id": "b5f71c8e",
   "metadata": {},
   "outputs": [],
   "source": [
    "def Augmentation (image_name):\n",
    "  '''\n",
    "  Augmentation для наших данных\n",
    "  '''\n",
    "  def rot(image, angle=5, scale=1.0):\n",
    "    # # поворот\n",
    "    # w = image.shape[1]\n",
    "    # h = image.shape[0]\n",
    "    # #rotate matrix\n",
    "    # M = cv2.getRotationMatrix2D((w/2,h/2), angle, scale)\n",
    "    # #rotate\n",
    "    # image = cv2.copyMakeBorder(image, int(h/2), int(h/2), \n",
    "    #                            int(w/2), int(w/2), cv2.BORDER_REPLICATE)\n",
    "    # image = cv2.warpAffine(image, M, (w,h))\n",
    "    # return image\n",
    "\n",
    "    return rotate(image, angle, resize=False, mode=\"edge\") * 255\n",
    "\n",
    "  def flip(image, vflip=False, hflip=False):\n",
    "    # перевернуть изображение\n",
    "    if hflip or vflip:\n",
    "        if hflip and vflip:\n",
    "            c = -1\n",
    "        else:\n",
    "            c = 0 if vflip else 1\n",
    "        image = cv2.flip(image, flipCode=c)\n",
    "    return image \n",
    "\n",
    "  def color(image_name):\n",
    "    # поменяем матрицу hsv\n",
    "    image = cv2.imread(image_name, cv2.COLOR_BGR2HSV) \n",
    "    h,s,v = cv2.split(image)\n",
    "    new_image = cv2.merge((h+10,s-20,v+15))\n",
    "    image = cv2.cvtColor(new_image, cv2.COLOR_HSV2RGB)\n",
    "    return image\n",
    "\n",
    "\n",
    "    image_name = image_name\n",
    "    image = cv2.imread(image_name, cv2.IMREAD_GRAYSCALE)    \n",
    "    img = image.copy()\n",
    "    img_flip = flip(img, vflip=True, hflip=False)\n",
    "    angle = random.randint(-20, 20)\n",
    "    img_rot = rot(img, angle=angle)\n",
    "    image_color = color(image_name)\n",
    "    #img_gaussian = add_GaussianNoise(img)\n",
    "\n",
    "    name_int = image_name[:len(image_name)-4]\n",
    "\n",
    "    aug_dir = './Dataset/'\n",
    "    cv2.imwrite(aug_dir + str(name_int)+'_vflip.jpg', img_flip)\n",
    "    cv2.imwrite(aug_dir + str(name_int)+'_rot.jpg', img_rot)\n",
    "    cv2.imwrite(aug_dir + str(name_int)+'_color.jpg', image_color)\n",
    "    #cv2.imwrite(str(name_int)+'_s.jpg', s)\n",
    "    #cv2.imwrite(str(name_int)+'_v.jpg', v)\n",
    "    #cv2.imwrite(str(name_int)+'_GaussianNoise.jpg', img_gaussian)\n"
   ]
  },
  {
   "cell_type": "code",
   "execution_count": null,
   "id": "e6cfc146",
   "metadata": {},
   "outputs": [],
   "source": [
    "# дополним наши фотографии\n",
    "dir = './Dataset_origin'\n",
    "\n",
    "name = []\n",
    "for dirname, _, filenames in os.walk(dir):\n",
    "    for filename in filenames:\n",
    "        name.append([dirname.split('/')[-1], os.path.join(dirname, filename)])\n",
    "\n",
    "df = pd.DataFrame(columns = ['category', 'way'], data = name)\n",
    "\n",
    "for i in df['way']:\n",
    "    Augmentation(i)"
   ]
  }
 ],
 "metadata": {
  "kernelspec": {
   "display_name": "Python 3 (ipykernel)",
   "language": "python",
   "name": "python3"
  },
  "language_info": {
   "codemirror_mode": {
    "name": "ipython",
    "version": 3
   },
   "file_extension": ".py",
   "mimetype": "text/x-python",
   "name": "python",
   "nbconvert_exporter": "python",
   "pygments_lexer": "ipython3",
   "version": "3.8.10"
  }
 },
 "nbformat": 4,
 "nbformat_minor": 5
}
