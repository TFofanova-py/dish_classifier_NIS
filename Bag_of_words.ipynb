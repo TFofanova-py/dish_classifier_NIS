{
 "cells": [
  {
   "cell_type": "code",
   "execution_count": 1,
   "id": "f59a0854",
   "metadata": {},
   "outputs": [],
   "source": [
    "import numpy as np\n",
    "import os\n",
    "import os.path\n",
    "import cv2\n",
    "import matplotlib.pyplot as plt\n",
    "from skimage.transform import rotate\n",
    "from skimage.feature import hog\n",
    "from skimage.exposure import rescale_intensity\n",
    "\n",
    "import pandas as pd\n",
    "\n",
    "import warnings\n",
    "warnings.filterwarnings(\"ignore\")"
   ]
  },
  {
   "cell_type": "code",
   "execution_count": 2,
   "id": "31cceedf",
   "metadata": {},
   "outputs": [],
   "source": [
    "dir = './Dataset'"
   ]
  },
  {
   "cell_type": "code",
   "execution_count": 3,
   "id": "42e904c6",
   "metadata": {},
   "outputs": [
    {
     "data": {
      "text/plain": [
       "(1680, 2)"
      ]
     },
     "execution_count": 3,
     "metadata": {},
     "output_type": "execute_result"
    }
   ],
   "source": [
    "# создадим датафрем с нашими данными.\n",
    "def create_df(directory):\n",
    "    name = []\n",
    "    for dirname, _, filenames in os.walk(directory):\n",
    "        for filename in filenames:\n",
    "          name.append([dirname.split('/')[-1], os.path.join(dirname, filename)])\n",
    "    \n",
    "    \n",
    "    return pd.DataFrame(columns = ['category', 'way'], data = name).sample(frac=1)\n",
    "\n",
    "df = create_df('./Dataset')\n",
    "df.shape"
   ]
  },
  {
   "cell_type": "code",
   "execution_count": 4,
   "id": "ceb5a0f6",
   "metadata": {},
   "outputs": [],
   "source": [
    "# заменим категриальные признаки на числовые\n",
    "slovar = {}\n",
    "my_list = df['category'].unique()\n",
    "for counter, value in enumerate(my_list):\n",
    "    slovar[value] = counter\n",
    "\n",
    "df['category'] = df['category'].map(slovar)"
   ]
  },
  {
   "cell_type": "code",
   "execution_count": 5,
   "id": "6a7276eb",
   "metadata": {},
   "outputs": [
    {
     "data": {
      "text/html": [
       "<div>\n",
       "<style scoped>\n",
       "    .dataframe tbody tr th:only-of-type {\n",
       "        vertical-align: middle;\n",
       "    }\n",
       "\n",
       "    .dataframe tbody tr th {\n",
       "        vertical-align: top;\n",
       "    }\n",
       "\n",
       "    .dataframe thead th {\n",
       "        text-align: right;\n",
       "    }\n",
       "</style>\n",
       "<table border=\"1\" class=\"dataframe\">\n",
       "  <thead>\n",
       "    <tr style=\"text-align: right;\">\n",
       "      <th></th>\n",
       "      <th>category</th>\n",
       "      <th>way</th>\n",
       "    </tr>\n",
       "  </thead>\n",
       "  <tbody>\n",
       "    <tr>\n",
       "      <th>228</th>\n",
       "      <td>0</td>\n",
       "      <td>./Dataset/plate/IMG_20211122_105612_4.jpg</td>\n",
       "    </tr>\n",
       "    <tr>\n",
       "      <th>480</th>\n",
       "      <td>0</td>\n",
       "      <td>./Dataset/plate/IMG_20211130_215901_12.jpg</td>\n",
       "    </tr>\n",
       "    <tr>\n",
       "      <th>943</th>\n",
       "      <td>1</td>\n",
       "      <td>./Dataset/cup/IMG_20211130_160319_15.jpg</td>\n",
       "    </tr>\n",
       "    <tr>\n",
       "      <th>165</th>\n",
       "      <td>2</td>\n",
       "      <td>./Dataset/fork/IMG_20211206_084301.jpg</td>\n",
       "    </tr>\n",
       "    <tr>\n",
       "      <th>760</th>\n",
       "      <td>3</td>\n",
       "      <td>./Dataset/knife/IMG_20211120_173915_1.jpg</td>\n",
       "    </tr>\n",
       "  </tbody>\n",
       "</table>\n",
       "</div>"
      ],
      "text/plain": [
       "     category                                         way\n",
       "228         0   ./Dataset/plate/IMG_20211122_105612_4.jpg\n",
       "480         0  ./Dataset/plate/IMG_20211130_215901_12.jpg\n",
       "943         1    ./Dataset/cup/IMG_20211130_160319_15.jpg\n",
       "165         2      ./Dataset/fork/IMG_20211206_084301.jpg\n",
       "760         3   ./Dataset/knife/IMG_20211120_173915_1.jpg"
      ]
     },
     "execution_count": 5,
     "metadata": {},
     "output_type": "execute_result"
    }
   ],
   "source": [
    "df.head()"
   ]
  },
  {
   "cell_type": "code",
   "execution_count": 6,
   "id": "91c54d21",
   "metadata": {},
   "outputs": [
    {
     "data": {
      "text/plain": [
       "category\n",
       "0    21.25\n",
       "1    17.50\n",
       "2    12.50\n",
       "3    17.50\n",
       "4    17.50\n",
       "5    13.75\n",
       "Name: way, dtype: float64"
      ]
     },
     "execution_count": 6,
     "metadata": {},
     "output_type": "execute_result"
    }
   ],
   "source": [
    "df.groupby(\"category\")[\"way\"].count() / df.shape[0] * 100"
   ]
  },
  {
   "cell_type": "code",
   "execution_count": 7,
   "id": "5633a8a7",
   "metadata": {},
   "outputs": [],
   "source": [
    "n_train = int(df.shape[0] * 0.7)\n",
    "df_train = df[:n_train]\n",
    "df_val = df[n_train:]"
   ]
  },
  {
   "cell_type": "markdown",
   "id": "a5e02906",
   "metadata": {},
   "source": [
    "Затем применим фильтр Гаусса для сглаживания, уменьшим его и нормируем яркость"
   ]
  },
  {
   "cell_type": "code",
   "execution_count": 8,
   "id": "d6b95296",
   "metadata": {},
   "outputs": [],
   "source": [
    "def first_prepare(img):\n",
    "    # размытие (сглаживание)\n",
    "    img = cv2.GaussianBlur(img, (15, 15), 3)\n",
    "\n",
    "    # уменьшим размер\n",
    "    img = cv2.resize(img, (64, 64))\n",
    "\n",
    "    # нормализуем интенсивности от 0 до 255\n",
    "    img = cv2.normalize(img, None, 0, 255, norm_type=cv2.NORM_MINMAX)\n",
    "    \n",
    "    return img\n",
    "\n",
    "# img = first_prepare(img)\n",
    "# plt.imshow(img, cmap=\"gray\")"
   ]
  },
  {
   "cell_type": "markdown",
   "id": "63133066",
   "metadata": {},
   "source": [
    "## Bag of words для исходной картинки (несегментированной)\n",
    "\n",
    "### Составление словаря слов\n",
    "Каждую картинку (исходный размер 64х64) разделим на ячейки 16х16 со смещением 8 пикселей. Итого получим 49 ячеек. \n",
    "\n",
    "Для каждой из них вычислим гистограмму направленных градиентов HOG по 9 направлением. Итого каждый объект (слово) будет представлять из себя вектор длины 9, из каждой картинки получим 49 слов.\n",
    "\n",
    "Все слова из всех картинок разделим на кластеры с помощью алгоритмя K-means (количество кластеров попробуем разное, для начала - 25 штук).\n",
    "Тогда наш словарь будет состоять из 25 слов."
   ]
  },
  {
   "cell_type": "code",
   "execution_count": 9,
   "id": "0a9aaa1e",
   "metadata": {},
   "outputs": [],
   "source": [
    "def get_frames(image, image_name):\n",
    "    # получает 49 векторов длины 9 из каждой картинки\n",
    "    # и возвращает dataframe с этими векторами\n",
    "    \n",
    "    # исходный размер изображения 64*64\n",
    "    win_size = (64, 64)\n",
    "    block_size = (16, 16)\n",
    "    block_stride = (8, 8)\n",
    "    cell_size = (16, 16)\n",
    "    n_bins = 9\n",
    "\n",
    "    hog = cv2.HOGDescriptor(win_size, block_size, block_stride, cell_size, n_bins)\n",
    "\n",
    "    winStride = (8, 8)\n",
    "    padding = (0, 0) \n",
    "    hist = hog.compute(image, winStride, padding) \n",
    "\n",
    "    # количество ячеек 7 * 7, по 9 бинов в каждом = 441\n",
    "    # сделаем resize в матрицу 49*9, чтобы каждая ячейка (слово) описывалась отдельно\n",
    "    \n",
    "    data = np.reshape(hist, (49, 9))\n",
    "    df = pd.DataFrame(data)\n",
    "    df[\"row\"] = df.index % 7\n",
    "    df[\"col\"] = df.index // 7\n",
    "    df[\"name\"] = image_name\n",
    "    \n",
    "    return df[[\"name\", \"row\", \"col\", 0, 1, 2, 3, 4, 5, 6, 7, 8]]"
   ]
  },
  {
   "cell_type": "code",
   "execution_count": 10,
   "id": "7ba5bb1d",
   "metadata": {},
   "outputs": [],
   "source": [
    "def all_frames(file_list):\n",
    "    # для списка файлов получает векторы\n",
    "    # и объединяет в один dataframe\n",
    "    \n",
    "    frames = None\n",
    "    \n",
    "    for f in file_list:\n",
    "        image = cv2.imread(f, cv2.IMREAD_GRAYSCALE)\n",
    "        image = first_prepare(image)\n",
    "        # для получения сегментированного изображения\n",
    "        # image = cv2.adaptiveThreshold(image, 255, cv2.ADAPTIVE_THRESH_MEAN_C, cv2.THRESH_BINARY, 33, 24)\n",
    "        \n",
    "        if frames is None:\n",
    "            frames = get_frames(image, f)\n",
    "            \n",
    "        else:\n",
    "            frames = pd.concat([frames, get_frames(image, f)], axis=0)\n",
    "    \n",
    "    frames.reset_index(drop=True, inplace=True)\n",
    "    \n",
    "    return frames"
   ]
  },
  {
   "cell_type": "code",
   "execution_count": 11,
   "id": "5702a362",
   "metadata": {},
   "outputs": [
    {
     "data": {
      "text/plain": [
       "<matplotlib.image.AxesImage at 0x7f863d489b50>"
      ]
     },
     "execution_count": 11,
     "metadata": {},
     "output_type": "execute_result"
    },
    {
     "data": {
      "image/png": "[encoded data removed]",
      "text/plain": [
       "<Figure size 432x288 with 1 Axes>"
      ]
     },
     "metadata": {
      "needs_background": "light"
     },
     "output_type": "display_data"
    }
   ],
   "source": [
    "def frame_image(name, row, col):\n",
    "    # по имени файла, номеру строки (от 0 до 6),\n",
    "    # номеру колонки (от 0 до 6)\n",
    "    # возвращает фрагмент изображения\n",
    "    \n",
    "    image = cv2.imread(name, cv2.IMREAD_GRAYSCALE)\n",
    "    image = first_prepare(image)\n",
    "    # для получения сегментированного изображения\n",
    "    # image = cv2.adaptiveThreshold(image, 255, cv2.ADAPTIVE_THRESH_MEAN_C, cv2.THRESH_BINARY, 33, 24)\n",
    "    \n",
    "    frame = image[row * 8 : (row + 2) * 8, col * 8 : (col + 2) * 8]\n",
    "    return frame\n",
    "\n",
    "# пример работы функции\n",
    "plt.imshow(frame_image(\"./Dataset/fork/IMG_20211119_084920.jpg\", 3, 5))"
   ]
  },
  {
   "cell_type": "code",
   "execution_count": 12,
   "id": "8154be01",
   "metadata": {},
   "outputs": [
    {
     "data": {
      "text/plain": [
       "KMeans(n_clusters=25, n_init=20)"
      ]
     },
     "execution_count": 12,
     "metadata": {},
     "output_type": "execute_result"
    }
   ],
   "source": [
    "# обучим K-means на наших данных\n",
    "from sklearn.cluster import KMeans\n",
    "\n",
    "n_clusters = 25\n",
    "\n",
    "cls = KMeans(n_clusters=n_clusters)\n",
    "\n",
    "# сформируем список файлов\n",
    "file_list = df_train[\"way\"].to_list()\n",
    "\n",
    "# сформируем dataframe со словами, из него для обучения возьмем только часть колонок \n",
    "# название файла и месторасположение фрагмента не берем\n",
    "train_frames_data = all_frames(file_list)\n",
    "X_hog_train = train_frames_data[[0, 1, 2, 3, 4, 5, 6, 7, 8]]\n",
    "\n",
    "# обучим алгоритм\n",
    "cls.fit(X_hog_train)\n"
   ]
  },
  {
   "cell_type": "markdown",
   "id": "13b03071",
   "metadata": {},
   "source": [
    "Посмотрим на получившиеся кластеры. Для этого в dataframe с информацией о фрагментах всех изображений добавим значение кластера.\n",
    "\n",
    "И посмотрим на объемы кластеров."
   ]
  },
  {
   "cell_type": "code",
   "execution_count": 13,
   "id": "4a652adc",
   "metadata": {},
   "outputs": [
    {
     "data": {
      "text/plain": [
       "0     19969\n",
       "10     3694\n",
       "7      3642\n",
       "19     3087\n",
       "16     3042\n",
       "20     2720\n",
       "8      2586\n",
       "4      2214\n",
       "24     2179\n",
       "3      1359\n",
       "13     1309\n",
       "12     1289\n",
       "11     1159\n",
       "15     1112\n",
       "14     1083\n",
       "18     1027\n",
       "2       876\n",
       "22      851\n",
       "21      714\n",
       "5       706\n",
       "9       637\n",
       "23      630\n",
       "1       620\n",
       "17      611\n",
       "6       508\n",
       "Name: cluster, dtype: int64"
      ]
     },
     "execution_count": 13,
     "metadata": {},
     "output_type": "execute_result"
    }
   ],
   "source": [
    "train_frames_data[\"cluster\"] = cls.predict(X_hog_train)\n",
    "\n",
    "train_frames_data[\"cluster\"].value_counts()"
   ]
  },
  {
   "cell_type": "markdown",
   "id": "4510fd4d",
   "metadata": {},
   "source": [
    "Видно, что есть один наиболее многочисленный кластер и 24 менее многочисленных.\n",
    "\n",
    "Для визуальной оценки кластеров возьмем несколько фрагментов самого многочисленного кластера:"
   ]
  },
  {
   "cell_type": "code",
   "execution_count": 14,
   "id": "8ab66e9f",
   "metadata": {},
   "outputs": [
    {
     "data": {
      "image/png": "[encoded data removed]",
      "text/plain": [
       "<Figure size 648x648 with 9 Axes>"
      ]
     },
     "metadata": {
      "needs_background": "light"
     },
     "output_type": "display_data"
    }
   ],
   "source": [
    "cluster = 0\n",
    "sample = train_frames_data[train_frames_data[\"cluster\"] == cluster].sample(n=9)\n",
    "sample.reset_index(drop=True, inplace=True)\n",
    "\n",
    "fig = plt.figure(figsize=(9, 9))\n",
    "\n",
    "for i in range(9):\n",
    "    name = sample.loc[i, \"name\"]\n",
    "    row = sample.loc[i, \"row\"]\n",
    "    col = sample.loc[i, \"col\"]\n",
    "\n",
    "    plt.subplot(3, 3, i + 1)\n",
    "    plt.imshow(frame_image(name, row, col), cmap='gray')\n",
    "    plt.title(f\"{name}: {row}, {col}\")\n",
    "    "
   ]
  },
  {
   "cell_type": "markdown",
   "id": "8dfd323a",
   "metadata": {},
   "source": [
    "И какого-нибудь кластера среднего размера"
   ]
  },
  {
   "cell_type": "code",
   "execution_count": 15,
   "id": "4c744a27",
   "metadata": {},
   "outputs": [
    {
     "data": {
      "image/png": "[encoded data removed]",
      "text/plain": [
       "<Figure size 648x648 with 9 Axes>"
      ]
     },
     "metadata": {
      "needs_background": "light"
     },
     "output_type": "display_data"
    }
   ],
   "source": [
    "cluster = 13\n",
    "sample = train_frames_data[train_frames_data[\"cluster\"] == cluster].sample(n=9)\n",
    "sample.reset_index(drop=True, inplace=True)\n",
    "\n",
    "fig = plt.figure(figsize=(9, 9))\n",
    "\n",
    "for i in range(9):\n",
    "    name = sample.loc[i, \"name\"]\n",
    "    row = sample.loc[i, \"row\"]\n",
    "    col = sample.loc[i, \"col\"]\n",
    "\n",
    "    plt.subplot(3, 3, i + 1)\n",
    "    plt.imshow(frame_image(name, row, col), cmap='gray')\n",
    "    plt.title(f\"{name}: {row}, {col}\")"
   ]
  },
  {
   "cell_type": "markdown",
   "id": "eed7f9b1",
   "metadata": {},
   "source": [
    "### Построение feature vector для изображений\n",
    "\n",
    "Теперь мы можем посмотреть на все 49 фрагментов изображения и определить, к какому из кластеров они относятся и записать частоту этого слова в соответствующую ячейку.\n",
    "\n",
    "Так как наш словарь включает в себя 25 слов, то каждое изображение можно описать вектором длины 25, где на i-м месте стоит частота i-го слова.\n",
    "\n",
    "Информация о номере кластера для каждого фрагмента каждого изображения у нас уже записана в dataframe, нам нужно только группировать ее по названию файла."
   ]
  },
  {
   "cell_type": "code",
   "execution_count": 16,
   "id": "07d73812",
   "metadata": {},
   "outputs": [
    {
     "data": {
      "text/html": [
       "<div>\n",
       "<style scoped>\n",
       "    .dataframe tbody tr th:only-of-type {\n",
       "        vertical-align: middle;\n",
       "    }\n",
       "\n",
       "    .dataframe tbody tr th {\n",
       "        vertical-align: top;\n",
       "    }\n",
       "\n",
       "    .dataframe thead th {\n",
       "        text-align: right;\n",
       "    }\n",
       "</style>\n",
       "<table border=\"1\" class=\"dataframe\">\n",
       "  <thead>\n",
       "    <tr style=\"text-align: right;\">\n",
       "      <th>cluster</th>\n",
       "      <th>0</th>\n",
       "      <th>1</th>\n",
       "      <th>2</th>\n",
       "      <th>3</th>\n",
       "      <th>4</th>\n",
       "      <th>5</th>\n",
       "      <th>6</th>\n",
       "      <th>7</th>\n",
       "      <th>8</th>\n",
       "      <th>9</th>\n",
       "      <th>...</th>\n",
       "      <th>15</th>\n",
       "      <th>16</th>\n",
       "      <th>17</th>\n",
       "      <th>18</th>\n",
       "      <th>19</th>\n",
       "      <th>20</th>\n",
       "      <th>21</th>\n",
       "      <th>22</th>\n",
       "      <th>23</th>\n",
       "      <th>24</th>\n",
       "    </tr>\n",
       "    <tr>\n",
       "      <th>name</th>\n",
       "      <th></th>\n",
       "      <th></th>\n",
       "      <th></th>\n",
       "      <th></th>\n",
       "      <th></th>\n",
       "      <th></th>\n",
       "      <th></th>\n",
       "      <th></th>\n",
       "      <th></th>\n",
       "      <th></th>\n",
       "      <th></th>\n",
       "      <th></th>\n",
       "      <th></th>\n",
       "      <th></th>\n",
       "      <th></th>\n",
       "      <th></th>\n",
       "      <th></th>\n",
       "      <th></th>\n",
       "      <th></th>\n",
       "      <th></th>\n",
       "      <th></th>\n",
       "    </tr>\n",
       "  </thead>\n",
       "  <tbody>\n",
       "    <tr>\n",
       "      <th>./Dataset/cup/IMG_20211117_085845.jpg</th>\n",
       "      <td>12</td>\n",
       "      <td>0</td>\n",
       "      <td>0</td>\n",
       "      <td>1</td>\n",
       "      <td>1</td>\n",
       "      <td>0</td>\n",
       "      <td>5</td>\n",
       "      <td>3</td>\n",
       "      <td>1</td>\n",
       "      <td>0</td>\n",
       "      <td>...</td>\n",
       "      <td>4</td>\n",
       "      <td>1</td>\n",
       "      <td>2</td>\n",
       "      <td>0</td>\n",
       "      <td>3</td>\n",
       "      <td>1</td>\n",
       "      <td>0</td>\n",
       "      <td>0</td>\n",
       "      <td>2</td>\n",
       "      <td>4</td>\n",
       "    </tr>\n",
       "    <tr>\n",
       "      <th>./Dataset/cup/IMG_20211117_085845_1.jpg</th>\n",
       "      <td>10</td>\n",
       "      <td>0</td>\n",
       "      <td>0</td>\n",
       "      <td>2</td>\n",
       "      <td>2</td>\n",
       "      <td>0</td>\n",
       "      <td>4</td>\n",
       "      <td>0</td>\n",
       "      <td>2</td>\n",
       "      <td>0</td>\n",
       "      <td>...</td>\n",
       "      <td>1</td>\n",
       "      <td>5</td>\n",
       "      <td>0</td>\n",
       "      <td>1</td>\n",
       "      <td>4</td>\n",
       "      <td>5</td>\n",
       "      <td>0</td>\n",
       "      <td>1</td>\n",
       "      <td>3</td>\n",
       "      <td>0</td>\n",
       "    </tr>\n",
       "    <tr>\n",
       "      <th>./Dataset/cup/IMG_20211117_085845_12.jpg</th>\n",
       "      <td>12</td>\n",
       "      <td>0</td>\n",
       "      <td>0</td>\n",
       "      <td>1</td>\n",
       "      <td>1</td>\n",
       "      <td>0</td>\n",
       "      <td>1</td>\n",
       "      <td>0</td>\n",
       "      <td>1</td>\n",
       "      <td>0</td>\n",
       "      <td>...</td>\n",
       "      <td>1</td>\n",
       "      <td>4</td>\n",
       "      <td>0</td>\n",
       "      <td>1</td>\n",
       "      <td>3</td>\n",
       "      <td>1</td>\n",
       "      <td>0</td>\n",
       "      <td>1</td>\n",
       "      <td>7</td>\n",
       "      <td>0</td>\n",
       "    </tr>\n",
       "    <tr>\n",
       "      <th>./Dataset/cup/IMG_20211117_085845_13.jpg</th>\n",
       "      <td>16</td>\n",
       "      <td>1</td>\n",
       "      <td>0</td>\n",
       "      <td>1</td>\n",
       "      <td>0</td>\n",
       "      <td>0</td>\n",
       "      <td>0</td>\n",
       "      <td>1</td>\n",
       "      <td>5</td>\n",
       "      <td>0</td>\n",
       "      <td>...</td>\n",
       "      <td>1</td>\n",
       "      <td>0</td>\n",
       "      <td>0</td>\n",
       "      <td>0</td>\n",
       "      <td>4</td>\n",
       "      <td>0</td>\n",
       "      <td>0</td>\n",
       "      <td>0</td>\n",
       "      <td>8</td>\n",
       "      <td>1</td>\n",
       "    </tr>\n",
       "    <tr>\n",
       "      <th>./Dataset/cup/IMG_20211117_085845_14.jpg</th>\n",
       "      <td>14</td>\n",
       "      <td>0</td>\n",
       "      <td>2</td>\n",
       "      <td>0</td>\n",
       "      <td>0</td>\n",
       "      <td>0</td>\n",
       "      <td>1</td>\n",
       "      <td>2</td>\n",
       "      <td>5</td>\n",
       "      <td>1</td>\n",
       "      <td>...</td>\n",
       "      <td>1</td>\n",
       "      <td>3</td>\n",
       "      <td>0</td>\n",
       "      <td>0</td>\n",
       "      <td>6</td>\n",
       "      <td>0</td>\n",
       "      <td>0</td>\n",
       "      <td>0</td>\n",
       "      <td>6</td>\n",
       "      <td>1</td>\n",
       "    </tr>\n",
       "  </tbody>\n",
       "</table>\n",
       "<p>5 rows × 25 columns</p>\n",
       "</div>"
      ],
      "text/plain": [
       "cluster                                   0   1   2   3   4   5   6   7   8   \\\n",
       "name                                                                           \n",
       "./Dataset/cup/IMG_20211117_085845.jpg     12   0   0   1   1   0   5   3   1   \n",
       "./Dataset/cup/IMG_20211117_085845_1.jpg   10   0   0   2   2   0   4   0   2   \n",
       "./Dataset/cup/IMG_20211117_085845_12.jpg  12   0   0   1   1   0   1   0   1   \n",
       "./Dataset/cup/IMG_20211117_085845_13.jpg  16   1   0   1   0   0   0   1   5   \n",
       "./Dataset/cup/IMG_20211117_085845_14.jpg  14   0   2   0   0   0   1   2   5   \n",
       "\n",
       "cluster                                   9   ...  15  16  17  18  19  20  21  \\\n",
       "name                                          ...                               \n",
       "./Dataset/cup/IMG_20211117_085845.jpg      0  ...   4   1   2   0   3   1   0   \n",
       "./Dataset/cup/IMG_20211117_085845_1.jpg    0  ...   1   5   0   1   4   5   0   \n",
       "./Dataset/cup/IMG_20211117_085845_12.jpg   0  ...   1   4   0   1   3   1   0   \n",
       "./Dataset/cup/IMG_20211117_085845_13.jpg   0  ...   1   0   0   0   4   0   0   \n",
       "./Dataset/cup/IMG_20211117_085845_14.jpg   1  ...   1   3   0   0   6   0   0   \n",
       "\n",
       "cluster                                   22  23  24  \n",
       "name                                                  \n",
       "./Dataset/cup/IMG_20211117_085845.jpg      0   2   4  \n",
       "./Dataset/cup/IMG_20211117_085845_1.jpg    1   3   0  \n",
       "./Dataset/cup/IMG_20211117_085845_12.jpg   1   7   0  \n",
       "./Dataset/cup/IMG_20211117_085845_13.jpg   0   8   1  \n",
       "./Dataset/cup/IMG_20211117_085845_14.jpg   0   6   1  \n",
       "\n",
       "[5 rows x 25 columns]"
      ]
     },
     "execution_count": 16,
     "metadata": {},
     "output_type": "execute_result"
    }
   ],
   "source": [
    "def create_features(data, vocab_volume):\n",
    "    df_counts = (data[[\"name\", \"cluster\", \"row\"]]\n",
    "                 .groupby([\"name\", \"cluster\"], as_index=False)\n",
    "                 .agg(\"count\")\n",
    "    )\n",
    "    df_counts = df_counts.rename(columns={\"row\": \"count\"})\n",
    "    # проверка на присутствие всех кластеров\n",
    "    names_list = df_counts[\"name\"].unique()\n",
    "    for name in names_list:\n",
    "        values_list = df_counts[df_counts[\"name\"] == name][\"cluster\"].to_list() \n",
    "        for i in range(vocab_volume):          \n",
    "            if i not in values_list:\n",
    "                df_counts = df_counts.append({\"name\": name, \"cluster\": i, \"count\": 0}, ignore_index=True)\n",
    "    \n",
    "    \n",
    "    df_counts_wide = df_counts.pivot_table(index=[\"name\"], \n",
    "                                           columns=[\"cluster\"], \n",
    "                                           values=[\"count\"], \n",
    "                                           fill_value=0)\n",
    "    df_counts_wide.columns = df_counts_wide.columns.get_level_values(1)\n",
    "    \n",
    "    \n",
    "    return df_counts_wide\n",
    "\n",
    "features_train = create_features(train_frames_data, n_clusters)\n",
    "features_train.head()"
   ]
  },
  {
   "cell_type": "markdown",
   "id": "df935642",
   "metadata": {},
   "source": [
    "Теперь нужно склеить полученное описание с целевой переменной."
   ]
  },
  {
   "cell_type": "code",
   "execution_count": 17,
   "id": "9d4c448b",
   "metadata": {},
   "outputs": [],
   "source": [
    "data_train = pd.merge(features_train, df_train, left_index=True, right_on=\"way\").drop(\"way\", axis=1)\n",
    "data_train.reset_index(drop=True, inplace=True)"
   ]
  },
  {
   "cell_type": "code",
   "execution_count": 18,
   "id": "edc5fad6",
   "metadata": {},
   "outputs": [],
   "source": [
    "y_train = data_train.pop(\"category\")\n",
    "X_train = data_train"
   ]
  },
  {
   "cell_type": "code",
   "execution_count": 19,
   "id": "316ce823",
   "metadata": {},
   "outputs": [
    {
     "data": {
      "text/html": [
       "<div>\n",
       "<style scoped>\n",
       "    .dataframe tbody tr th:only-of-type {\n",
       "        vertical-align: middle;\n",
       "    }\n",
       "\n",
       "    .dataframe tbody tr th {\n",
       "        vertical-align: top;\n",
       "    }\n",
       "\n",
       "    .dataframe thead th {\n",
       "        text-align: right;\n",
       "    }\n",
       "</style>\n",
       "<table border=\"1\" class=\"dataframe\">\n",
       "  <thead>\n",
       "    <tr style=\"text-align: right;\">\n",
       "      <th></th>\n",
       "      <th>0</th>\n",
       "      <th>1</th>\n",
       "      <th>2</th>\n",
       "      <th>3</th>\n",
       "      <th>4</th>\n",
       "      <th>5</th>\n",
       "      <th>6</th>\n",
       "      <th>7</th>\n",
       "      <th>8</th>\n",
       "      <th>9</th>\n",
       "      <th>...</th>\n",
       "      <th>15</th>\n",
       "      <th>16</th>\n",
       "      <th>17</th>\n",
       "      <th>18</th>\n",
       "      <th>19</th>\n",
       "      <th>20</th>\n",
       "      <th>21</th>\n",
       "      <th>22</th>\n",
       "      <th>23</th>\n",
       "      <th>24</th>\n",
       "    </tr>\n",
       "  </thead>\n",
       "  <tbody>\n",
       "    <tr>\n",
       "      <th>0</th>\n",
       "      <td>12</td>\n",
       "      <td>0</td>\n",
       "      <td>0</td>\n",
       "      <td>1</td>\n",
       "      <td>1</td>\n",
       "      <td>0</td>\n",
       "      <td>5</td>\n",
       "      <td>3</td>\n",
       "      <td>1</td>\n",
       "      <td>0</td>\n",
       "      <td>...</td>\n",
       "      <td>4</td>\n",
       "      <td>1</td>\n",
       "      <td>2</td>\n",
       "      <td>0</td>\n",
       "      <td>3</td>\n",
       "      <td>1</td>\n",
       "      <td>0</td>\n",
       "      <td>0</td>\n",
       "      <td>2</td>\n",
       "      <td>4</td>\n",
       "    </tr>\n",
       "    <tr>\n",
       "      <th>1</th>\n",
       "      <td>10</td>\n",
       "      <td>0</td>\n",
       "      <td>0</td>\n",
       "      <td>2</td>\n",
       "      <td>2</td>\n",
       "      <td>0</td>\n",
       "      <td>4</td>\n",
       "      <td>0</td>\n",
       "      <td>2</td>\n",
       "      <td>0</td>\n",
       "      <td>...</td>\n",
       "      <td>1</td>\n",
       "      <td>5</td>\n",
       "      <td>0</td>\n",
       "      <td>1</td>\n",
       "      <td>4</td>\n",
       "      <td>5</td>\n",
       "      <td>0</td>\n",
       "      <td>1</td>\n",
       "      <td>3</td>\n",
       "      <td>0</td>\n",
       "    </tr>\n",
       "    <tr>\n",
       "      <th>2</th>\n",
       "      <td>12</td>\n",
       "      <td>0</td>\n",
       "      <td>0</td>\n",
       "      <td>1</td>\n",
       "      <td>1</td>\n",
       "      <td>0</td>\n",
       "      <td>1</td>\n",
       "      <td>0</td>\n",
       "      <td>1</td>\n",
       "      <td>0</td>\n",
       "      <td>...</td>\n",
       "      <td>1</td>\n",
       "      <td>4</td>\n",
       "      <td>0</td>\n",
       "      <td>1</td>\n",
       "      <td>3</td>\n",
       "      <td>1</td>\n",
       "      <td>0</td>\n",
       "      <td>1</td>\n",
       "      <td>7</td>\n",
       "      <td>0</td>\n",
       "    </tr>\n",
       "    <tr>\n",
       "      <th>3</th>\n",
       "      <td>16</td>\n",
       "      <td>1</td>\n",
       "      <td>0</td>\n",
       "      <td>1</td>\n",
       "      <td>0</td>\n",
       "      <td>0</td>\n",
       "      <td>0</td>\n",
       "      <td>1</td>\n",
       "      <td>5</td>\n",
       "      <td>0</td>\n",
       "      <td>...</td>\n",
       "      <td>1</td>\n",
       "      <td>0</td>\n",
       "      <td>0</td>\n",
       "      <td>0</td>\n",
       "      <td>4</td>\n",
       "      <td>0</td>\n",
       "      <td>0</td>\n",
       "      <td>0</td>\n",
       "      <td>8</td>\n",
       "      <td>1</td>\n",
       "    </tr>\n",
       "    <tr>\n",
       "      <th>4</th>\n",
       "      <td>14</td>\n",
       "      <td>0</td>\n",
       "      <td>2</td>\n",
       "      <td>0</td>\n",
       "      <td>0</td>\n",
       "      <td>0</td>\n",
       "      <td>1</td>\n",
       "      <td>2</td>\n",
       "      <td>5</td>\n",
       "      <td>1</td>\n",
       "      <td>...</td>\n",
       "      <td>1</td>\n",
       "      <td>3</td>\n",
       "      <td>0</td>\n",
       "      <td>0</td>\n",
       "      <td>6</td>\n",
       "      <td>0</td>\n",
       "      <td>0</td>\n",
       "      <td>0</td>\n",
       "      <td>6</td>\n",
       "      <td>1</td>\n",
       "    </tr>\n",
       "  </tbody>\n",
       "</table>\n",
       "<p>5 rows × 25 columns</p>\n",
       "</div>"
      ],
      "text/plain": [
       "   0   1   2   3   4   5   6   7   8   9   ...  15  16  17  18  19  20  21  \\\n",
       "0  12   0   0   1   1   0   5   3   1   0  ...   4   1   2   0   3   1   0   \n",
       "1  10   0   0   2   2   0   4   0   2   0  ...   1   5   0   1   4   5   0   \n",
       "2  12   0   0   1   1   0   1   0   1   0  ...   1   4   0   1   3   1   0   \n",
       "3  16   1   0   1   0   0   0   1   5   0  ...   1   0   0   0   4   0   0   \n",
       "4  14   0   2   0   0   0   1   2   5   1  ...   1   3   0   0   6   0   0   \n",
       "\n",
       "   22  23  24  \n",
       "0   0   2   4  \n",
       "1   1   3   0  \n",
       "2   1   7   0  \n",
       "3   0   8   1  \n",
       "4   0   6   1  \n",
       "\n",
       "[5 rows x 25 columns]"
      ]
     },
     "execution_count": 19,
     "metadata": {},
     "output_type": "execute_result"
    }
   ],
   "source": [
    "X_train.head()"
   ]
  },
  {
   "cell_type": "code",
   "execution_count": 20,
   "id": "1c0c3599",
   "metadata": {},
   "outputs": [
    {
     "data": {
      "text/plain": [
       "(1176, 25)"
      ]
     },
     "execution_count": 20,
     "metadata": {},
     "output_type": "execute_result"
    }
   ],
   "source": [
    "X_train.shape"
   ]
  },
  {
   "cell_type": "code",
   "execution_count": 21,
   "id": "89202ecb",
   "metadata": {},
   "outputs": [
    {
     "data": {
      "text/plain": [
       "0    1\n",
       "1    1\n",
       "2    1\n",
       "3    1\n",
       "4    1\n",
       "Name: category, dtype: int64"
      ]
     },
     "execution_count": 21,
     "metadata": {},
     "output_type": "execute_result"
    }
   ],
   "source": [
    "y_train.head()"
   ]
  },
  {
   "cell_type": "code",
   "execution_count": 22,
   "id": "48ba8914",
   "metadata": {},
   "outputs": [],
   "source": [
    "# сформируем X_val и y_val, объединим проделанную процедуру в функцию\n",
    "\n",
    "def create_xy_data(df, clf_model):\n",
    "    # df - dataframe именами файлов и категориями\n",
    "    # clf_model - модель кластеризации\n",
    "    \n",
    "    file_list = df[\"way\"].to_list()\n",
    "    df_frames = all_frames(file_list)\n",
    "    df_hog = df_frames[[0, 1, 2, 3, 4, 5, 6, 7, 8]]\n",
    "    \n",
    "    df_frames[\"cluster\"] = clf_model.predict(df_hog)\n",
    "    features = create_features(df_frames, clf_model.get_params()[\"n_clusters\"])\n",
    "    data = pd.merge(features, df, left_index=True, right_on=\"way\").drop(\"way\", axis=1)\n",
    "    data.reset_index(drop=True, inplace=True)\n",
    "    y = data.pop(\"category\")\n",
    "    X = data \n",
    "    return X, y\n",
    "\n",
    "X_val, y_val = create_xy_data(df_val, cls)\n"
   ]
  },
  {
   "cell_type": "code",
   "execution_count": 23,
   "id": "ac71d0c7",
   "metadata": {},
   "outputs": [
    {
     "data": {
      "text/plain": [
       "(504, 25)"
      ]
     },
     "execution_count": 23,
     "metadata": {},
     "output_type": "execute_result"
    }
   ],
   "source": [
    "X_val.shape"
   ]
  },
  {
   "cell_type": "code",
   "execution_count": 24,
   "id": "24f372de",
   "metadata": {},
   "outputs": [
    {
     "data": {
      "text/plain": [
       "Pipeline(steps=[('scaler_', StandardScaler()),\n",
       "                ('model_',\n",
       "                 XGBClassifier(base_score=0.5, booster='gbtree',\n",
       "                               colsample_bylevel=1, colsample_bynode=1,\n",
       "                               colsample_bytree=1, enable_categorical=False,\n",
       "                               gamma=0, gpu_id=-1, importance_type=None,\n",
       "                               interaction_constraints='',\n",
       "                               learning_rate=0.300000012, max_delta_step=0,\n",
       "                               max_depth=4, min_child_weight=1, missing=nan,\n",
       "                               monotone_constraints='()', n_estimators=25,\n",
       "                               n_jobs=12, num_parallel_tree=1,\n",
       "                               objective='multi:softprob', predictor='auto',\n",
       "                               random_state=0, reg_alpha=0, reg_lambda=1,\n",
       "                               scale_pos_weight=None, subsample=1,\n",
       "                               tree_method='exact', validate_parameters=1,\n",
       "                               verbosity=0))])"
      ]
     },
     "execution_count": 24,
     "metadata": {},
     "output_type": "execute_result"
    }
   ],
   "source": [
    "# обучим SVM и XGBoost на наших данных\n",
    "\n",
    "from sklearn.model_selection import train_test_split\n",
    "from sklearn.svm import SVC\n",
    "from xgboost.sklearn import XGBClassifier\n",
    "from sklearn.preprocessing import StandardScaler\n",
    "from sklearn.pipeline import Pipeline\n",
    "\n",
    "pipe_svc = Pipeline([\n",
    "    ('scaler_', StandardScaler()),\n",
    "    ('model_', SVC(C=4))])\n",
    "\n",
    "\n",
    "pipe_svc.fit(X_train, y_train)\n",
    "\n",
    "pipe_xgbst = Pipeline([\n",
    "    ('scaler_', StandardScaler()),\n",
    "    ('model_', XGBClassifier(n_estimators=25, max_depth=4, verbosity=0))])\n",
    "\n",
    "\n",
    "pipe_svc.fit(X_train, y_train)\n",
    "pipe_xgbst.fit(X_train, y_train)\n"
   ]
  },
  {
   "cell_type": "code",
   "execution_count": 25,
   "id": "cc15a3e3",
   "metadata": {},
   "outputs": [
    {
     "name": "stdout",
     "output_type": "stream",
     "text": [
      "accuracy SVC 0.7738095238095238 \n",
      "accuracy XGBoost 0.6567460317460317\n"
     ]
    }
   ],
   "source": [
    "from sklearn.metrics import accuracy_score\n",
    "print(\"accuracy SVC\", accuracy_score(pipe_svc.predict(X_val), y_val), \n",
    "      \"\\naccuracy XGBoost\", accuracy_score(pipe_xgbst.predict(X_val), y_val))"
   ]
  },
  {
   "cell_type": "markdown",
   "id": "4d93068c",
   "metadata": {},
   "source": [
    "Посмотрим теперь по кросс-валидации"
   ]
  },
  {
   "cell_type": "code",
   "execution_count": 26,
   "id": "f1285175",
   "metadata": {},
   "outputs": [],
   "source": [
    "from sklearn.model_selection import cross_validate, StratifiedKFold\n",
    "\n",
    "# print(\"Cross validation for SVC:\")\n",
    "# print(cross_validate(pipe_svc, , y, cv=StratifiedKFold(n_splits=5), scoring='accuracy')[\"test_score\"])\n",
    "\n",
    "# print(\"Cross validation for XGBoost:\")\n",
    "# print(cross_validate(pipe_xgbst, X, y, cv=StratifiedKFold(n_splits=5), scoring='accuracy')[\"test_score\"])"
   ]
  },
  {
   "cell_type": "markdown",
   "id": "4bbf3a90",
   "metadata": {},
   "source": [
    "Теперь проверим на тестовых данных"
   ]
  },
  {
   "cell_type": "code",
   "execution_count": 26,
   "id": "a3358c4f",
   "metadata": {},
   "outputs": [],
   "source": [
    "df_test = create_df('./Test')\n",
    "df_test[\"category\"] = df_test[\"category\"].map(slovar)\n",
    "\n",
    "X_test, y_test = create_xy_data(df_test, cls)"
   ]
  },
  {
   "cell_type": "code",
   "execution_count": 27,
   "id": "3e1b2193",
   "metadata": {},
   "outputs": [
    {
     "data": {
      "text/html": [
       "<div>\n",
       "<style scoped>\n",
       "    .dataframe tbody tr th:only-of-type {\n",
       "        vertical-align: middle;\n",
       "    }\n",
       "\n",
       "    .dataframe tbody tr th {\n",
       "        vertical-align: top;\n",
       "    }\n",
       "\n",
       "    .dataframe thead th {\n",
       "        text-align: right;\n",
       "    }\n",
       "</style>\n",
       "<table border=\"1\" class=\"dataframe\">\n",
       "  <thead>\n",
       "    <tr style=\"text-align: right;\">\n",
       "      <th></th>\n",
       "      <th>0</th>\n",
       "      <th>1</th>\n",
       "      <th>2</th>\n",
       "      <th>3</th>\n",
       "      <th>4</th>\n",
       "      <th>5</th>\n",
       "      <th>6</th>\n",
       "      <th>7</th>\n",
       "      <th>8</th>\n",
       "      <th>9</th>\n",
       "      <th>...</th>\n",
       "      <th>15</th>\n",
       "      <th>16</th>\n",
       "      <th>17</th>\n",
       "      <th>18</th>\n",
       "      <th>19</th>\n",
       "      <th>20</th>\n",
       "      <th>21</th>\n",
       "      <th>22</th>\n",
       "      <th>23</th>\n",
       "      <th>24</th>\n",
       "    </tr>\n",
       "  </thead>\n",
       "  <tbody>\n",
       "    <tr>\n",
       "      <th>0</th>\n",
       "      <td>6</td>\n",
       "      <td>1</td>\n",
       "      <td>0</td>\n",
       "      <td>0</td>\n",
       "      <td>3</td>\n",
       "      <td>0</td>\n",
       "      <td>3</td>\n",
       "      <td>7</td>\n",
       "      <td>2</td>\n",
       "      <td>0</td>\n",
       "      <td>...</td>\n",
       "      <td>2</td>\n",
       "      <td>4</td>\n",
       "      <td>0</td>\n",
       "      <td>9</td>\n",
       "      <td>2</td>\n",
       "      <td>1</td>\n",
       "      <td>2</td>\n",
       "      <td>0</td>\n",
       "      <td>0</td>\n",
       "      <td>1</td>\n",
       "    </tr>\n",
       "    <tr>\n",
       "      <th>1</th>\n",
       "      <td>4</td>\n",
       "      <td>1</td>\n",
       "      <td>0</td>\n",
       "      <td>1</td>\n",
       "      <td>2</td>\n",
       "      <td>0</td>\n",
       "      <td>0</td>\n",
       "      <td>9</td>\n",
       "      <td>1</td>\n",
       "      <td>0</td>\n",
       "      <td>...</td>\n",
       "      <td>1</td>\n",
       "      <td>3</td>\n",
       "      <td>1</td>\n",
       "      <td>10</td>\n",
       "      <td>3</td>\n",
       "      <td>2</td>\n",
       "      <td>2</td>\n",
       "      <td>0</td>\n",
       "      <td>2</td>\n",
       "      <td>0</td>\n",
       "    </tr>\n",
       "    <tr>\n",
       "      <th>2</th>\n",
       "      <td>6</td>\n",
       "      <td>3</td>\n",
       "      <td>1</td>\n",
       "      <td>2</td>\n",
       "      <td>3</td>\n",
       "      <td>0</td>\n",
       "      <td>0</td>\n",
       "      <td>10</td>\n",
       "      <td>5</td>\n",
       "      <td>0</td>\n",
       "      <td>...</td>\n",
       "      <td>1</td>\n",
       "      <td>2</td>\n",
       "      <td>0</td>\n",
       "      <td>2</td>\n",
       "      <td>3</td>\n",
       "      <td>0</td>\n",
       "      <td>0</td>\n",
       "      <td>0</td>\n",
       "      <td>0</td>\n",
       "      <td>3</td>\n",
       "    </tr>\n",
       "    <tr>\n",
       "      <th>3</th>\n",
       "      <td>6</td>\n",
       "      <td>1</td>\n",
       "      <td>0</td>\n",
       "      <td>2</td>\n",
       "      <td>2</td>\n",
       "      <td>0</td>\n",
       "      <td>1</td>\n",
       "      <td>5</td>\n",
       "      <td>0</td>\n",
       "      <td>0</td>\n",
       "      <td>...</td>\n",
       "      <td>1</td>\n",
       "      <td>3</td>\n",
       "      <td>1</td>\n",
       "      <td>12</td>\n",
       "      <td>1</td>\n",
       "      <td>0</td>\n",
       "      <td>1</td>\n",
       "      <td>0</td>\n",
       "      <td>1</td>\n",
       "      <td>2</td>\n",
       "    </tr>\n",
       "    <tr>\n",
       "      <th>4</th>\n",
       "      <td>5</td>\n",
       "      <td>1</td>\n",
       "      <td>0</td>\n",
       "      <td>1</td>\n",
       "      <td>2</td>\n",
       "      <td>0</td>\n",
       "      <td>1</td>\n",
       "      <td>5</td>\n",
       "      <td>0</td>\n",
       "      <td>0</td>\n",
       "      <td>...</td>\n",
       "      <td>1</td>\n",
       "      <td>2</td>\n",
       "      <td>3</td>\n",
       "      <td>4</td>\n",
       "      <td>3</td>\n",
       "      <td>3</td>\n",
       "      <td>1</td>\n",
       "      <td>0</td>\n",
       "      <td>0</td>\n",
       "      <td>2</td>\n",
       "    </tr>\n",
       "  </tbody>\n",
       "</table>\n",
       "<p>5 rows × 25 columns</p>\n",
       "</div>"
      ],
      "text/plain": [
       "   0   1   2   3   4   5   6   7   8   9   ...  15  16  17  18  19  20  21  \\\n",
       "0   6   1   0   0   3   0   3   7   2   0  ...   2   4   0   9   2   1   2   \n",
       "1   4   1   0   1   2   0   0   9   1   0  ...   1   3   1  10   3   2   2   \n",
       "2   6   3   1   2   3   0   0  10   5   0  ...   1   2   0   2   3   0   0   \n",
       "3   6   1   0   2   2   0   1   5   0   0  ...   1   3   1  12   1   0   1   \n",
       "4   5   1   0   1   2   0   1   5   0   0  ...   1   2   3   4   3   3   1   \n",
       "\n",
       "   22  23  24  \n",
       "0   0   0   1  \n",
       "1   0   2   0  \n",
       "2   0   0   3  \n",
       "3   0   1   2  \n",
       "4   0   0   2  \n",
       "\n",
       "[5 rows x 25 columns]"
      ]
     },
     "execution_count": 27,
     "metadata": {},
     "output_type": "execute_result"
    }
   ],
   "source": [
    "X_test.head()"
   ]
  },
  {
   "cell_type": "code",
   "execution_count": 28,
   "id": "d8fea07f",
   "metadata": {},
   "outputs": [
    {
     "data": {
      "text/plain": [
       "0.3772893772893773"
      ]
     },
     "execution_count": 28,
     "metadata": {},
     "output_type": "execute_result"
    }
   ],
   "source": [
    "accuracy_score(pipe_svc.predict(X_test), y_test)"
   ]
  },
  {
   "cell_type": "code",
   "execution_count": 29,
   "id": "332b505a",
   "metadata": {},
   "outputs": [
    {
     "data": {
      "text/plain": [
       "0.34798534798534797"
      ]
     },
     "execution_count": 29,
     "metadata": {},
     "output_type": "execute_result"
    }
   ],
   "source": [
    "accuracy_score(pipe_xgbst.predict(X_test), y_test)"
   ]
  },
  {
   "cell_type": "markdown",
   "id": "17a1f477",
   "metadata": {},
   "source": [
    "Для дальнейшего подбора выберем SVC"
   ]
  },
  {
   "cell_type": "markdown",
   "id": "e75333ae",
   "metadata": {},
   "source": [
    "### Подбор гиперпараметров\n",
    "\n",
    "Попробуем подобрать размер словаря и параметры, чтобы улучшить качество модели.\n"
   ]
  },
  {
   "cell_type": "code",
   "execution_count": 30,
   "id": "3a6ffcf1",
   "metadata": {},
   "outputs": [
    {
     "name": "stdout",
     "output_type": "stream",
     "text": [
      "KMeans(n_clusters=20) 0.6785714285714286 {'model__C': 0.8}\n",
      "KMeans(n_clusters=30) 0.7023809523809523 {'model__C': 1.6}\n",
      "KMeans(n_clusters=40) 0.7182539682539683 {'model__C': 1.6}\n",
      "KMeans(n_clusters=50) 0.7063492063492064 {'model__C': 1.6}\n",
      "KMeans(n_clusters=60) 0.6884920634920635 {'model__C': 0.8}\n",
      "KMeans(n_clusters=70) 0.7103174603174603 {'model__C': 1.6}\n",
      "KMeans(n_clusters=80) 0.6726190476190477 {'model__C': 0.8}\n",
      "KMeans(n_clusters=90) 0.7043650793650794 {'model__C': 1.6}\n",
      "KMeans(n_clusters=100) 0.6924603174603174 {'model__C': 1.6}\n"
     ]
    }
   ],
   "source": [
    "from sklearn.model_selection import GridSearchCV\n",
    "from sklearn.preprocessing import StandardScaler\n",
    "from sklearn.pipeline import Pipeline\n",
    "\n",
    "pipe_hp = Pipeline([\n",
    "    ('scaler', StandardScaler()),\n",
    "    ('model', SVC())])\n",
    "\n",
    "\n",
    "clfs = []\n",
    "for n in range(20, 110, 10):\n",
    "    clf = KMeans(n_clusters=n)\n",
    "    clf.fit(X_hog_train)\n",
    "    clfs.append(clf)\n",
    "\n",
    "for clf in clfs:\n",
    "    X_train, y_train = create_xy_data(df_train, clf)\n",
    "    \n",
    "    gs = GridSearchCV(pipe_hp,\n",
    "                     param_grid={\"model__C\": [0.8 * x for x in range(1, 3)]})\n",
    "    gs.fit(X_train, y_train)\n",
    "    \n",
    "    X_val, y_val = create_xy_data(df_val, clf)\n",
    "    print(clf, accuracy_score(y_val, gs.predict(X_val)), gs.best_params_)"
   ]
  },
  {
   "cell_type": "markdown",
   "id": "06820287",
   "metadata": {},
   "source": [
    "Значения accuracy довольно высокие, но эта оценка завышена из-за специфики данных - у нас очень много аугментированных изображений, и они попадают и в обучающую, и в валидационную выборки."
   ]
  },
  {
   "cell_type": "markdown",
   "id": "5173e284",
   "metadata": {},
   "source": [
    "Выберем размер словаря - 40 слов и снова посмотрим на результат на тестовых данных"
   ]
  },
  {
   "cell_type": "code",
   "execution_count": 32,
   "id": "2db1b8a8",
   "metadata": {},
   "outputs": [
    {
     "data": {
      "text/plain": [
       "0.7123015873015873"
      ]
     },
     "execution_count": 32,
     "metadata": {},
     "output_type": "execute_result"
    }
   ],
   "source": [
    "cls = KMeans(n_clusters=40)\n",
    "\n",
    "file_list_train = df_train[\"way\"].to_list()\n",
    "train_frames_data = all_frames(file_list_train)    \n",
    "X_hog_train = train_frames_data[[0, 1, 2, 3, 4, 5, 6, 7, 8]]\n",
    "\n",
    "cls.fit(X_hog_train)\n",
    "\n",
    "X_train, y_train = create_xy_data(df_train, cls)\n",
    "\n",
    "X_val, y_val = create_xy_data(df_val, cls)\n",
    "    \n",
    "pipe_1 = Pipeline([\n",
    "    ('scaler_', StandardScaler()),\n",
    "    ('model_', SVC(C=1.6))]).fit(X_train, y_train)\n",
    "accuracy_score(y_val, pipe_1.predict(X_val))"
   ]
  },
  {
   "cell_type": "code",
   "execution_count": 33,
   "id": "d3ab7073",
   "metadata": {},
   "outputs": [
    {
     "data": {
      "text/plain": [
       "0.4139194139194139"
      ]
     },
     "execution_count": 33,
     "metadata": {},
     "output_type": "execute_result"
    }
   ],
   "source": [
    "df_test = create_df('./Test')\n",
    "df_test[\"category\"] = df_test[\"category\"].map(slovar)\n",
    "\n",
    "X_test, y_test = create_xy_data(df_test, cls)\n",
    "\n",
    "accuracy_score(pipe_1.predict(X_test), y_test)"
   ]
  },
  {
   "cell_type": "markdown",
   "id": "952ffe71",
   "metadata": {},
   "source": [
    "Результаты примерно такие же, как и при словаре в 25 слов. \n",
    "\n",
    "Посмотрим, на каких объектах модель ошибается чаще."
   ]
  },
  {
   "cell_type": "code",
   "execution_count": 34,
   "id": "cf3bee27",
   "metadata": {},
   "outputs": [
    {
     "data": {
      "text/plain": [
       "y_true\n",
       "0    0.738095\n",
       "1    0.904762\n",
       "2    0.095238\n",
       "3    0.460317\n",
       "4    0.261905\n",
       "5    0.000000\n",
       "Name: match, dtype: float64"
      ]
     },
     "execution_count": 34,
     "metadata": {},
     "output_type": "execute_result"
    }
   ],
   "source": [
    "predict = pipe_1.predict(X_test)\n",
    "test_result = pd.DataFrame(data = np.array([y_test, predict]).T,\n",
    "                           columns = [\"y_true\", \"y_predict\"])\n",
    "\n",
    "test_result[\"match\"] = (test_result[\"y_true\"] == test_result[\"y_predict\"])\n",
    "test_result.groupby(\"y_true\")[\"match\"].mean()"
   ]
  },
  {
   "cell_type": "code",
   "execution_count": 35,
   "id": "7cc14aa2",
   "metadata": {},
   "outputs": [
    {
     "data": {
      "text/plain": [
       "{'plate': 0, 'cup': 1, 'fork': 2, 'knife': 3, 'spoon': 4, 'glass': 5}"
      ]
     },
     "execution_count": 35,
     "metadata": {},
     "output_type": "execute_result"
    }
   ],
   "source": [
    "slovar"
   ]
  },
  {
   "cell_type": "markdown",
   "id": "501d60db",
   "metadata": {},
   "source": [
    "Лучше всего дело обстоит с тарелками и чашками. Хуже всего - с вилками и стаканами."
   ]
  },
  {
   "cell_type": "code",
   "execution_count": 36,
   "id": "bf962d8d",
   "metadata": {},
   "outputs": [
    {
     "data": {
      "text/html": [
       "<div>\n",
       "<style scoped>\n",
       "    .dataframe tbody tr th:only-of-type {\n",
       "        vertical-align: middle;\n",
       "    }\n",
       "\n",
       "    .dataframe tbody tr th {\n",
       "        vertical-align: top;\n",
       "    }\n",
       "\n",
       "    .dataframe thead th {\n",
       "        text-align: right;\n",
       "    }\n",
       "</style>\n",
       "<table border=\"1\" class=\"dataframe\">\n",
       "  <thead>\n",
       "    <tr style=\"text-align: right;\">\n",
       "      <th></th>\n",
       "      <th></th>\n",
       "      <th>match</th>\n",
       "    </tr>\n",
       "    <tr>\n",
       "      <th>y_true</th>\n",
       "      <th>y_predict</th>\n",
       "      <th></th>\n",
       "    </tr>\n",
       "  </thead>\n",
       "  <tbody>\n",
       "    <tr>\n",
       "      <th rowspan=\"4\" valign=\"top\">0</th>\n",
       "      <th>0</th>\n",
       "      <td>31</td>\n",
       "    </tr>\n",
       "    <tr>\n",
       "      <th>1</th>\n",
       "      <td>8</td>\n",
       "    </tr>\n",
       "    <tr>\n",
       "      <th>3</th>\n",
       "      <td>1</td>\n",
       "    </tr>\n",
       "    <tr>\n",
       "      <th>4</th>\n",
       "      <td>2</td>\n",
       "    </tr>\n",
       "    <tr>\n",
       "      <th rowspan=\"2\" valign=\"top\">1</th>\n",
       "      <th>0</th>\n",
       "      <td>4</td>\n",
       "    </tr>\n",
       "    <tr>\n",
       "      <th>1</th>\n",
       "      <td>38</td>\n",
       "    </tr>\n",
       "    <tr>\n",
       "      <th rowspan=\"5\" valign=\"top\">2</th>\n",
       "      <th>0</th>\n",
       "      <td>12</td>\n",
       "    </tr>\n",
       "    <tr>\n",
       "      <th>1</th>\n",
       "      <td>5</td>\n",
       "    </tr>\n",
       "    <tr>\n",
       "      <th>2</th>\n",
       "      <td>4</td>\n",
       "    </tr>\n",
       "    <tr>\n",
       "      <th>3</th>\n",
       "      <td>14</td>\n",
       "    </tr>\n",
       "    <tr>\n",
       "      <th>4</th>\n",
       "      <td>7</td>\n",
       "    </tr>\n",
       "    <tr>\n",
       "      <th rowspan=\"5\" valign=\"top\">3</th>\n",
       "      <th>0</th>\n",
       "      <td>9</td>\n",
       "    </tr>\n",
       "    <tr>\n",
       "      <th>1</th>\n",
       "      <td>10</td>\n",
       "    </tr>\n",
       "    <tr>\n",
       "      <th>2</th>\n",
       "      <td>5</td>\n",
       "    </tr>\n",
       "    <tr>\n",
       "      <th>3</th>\n",
       "      <td>29</td>\n",
       "    </tr>\n",
       "    <tr>\n",
       "      <th>4</th>\n",
       "      <td>10</td>\n",
       "    </tr>\n",
       "    <tr>\n",
       "      <th rowspan=\"5\" valign=\"top\">4</th>\n",
       "      <th>0</th>\n",
       "      <td>7</td>\n",
       "    </tr>\n",
       "    <tr>\n",
       "      <th>1</th>\n",
       "      <td>5</td>\n",
       "    </tr>\n",
       "    <tr>\n",
       "      <th>2</th>\n",
       "      <td>3</td>\n",
       "    </tr>\n",
       "    <tr>\n",
       "      <th>3</th>\n",
       "      <td>16</td>\n",
       "    </tr>\n",
       "    <tr>\n",
       "      <th>4</th>\n",
       "      <td>11</td>\n",
       "    </tr>\n",
       "    <tr>\n",
       "      <th rowspan=\"4\" valign=\"top\">5</th>\n",
       "      <th>0</th>\n",
       "      <td>6</td>\n",
       "    </tr>\n",
       "    <tr>\n",
       "      <th>1</th>\n",
       "      <td>15</td>\n",
       "    </tr>\n",
       "    <tr>\n",
       "      <th>3</th>\n",
       "      <td>16</td>\n",
       "    </tr>\n",
       "    <tr>\n",
       "      <th>4</th>\n",
       "      <td>5</td>\n",
       "    </tr>\n",
       "  </tbody>\n",
       "</table>\n",
       "</div>"
      ],
      "text/plain": [
       "                  match\n",
       "y_true y_predict       \n",
       "0      0             31\n",
       "       1              8\n",
       "       3              1\n",
       "       4              2\n",
       "1      0              4\n",
       "       1             38\n",
       "2      0             12\n",
       "       1              5\n",
       "       2              4\n",
       "       3             14\n",
       "       4              7\n",
       "3      0              9\n",
       "       1             10\n",
       "       2              5\n",
       "       3             29\n",
       "       4             10\n",
       "4      0              7\n",
       "       1              5\n",
       "       2              3\n",
       "       3             16\n",
       "       4             11\n",
       "5      0              6\n",
       "       1             15\n",
       "       3             16\n",
       "       4              5"
      ]
     },
     "execution_count": 36,
     "metadata": {},
     "output_type": "execute_result"
    }
   ],
   "source": [
    "test_result.groupby([\"y_true\", \"y_predict\"]).count()"
   ]
  },
  {
   "cell_type": "markdown",
   "id": "2b4cca59",
   "metadata": {},
   "source": [
    "Чаще всего модель путает вилки с тарелками, а стаканы - с ножами. "
   ]
  },
  {
   "cell_type": "markdown",
   "id": "542f5e6b",
   "metadata": {},
   "source": [
    "## Bag of words для сегментированной картинки"
   ]
  },
  {
   "cell_type": "markdown",
   "id": "40f2131b",
   "metadata": {},
   "source": [
    "Для построения модели для сегментировнных изображений нужно раскомментить функцию adaptiveThreshold в двух местах)\n",
    "Остальная процедура аналогичная.\n",
    "\n",
    "При работе с сегментировнными изображениями качество модели немного лучше - на тестовых данных accuracy 0.4375. Но тоже не слишком высокое."
   ]
  },
  {
   "cell_type": "code",
   "execution_count": null,
   "id": "23e87cb6",
   "metadata": {},
   "outputs": [],
   "source": []
  }
 ],
 "metadata": {
  "kernelspec": {
   "display_name": "Python 3 (ipykernel)",
   "language": "python",
   "name": "python3"
  },
  "language_info": {
   "codemirror_mode": {
    "name": "ipython",
    "version": 3
   },
   "file_extension": ".py",
   "mimetype": "text/x-python",
   "name": "python",
   "nbconvert_exporter": "python",
   "pygments_lexer": "ipython3",
   "version": "3.8.10"
  }
 },
 "nbformat": 4,
 "nbformat_minor": 5
}
